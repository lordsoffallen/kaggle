{
 "cells": [
  {
   "cell_type": "markdown",
   "id": "f2322dbb",
   "metadata": {
    "papermill": {
     "duration": 0.023914,
     "end_time": "2023-12-26T16:49:12.379650",
     "exception": false,
     "start_time": "2023-12-26T16:49:12.355736",
     "status": "completed"
    },
    "tags": []
   },
   "source": [
    "# Loading Data"
   ]
  },
  {
   "cell_type": "code",
   "execution_count": 1,
   "id": "fb8fc149",
   "metadata": {
    "execution": {
     "iopub.execute_input": "2023-12-26T16:49:12.430975Z",
     "iopub.status.busy": "2023-12-26T16:49:12.430149Z",
     "iopub.status.idle": "2023-12-26T16:49:40.357594Z",
     "shell.execute_reply": "2023-12-26T16:49:40.356422Z"
    },
    "papermill": {
     "duration": 27.956518,
     "end_time": "2023-12-26T16:49:40.360239",
     "exception": false,
     "start_time": "2023-12-26T16:49:12.403721",
     "status": "completed"
    },
    "tags": []
   },
   "outputs": [
    {
     "data": {
      "text/html": [
       "<div>\n",
       "<style scoped>\n",
       "    .dataframe tbody tr th:only-of-type {\n",
       "        vertical-align: middle;\n",
       "    }\n",
       "\n",
       "    .dataframe tbody tr th {\n",
       "        vertical-align: top;\n",
       "    }\n",
       "\n",
       "    .dataframe thead th {\n",
       "        text-align: right;\n",
       "    }\n",
       "</style>\n",
       "<table border=\"1\" class=\"dataframe\">\n",
       "  <thead>\n",
       "    <tr style=\"text-align: right;\">\n",
       "      <th></th>\n",
       "      <th>id</th>\n",
       "      <th>subreddit</th>\n",
       "      <th>title</th>\n",
       "      <th>selftext</th>\n",
       "      <th>category_1</th>\n",
       "      <th>category_2</th>\n",
       "      <th>category_3</th>\n",
       "      <th>in_data</th>\n",
       "      <th>reason_for_exclusion</th>\n",
       "    </tr>\n",
       "  </thead>\n",
       "  <tbody>\n",
       "    <tr>\n",
       "      <th>0</th>\n",
       "      <td>6d8knd</td>\n",
       "      <td>talesfromtechsupport</td>\n",
       "      <td>Remember your command line switches...</td>\n",
       "      <td>Hi there,  &lt;lb&gt;The usual. Long time lerker, fi...</td>\n",
       "      <td>writing/stories</td>\n",
       "      <td>tech support</td>\n",
       "      <td>NaN</td>\n",
       "      <td>True</td>\n",
       "      <td>NaN</td>\n",
       "    </tr>\n",
       "    <tr>\n",
       "      <th>1</th>\n",
       "      <td>58mbft</td>\n",
       "      <td>teenmom</td>\n",
       "      <td>So what was Matt \"addicted\" to?</td>\n",
       "      <td>Did he ever say what his addiction was or is h...</td>\n",
       "      <td>tv_show</td>\n",
       "      <td>teen mom</td>\n",
       "      <td>NaN</td>\n",
       "      <td>True</td>\n",
       "      <td>NaN</td>\n",
       "    </tr>\n",
       "    <tr>\n",
       "      <th>2</th>\n",
       "      <td>8f73s7</td>\n",
       "      <td>Harley</td>\n",
       "      <td>No Club Colors</td>\n",
       "      <td>Funny story. I went to college in Las Vegas. T...</td>\n",
       "      <td>autos</td>\n",
       "      <td>harley davidson</td>\n",
       "      <td>NaN</td>\n",
       "      <td>True</td>\n",
       "      <td>NaN</td>\n",
       "    </tr>\n",
       "    <tr>\n",
       "      <th>3</th>\n",
       "      <td>6ti6re</td>\n",
       "      <td>ringdoorbell</td>\n",
       "      <td>Not door bell, but floodlight mount height.</td>\n",
       "      <td>I know this is a sub for the 'Ring Doorbell' b...</td>\n",
       "      <td>hardware/tools</td>\n",
       "      <td>doorbells</td>\n",
       "      <td>NaN</td>\n",
       "      <td>True</td>\n",
       "      <td>NaN</td>\n",
       "    </tr>\n",
       "    <tr>\n",
       "      <th>4</th>\n",
       "      <td>77sxto</td>\n",
       "      <td>intel</td>\n",
       "      <td>Worried about my 8700k small fft/data stress r...</td>\n",
       "      <td>Prime95 (regardless of version) and OCCT both,...</td>\n",
       "      <td>electronics</td>\n",
       "      <td>cpu</td>\n",
       "      <td>intel</td>\n",
       "      <td>True</td>\n",
       "      <td>NaN</td>\n",
       "    </tr>\n",
       "  </tbody>\n",
       "</table>\n",
       "</div>"
      ],
      "text/plain": [
       "       id             subreddit  \\\n",
       "0  6d8knd  talesfromtechsupport   \n",
       "1  58mbft               teenmom   \n",
       "2  8f73s7                Harley   \n",
       "3  6ti6re          ringdoorbell   \n",
       "4  77sxto                 intel   \n",
       "\n",
       "                                               title  \\\n",
       "0             Remember your command line switches...   \n",
       "1                    So what was Matt \"addicted\" to?   \n",
       "2                                     No Club Colors   \n",
       "3        Not door bell, but floodlight mount height.   \n",
       "4  Worried about my 8700k small fft/data stress r...   \n",
       "\n",
       "                                            selftext       category_1  \\\n",
       "0  Hi there,  <lb>The usual. Long time lerker, fi...  writing/stories   \n",
       "1  Did he ever say what his addiction was or is h...          tv_show   \n",
       "2  Funny story. I went to college in Las Vegas. T...            autos   \n",
       "3  I know this is a sub for the 'Ring Doorbell' b...   hardware/tools   \n",
       "4  Prime95 (regardless of version) and OCCT both,...      electronics   \n",
       "\n",
       "        category_2 category_3  in_data reason_for_exclusion  \n",
       "0     tech support        NaN     True                  NaN  \n",
       "1         teen mom        NaN     True                  NaN  \n",
       "2  harley davidson        NaN     True                  NaN  \n",
       "3        doorbells        NaN     True                  NaN  \n",
       "4              cpu      intel     True                  NaN  "
      ]
     },
     "execution_count": 1,
     "metadata": {},
     "output_type": "execute_result"
    }
   ],
   "source": [
    "import pandas as pd\n",
    "\n",
    "posts_df = pd.read_csv(\"../input/reddit-selfposts/rspct.tsv\", sep='\\t')\n",
    "subred_df = pd.read_csv(\"../input/reddit-selfposts/subreddit_info.csv\").set_index(['subreddit'])\n",
    "df = posts_df.join(subred_df, on='subreddit')\n",
    "df.head(5)"
   ]
  },
  {
   "cell_type": "code",
   "execution_count": 2,
   "id": "6882b1de",
   "metadata": {
    "execution": {
     "iopub.execute_input": "2023-12-26T16:49:40.412291Z",
     "iopub.status.busy": "2023-12-26T16:49:40.411481Z",
     "iopub.status.idle": "2023-12-26T16:49:41.278069Z",
     "shell.execute_reply": "2023-12-26T16:49:41.276853Z"
    },
    "papermill": {
     "duration": 0.896838,
     "end_time": "2023-12-26T16:49:41.280705",
     "exception": false,
     "start_time": "2023-12-26T16:49:40.383867",
     "status": "completed"
    },
    "tags": []
   },
   "outputs": [
    {
     "name": "stdout",
     "output_type": "stream",
     "text": [
      "<class 'pandas.core.frame.DataFrame'>\n",
      "RangeIndex: 1013000 entries, 0 to 1012999\n",
      "Data columns (total 9 columns):\n",
      " #   Column                Non-Null Count    Dtype \n",
      "---  ------                --------------    ----- \n",
      " 0   id                    1013000 non-null  object\n",
      " 1   subreddit             1013000 non-null  object\n",
      " 2   title                 1013000 non-null  object\n",
      " 3   selftext              1013000 non-null  object\n",
      " 4   category_1            1013000 non-null  object\n",
      " 5   category_2            1013000 non-null  object\n",
      " 6   category_3            136000 non-null   object\n",
      " 7   in_data               1013000 non-null  bool  \n",
      " 8   reason_for_exclusion  0 non-null        object\n",
      "dtypes: bool(1), object(8)\n",
      "memory usage: 62.8+ MB\n"
     ]
    }
   ],
   "source": [
    "df.info()"
   ]
  },
  {
   "cell_type": "markdown",
   "id": "752bba08",
   "metadata": {
    "papermill": {
     "duration": 0.024281,
     "end_time": "2023-12-26T16:49:41.330053",
     "exception": false,
     "start_time": "2023-12-26T16:49:41.305772",
     "status": "completed"
    },
    "tags": []
   },
   "source": [
    "## Standardizing Attribute Names"
   ]
  },
  {
   "cell_type": "code",
   "execution_count": 3,
   "id": "9db46e8a",
   "metadata": {
    "execution": {
     "iopub.execute_input": "2023-12-26T16:49:41.381173Z",
     "iopub.status.busy": "2023-12-26T16:49:41.380679Z",
     "iopub.status.idle": "2023-12-26T16:49:42.208062Z",
     "shell.execute_reply": "2023-12-26T16:49:42.206515Z"
    },
    "papermill": {
     "duration": 0.856254,
     "end_time": "2023-12-26T16:49:42.210800",
     "exception": false,
     "start_time": "2023-12-26T16:49:41.354546",
     "status": "completed"
    },
    "tags": []
   },
   "outputs": [
    {
     "data": {
      "text/html": [
       "<div>\n",
       "<style scoped>\n",
       "    .dataframe tbody tr th:only-of-type {\n",
       "        vertical-align: middle;\n",
       "    }\n",
       "\n",
       "    .dataframe tbody tr th {\n",
       "        vertical-align: top;\n",
       "    }\n",
       "\n",
       "    .dataframe thead th {\n",
       "        text-align: right;\n",
       "    }\n",
       "</style>\n",
       "<table border=\"1\" class=\"dataframe\">\n",
       "  <thead>\n",
       "    <tr style=\"text-align: right;\">\n",
       "      <th></th>\n",
       "      <th>id</th>\n",
       "      <th>subreddit</th>\n",
       "      <th>title</th>\n",
       "      <th>text</th>\n",
       "      <th>category</th>\n",
       "      <th>subcategory</th>\n",
       "    </tr>\n",
       "  </thead>\n",
       "  <tbody>\n",
       "    <tr>\n",
       "      <th>0</th>\n",
       "      <td>6d8knd</td>\n",
       "      <td>talesfromtechsupport</td>\n",
       "      <td>Remember your command line switches...</td>\n",
       "      <td>Hi there,  &lt;lb&gt;The usual. Long time lerker, fi...</td>\n",
       "      <td>writing/stories</td>\n",
       "      <td>tech support</td>\n",
       "    </tr>\n",
       "    <tr>\n",
       "      <th>1</th>\n",
       "      <td>58mbft</td>\n",
       "      <td>teenmom</td>\n",
       "      <td>So what was Matt \"addicted\" to?</td>\n",
       "      <td>Did he ever say what his addiction was or is h...</td>\n",
       "      <td>tv_show</td>\n",
       "      <td>teen mom</td>\n",
       "    </tr>\n",
       "    <tr>\n",
       "      <th>2</th>\n",
       "      <td>8f73s7</td>\n",
       "      <td>Harley</td>\n",
       "      <td>No Club Colors</td>\n",
       "      <td>Funny story. I went to college in Las Vegas. T...</td>\n",
       "      <td>autos</td>\n",
       "      <td>harley davidson</td>\n",
       "    </tr>\n",
       "    <tr>\n",
       "      <th>3</th>\n",
       "      <td>6ti6re</td>\n",
       "      <td>ringdoorbell</td>\n",
       "      <td>Not door bell, but floodlight mount height.</td>\n",
       "      <td>I know this is a sub for the 'Ring Doorbell' b...</td>\n",
       "      <td>hardware/tools</td>\n",
       "      <td>doorbells</td>\n",
       "    </tr>\n",
       "    <tr>\n",
       "      <th>4</th>\n",
       "      <td>77sxto</td>\n",
       "      <td>intel</td>\n",
       "      <td>Worried about my 8700k small fft/data stress r...</td>\n",
       "      <td>Prime95 (regardless of version) and OCCT both,...</td>\n",
       "      <td>electronics</td>\n",
       "      <td>cpu</td>\n",
       "    </tr>\n",
       "  </tbody>\n",
       "</table>\n",
       "</div>"
      ],
      "text/plain": [
       "       id             subreddit  \\\n",
       "0  6d8knd  talesfromtechsupport   \n",
       "1  58mbft               teenmom   \n",
       "2  8f73s7                Harley   \n",
       "3  6ti6re          ringdoorbell   \n",
       "4  77sxto                 intel   \n",
       "\n",
       "                                               title  \\\n",
       "0             Remember your command line switches...   \n",
       "1                    So what was Matt \"addicted\" to?   \n",
       "2                                     No Club Colors   \n",
       "3        Not door bell, but floodlight mount height.   \n",
       "4  Worried about my 8700k small fft/data stress r...   \n",
       "\n",
       "                                                text         category  \\\n",
       "0  Hi there,  <lb>The usual. Long time lerker, fi...  writing/stories   \n",
       "1  Did he ever say what his addiction was or is h...          tv_show   \n",
       "2  Funny story. I went to college in Las Vegas. T...            autos   \n",
       "3  I know this is a sub for the 'Ring Doorbell' b...   hardware/tools   \n",
       "4  Prime95 (regardless of version) and OCCT both,...      electronics   \n",
       "\n",
       "       subcategory  \n",
       "0     tech support  \n",
       "1         teen mom  \n",
       "2  harley davidson  \n",
       "3        doorbells  \n",
       "4              cpu  "
      ]
     },
     "execution_count": 3,
     "metadata": {},
     "output_type": "execute_result"
    }
   ],
   "source": [
    "column_mapping = {\n",
    "    'selftext': 'text',\n",
    "    'category_1': 'category',\n",
    "    'category_2': 'subcategory',\n",
    "}\n",
    "\n",
    "df = df.rename(columns=column_mapping)\n",
    "df.drop(columns=['category_3', 'in_data', 'reason_for_exclusion'], inplace=True)\n",
    "df.head(5)"
   ]
  },
  {
   "cell_type": "code",
   "execution_count": 4,
   "id": "b01908b6",
   "metadata": {
    "execution": {
     "iopub.execute_input": "2023-12-26T16:49:42.263152Z",
     "iopub.status.busy": "2023-12-26T16:49:42.262665Z",
     "iopub.status.idle": "2023-12-26T16:49:42.490050Z",
     "shell.execute_reply": "2023-12-26T16:49:42.488455Z"
    },
    "papermill": {
     "duration": 0.257353,
     "end_time": "2023-12-26T16:49:42.493476",
     "exception": false,
     "start_time": "2023-12-26T16:49:42.236123",
     "status": "completed"
    },
    "tags": []
   },
   "outputs": [
    {
     "name": "stdout",
     "output_type": "stream",
     "text": [
      "<class 'pandas.core.frame.DataFrame'>\n",
      "Index: 20000 entries, 2 to 1012979\n",
      "Data columns (total 6 columns):\n",
      " #   Column       Non-Null Count  Dtype \n",
      "---  ------       --------------  ----- \n",
      " 0   id           20000 non-null  object\n",
      " 1   subreddit    20000 non-null  object\n",
      " 2   title        20000 non-null  object\n",
      " 3   text         20000 non-null  object\n",
      " 4   category     20000 non-null  object\n",
      " 5   subcategory  20000 non-null  object\n",
      "dtypes: object(6)\n",
      "memory usage: 1.1+ MB\n"
     ]
    }
   ],
   "source": [
    "# Limit the data to autos category\n",
    "df = df[df['category'] == 'autos']\n",
    "df.info()"
   ]
  },
  {
   "cell_type": "markdown",
   "id": "68447f22",
   "metadata": {
    "papermill": {
     "duration": 0.024106,
     "end_time": "2023-12-26T16:49:42.542331",
     "exception": false,
     "start_time": "2023-12-26T16:49:42.518225",
     "status": "completed"
    },
    "tags": []
   },
   "source": [
    "# Cleaning Text Data"
   ]
  },
  {
   "cell_type": "markdown",
   "id": "64ce63f5",
   "metadata": {
    "papermill": {
     "duration": 0.02441,
     "end_time": "2023-12-26T16:49:42.591889",
     "exception": false,
     "start_time": "2023-12-26T16:49:42.567479",
     "status": "completed"
    },
    "tags": []
   },
   "source": [
    "## Identify Noise with Regular Expressions"
   ]
  },
  {
   "cell_type": "code",
   "execution_count": 5,
   "id": "8423fc6c",
   "metadata": {
    "execution": {
     "iopub.execute_input": "2023-12-26T16:49:42.710788Z",
     "iopub.status.busy": "2023-12-26T16:49:42.710287Z",
     "iopub.status.idle": "2023-12-26T16:49:42.718928Z",
     "shell.execute_reply": "2023-12-26T16:49:42.717570Z"
    },
    "papermill": {
     "duration": 0.039889,
     "end_time": "2023-12-26T16:49:42.721697",
     "exception": false,
     "start_time": "2023-12-26T16:49:42.681808",
     "status": "completed"
    },
    "tags": []
   },
   "outputs": [],
   "source": [
    "import re\n",
    "\n",
    "\n",
    "RE_SUSPICIOUS = re.compile(r'[&#<>{}\\[\\]\\\\]')\n",
    "\n",
    "def impurity(text: str, min_len=10):\n",
    "    \"\"\" Returns the share of suspicious characters in a text \"\"\"\n",
    "    \n",
    "    return 0 if text is None or len(text) < min_len else len(RE_SUSPICIOUS.findall(text)) / len(text)"
   ]
  },
  {
   "cell_type": "code",
   "execution_count": 6,
   "id": "c9be019c",
   "metadata": {
    "execution": {
     "iopub.execute_input": "2023-12-26T16:49:42.777178Z",
     "iopub.status.busy": "2023-12-26T16:49:42.776688Z",
     "iopub.status.idle": "2023-12-26T16:49:43.328814Z",
     "shell.execute_reply": "2023-12-26T16:49:43.327399Z"
    },
    "papermill": {
     "duration": 0.58381,
     "end_time": "2023-12-26T16:49:43.331874",
     "exception": false,
     "start_time": "2023-12-26T16:49:42.748064",
     "status": "completed"
    },
    "tags": []
   },
   "outputs": [
    {
     "data": {
      "application/vnd.jupyter.widget-view+json": {
       "model_id": "75b0a6859f73440090da8c9378fa73fc",
       "version_major": 2,
       "version_minor": 0
      },
      "text/plain": [
       "  0%|          | 0/20000 [00:00<?, ?it/s]"
      ]
     },
     "metadata": {},
     "output_type": "display_data"
    },
    {
     "data": {
      "text/html": [
       "<div>\n",
       "<style scoped>\n",
       "    .dataframe tbody tr th:only-of-type {\n",
       "        vertical-align: middle;\n",
       "    }\n",
       "\n",
       "    .dataframe tbody tr th {\n",
       "        vertical-align: top;\n",
       "    }\n",
       "\n",
       "    .dataframe thead th {\n",
       "        text-align: right;\n",
       "    }\n",
       "</style>\n",
       "<table border=\"1\" class=\"dataframe\">\n",
       "  <thead>\n",
       "    <tr style=\"text-align: right;\">\n",
       "      <th></th>\n",
       "      <th>text</th>\n",
       "      <th>impurity</th>\n",
       "    </tr>\n",
       "  </thead>\n",
       "  <tbody>\n",
       "    <tr>\n",
       "      <th>997126</th>\n",
       "      <td>Looking at buying a 335i with 39k miles and 11...</td>\n",
       "      <td>0.214716</td>\n",
       "    </tr>\n",
       "    <tr>\n",
       "      <th>626478</th>\n",
       "      <td>I'm looking to lease an a4 premium plus automa...</td>\n",
       "      <td>0.165099</td>\n",
       "    </tr>\n",
       "    <tr>\n",
       "      <th>138199</th>\n",
       "      <td>Breakdown below:&lt;lb&gt;&lt;lb&gt;Elantra GT&lt;lb&gt;&lt;lb&gt;2.0L...</td>\n",
       "      <td>0.139130</td>\n",
       "    </tr>\n",
       "    <tr>\n",
       "      <th>647490</th>\n",
       "      <td>Bulbs Needed:&lt;lb&gt;&lt;lb&gt;&lt;lb&gt;**194 LED BULB x8**&lt;l...</td>\n",
       "      <td>0.132411</td>\n",
       "    </tr>\n",
       "    <tr>\n",
       "      <th>542876</th>\n",
       "      <td>I currently have a deposit on a 2013 335is (CP...</td>\n",
       "      <td>0.129317</td>\n",
       "    </tr>\n",
       "  </tbody>\n",
       "</table>\n",
       "</div>"
      ],
      "text/plain": [
       "                                                     text  impurity\n",
       "997126  Looking at buying a 335i with 39k miles and 11...  0.214716\n",
       "626478  I'm looking to lease an a4 premium plus automa...  0.165099\n",
       "138199  Breakdown below:<lb><lb>Elantra GT<lb><lb>2.0L...  0.139130\n",
       "647490  Bulbs Needed:<lb><lb><lb>**194 LED BULB x8**<l...  0.132411\n",
       "542876  I currently have a deposit on a 2013 335is (CP...  0.129317"
      ]
     },
     "execution_count": 6,
     "metadata": {},
     "output_type": "execute_result"
    }
   ],
   "source": [
    "from tqdm.notebook import tqdm\n",
    "\n",
    "\n",
    "tqdm.pandas()\n",
    "\n",
    "df['impurity'] = df['text'].progress_apply(impurity , min_len=10)\n",
    "\n",
    "df[['text', 'impurity']].sort_values(by='impurity', ascending=False).head()"
   ]
  },
  {
   "cell_type": "code",
   "execution_count": 7,
   "id": "dd5486b7",
   "metadata": {
    "execution": {
     "iopub.execute_input": "2023-12-26T16:49:43.386942Z",
     "iopub.status.busy": "2023-12-26T16:49:43.386468Z",
     "iopub.status.idle": "2023-12-26T16:49:43.395470Z",
     "shell.execute_reply": "2023-12-26T16:49:43.394029Z"
    },
    "papermill": {
     "duration": 0.041081,
     "end_time": "2023-12-26T16:49:43.398548",
     "exception": false,
     "start_time": "2023-12-26T16:49:43.357467",
     "status": "completed"
    },
    "tags": []
   },
   "outputs": [],
   "source": [
    "from typing import Callable\n",
    "from collections import Counter\n",
    "\n",
    "\n",
    "def count_words(ds: pd.Series, preprocess: Callable = None, min_freq: int = 2):\n",
    "\n",
    "    # process tokens and update counter\n",
    "    def update(doc):\n",
    "        tokens = doc if preprocess is None else preprocess(doc)\n",
    "        counter.update(tokens)\n",
    "\n",
    "    # create counter and run through all data\n",
    "    counter = Counter()\n",
    "    ds.progress_map(update)\n",
    "\n",
    "    # transform counter into data frame\n",
    "    freq_df = pd.DataFrame.from_dict(counter, orient='index', columns=['freq'])\n",
    "    freq_df = freq_df.query('freq >= @min_freq')\n",
    "    freq_df.index.name = 'token'\n",
    "    \n",
    "    return freq_df.sort_values('freq', ascending=False)"
   ]
  },
  {
   "cell_type": "code",
   "execution_count": 8,
   "id": "8dc20533",
   "metadata": {
    "execution": {
     "iopub.execute_input": "2023-12-26T16:49:43.453242Z",
     "iopub.status.busy": "2023-12-26T16:49:43.452378Z",
     "iopub.status.idle": "2023-12-26T16:49:43.691519Z",
     "shell.execute_reply": "2023-12-26T16:49:43.690165Z"
    },
    "papermill": {
     "duration": 0.270765,
     "end_time": "2023-12-26T16:49:43.695018",
     "exception": false,
     "start_time": "2023-12-26T16:49:43.424253",
     "status": "completed"
    },
    "tags": []
   },
   "outputs": [
    {
     "data": {
      "application/vnd.jupyter.widget-view+json": {
       "model_id": "458034fa89cc48dea14d757e6f633aa9",
       "version_major": 2,
       "version_minor": 0
      },
      "text/plain": [
       "  0%|          | 0/20000 [00:00<?, ?it/s]"
      ]
     },
     "metadata": {},
     "output_type": "display_data"
    },
    {
     "data": {
      "text/html": [
       "<div>\n",
       "<style scoped>\n",
       "    .dataframe tbody tr th:only-of-type {\n",
       "        vertical-align: middle;\n",
       "    }\n",
       "\n",
       "    .dataframe tbody tr th {\n",
       "        vertical-align: top;\n",
       "    }\n",
       "\n",
       "    .dataframe thead th {\n",
       "        text-align: right;\n",
       "    }\n",
       "</style>\n",
       "<table border=\"1\" class=\"dataframe\">\n",
       "  <thead>\n",
       "    <tr style=\"text-align: right;\">\n",
       "      <th></th>\n",
       "      <th>freq</th>\n",
       "    </tr>\n",
       "    <tr>\n",
       "      <th>token</th>\n",
       "      <th></th>\n",
       "    </tr>\n",
       "  </thead>\n",
       "  <tbody>\n",
       "    <tr>\n",
       "      <th>&lt;lb&gt;</th>\n",
       "      <td>100729</td>\n",
       "    </tr>\n",
       "    <tr>\n",
       "      <th>&lt;tab&gt;</th>\n",
       "      <td>642</td>\n",
       "    </tr>\n",
       "  </tbody>\n",
       "</table>\n",
       "</div>"
      ],
      "text/plain": [
       "         freq\n",
       "token        \n",
       "<lb>   100729\n",
       "<tab>     642"
      ]
     },
     "execution_count": 8,
     "metadata": {},
     "output_type": "execute_result"
    }
   ],
   "source": [
    "count_words(df['text'], preprocess=lambda t: re.findall(r'<[\\w/]*>', t))"
   ]
  },
  {
   "cell_type": "markdown",
   "id": "ee20b2c0",
   "metadata": {
    "papermill": {
     "duration": 0.028669,
     "end_time": "2023-12-26T16:49:43.751544",
     "exception": false,
     "start_time": "2023-12-26T16:49:43.722875",
     "status": "completed"
    },
    "tags": []
   },
   "source": [
    "It appears to be have two types of tokens which we can remove to improve our impurity "
   ]
  },
  {
   "cell_type": "markdown",
   "id": "08ad6ca8",
   "metadata": {
    "papermill": {
     "duration": 0.025992,
     "end_time": "2023-12-26T16:49:43.805299",
     "exception": false,
     "start_time": "2023-12-26T16:49:43.779307",
     "status": "completed"
    },
    "tags": []
   },
   "source": [
    "## Removal with Regular Expressions"
   ]
  },
  {
   "cell_type": "code",
   "execution_count": 9,
   "id": "05af4ee1",
   "metadata": {
    "execution": {
     "iopub.execute_input": "2023-12-26T16:49:43.860714Z",
     "iopub.status.busy": "2023-12-26T16:49:43.860269Z",
     "iopub.status.idle": "2023-12-26T16:49:43.868681Z",
     "shell.execute_reply": "2023-12-26T16:49:43.867472Z"
    },
    "papermill": {
     "duration": 0.039767,
     "end_time": "2023-12-26T16:49:43.871300",
     "exception": false,
     "start_time": "2023-12-26T16:49:43.831533",
     "status": "completed"
    },
    "tags": []
   },
   "outputs": [],
   "source": [
    "def clean(text):\n",
    "    import html\n",
    "    \n",
    "    # convert html escapes like &amp; to characters.\n",
    "    text = html.unescape(text)\n",
    "    \n",
    "    # tags like <tab>\n",
    "    text = re.sub(r'<[^<>]*>', ' ', text)\n",
    "    \n",
    "    # markdown URLs like [Some text](https://....)\n",
    "    text = re.sub(r'\\[([^\\[\\]]*)\\]\\([^\\(\\)]*\\)', r'\\1', text)\n",
    "    \n",
    "    # text or code in brackets like [0]\n",
    "    text = re.sub(r'\\[[^\\[\\]]*\\]', ' ', text)\n",
    "    \n",
    "    # standalone sequences of specials, matches &# but not #cool\n",
    "    text = re.sub(r'(?:^|\\s)[&#<>{}\\[\\]+|\\\\:-]{1,}(?:\\s|$)', ' ', text)\n",
    "    \n",
    "    # standalone sequences of hyphens like --- or ==\n",
    "    text = re.sub(r'(?:^|\\s)[\\-=\\+]{2,}(?:\\s|$)', ' ', text)\n",
    "    \n",
    "    # sequences of white spaces\n",
    "    text = re.sub(r'\\s+', ' ', text)\n",
    "    \n",
    "    return text.strip()"
   ]
  },
  {
   "cell_type": "code",
   "execution_count": 10,
   "id": "58589484",
   "metadata": {
    "execution": {
     "iopub.execute_input": "2023-12-26T16:49:43.926597Z",
     "iopub.status.busy": "2023-12-26T16:49:43.926168Z",
     "iopub.status.idle": "2023-12-26T16:49:48.526539Z",
     "shell.execute_reply": "2023-12-26T16:49:48.525164Z"
    },
    "papermill": {
     "duration": 4.631193,
     "end_time": "2023-12-26T16:49:48.529130",
     "exception": false,
     "start_time": "2023-12-26T16:49:43.897937",
     "status": "completed"
    },
    "tags": []
   },
   "outputs": [
    {
     "data": {
      "application/vnd.jupyter.widget-view+json": {
       "model_id": "87ba95ed35ae4b9387c1b9a9789b223f",
       "version_major": 2,
       "version_minor": 0
      },
      "text/plain": [
       "  0%|          | 0/20000 [00:00<?, ?it/s]"
      ]
     },
     "metadata": {},
     "output_type": "display_data"
    },
    {
     "data": {
      "application/vnd.jupyter.widget-view+json": {
       "model_id": "bf6c60f5ef7e4f7daa2f97663ee1673e",
       "version_major": 2,
       "version_minor": 0
      },
      "text/plain": [
       "  0%|          | 0/20000 [00:00<?, ?it/s]"
      ]
     },
     "metadata": {},
     "output_type": "display_data"
    },
    {
     "data": {
      "text/html": [
       "<div>\n",
       "<style scoped>\n",
       "    .dataframe tbody tr th:only-of-type {\n",
       "        vertical-align: middle;\n",
       "    }\n",
       "\n",
       "    .dataframe tbody tr th {\n",
       "        vertical-align: top;\n",
       "    }\n",
       "\n",
       "    .dataframe thead th {\n",
       "        text-align: right;\n",
       "    }\n",
       "</style>\n",
       "<table border=\"1\" class=\"dataframe\">\n",
       "  <thead>\n",
       "    <tr style=\"text-align: right;\">\n",
       "      <th></th>\n",
       "      <th>text</th>\n",
       "      <th>impurity</th>\n",
       "    </tr>\n",
       "  </thead>\n",
       "  <tbody>\n",
       "    <tr>\n",
       "      <th>711988</th>\n",
       "      <td>Mustang 2018, 2019, or 2020? Must Haves!!&lt;lb&gt;&lt;...</td>\n",
       "      <td>0.030864</td>\n",
       "    </tr>\n",
       "    <tr>\n",
       "      <th>957625</th>\n",
       "      <td>At the dealership, they offered an option for ...</td>\n",
       "      <td>0.026455</td>\n",
       "    </tr>\n",
       "    <tr>\n",
       "      <th>836076</th>\n",
       "      <td>I am looking at four Caymans, all are in a sim...</td>\n",
       "      <td>0.024631</td>\n",
       "    </tr>\n",
       "    <tr>\n",
       "      <th>222061</th>\n",
       "      <td>Hello,&lt;lb&gt;&lt;lb&gt;I came across this great looking...</td>\n",
       "      <td>0.022762</td>\n",
       "    </tr>\n",
       "    <tr>\n",
       "      <th>947793</th>\n",
       "      <td>The Mazda 3 hatchback I'm looking at is a 2007...</td>\n",
       "      <td>0.022099</td>\n",
       "    </tr>\n",
       "  </tbody>\n",
       "</table>\n",
       "</div>"
      ],
      "text/plain": [
       "                                                     text  impurity\n",
       "711988  Mustang 2018, 2019, or 2020? Must Haves!!<lb><...  0.030864\n",
       "957625  At the dealership, they offered an option for ...  0.026455\n",
       "836076  I am looking at four Caymans, all are in a sim...  0.024631\n",
       "222061  Hello,<lb><lb>I came across this great looking...  0.022762\n",
       "947793  The Mazda 3 hatchback I'm looking at is a 2007...  0.022099"
      ]
     },
     "execution_count": 10,
     "metadata": {},
     "output_type": "execute_result"
    }
   ],
   "source": [
    "df['clean_text'] = df['text'].progress_map(clean)\n",
    "df['impurity'] = df['clean_text'].progress_apply(impurity, min_len=20)\n",
    "df[['text', 'impurity']].sort_values(by='impurity',ascending=False).head()"
   ]
  },
  {
   "cell_type": "markdown",
   "id": "619aa5ab",
   "metadata": {
    "papermill": {
     "duration": 0.026981,
     "end_time": "2023-12-26T16:49:48.583342",
     "exception": false,
     "start_time": "2023-12-26T16:49:48.556361",
     "status": "completed"
    },
    "tags": []
   },
   "source": [
    "## Character Normalization with textacy"
   ]
  },
  {
   "cell_type": "code",
   "execution_count": 11,
   "id": "a0bf0253",
   "metadata": {
    "execution": {
     "iopub.execute_input": "2023-12-26T16:49:48.640890Z",
     "iopub.status.busy": "2023-12-26T16:49:48.640491Z",
     "iopub.status.idle": "2023-12-26T16:50:06.920185Z",
     "shell.execute_reply": "2023-12-26T16:50:06.918232Z"
    },
    "papermill": {
     "duration": 18.311912,
     "end_time": "2023-12-26T16:50:06.923654",
     "exception": false,
     "start_time": "2023-12-26T16:49:48.611742",
     "status": "completed"
    },
    "tags": []
   },
   "outputs": [
    {
     "name": "stdout",
     "output_type": "stream",
     "text": [
      "Collecting textacy\r\n",
      "  Downloading textacy-0.13.0-py3-none-any.whl (210 kB)\r\n",
      "\u001b[2K     \u001b[90m━━━━━━━━━━━━━━━━━━━━━━━━━━━━━━━━━━━━━━━\u001b[0m \u001b[32m210.7/210.7 kB\u001b[0m \u001b[31m6.2 MB/s\u001b[0m eta \u001b[36m0:00:00\u001b[0m\r\n",
      "\u001b[?25hRequirement already satisfied: cachetools>=4.0.0 in /opt/conda/lib/python3.10/site-packages (from textacy) (4.2.4)\r\n",
      "Requirement already satisfied: catalogue~=2.0 in /opt/conda/lib/python3.10/site-packages (from textacy) (2.0.10)\r\n",
      "Requirement already satisfied: cytoolz>=0.10.1 in /opt/conda/lib/python3.10/site-packages (from textacy) (0.12.2)\r\n",
      "Collecting floret~=0.10.0 (from textacy)\r\n",
      "  Obtaining dependency information for floret~=0.10.0 from https://files.pythonhosted.org/packages/16/ee/388a5c76c9292f4bef85d7ef895005bb39a0899f8004e9daceb57b2bb0c9/floret-0.10.5-cp310-cp310-manylinux_2_17_x86_64.manylinux2014_x86_64.whl.metadata\r\n",
      "  Downloading floret-0.10.5-cp310-cp310-manylinux_2_17_x86_64.manylinux2014_x86_64.whl.metadata (3.1 kB)\r\n",
      "Collecting jellyfish>=0.8.0 (from textacy)\r\n",
      "  Obtaining dependency information for jellyfish>=0.8.0 from https://files.pythonhosted.org/packages/26/87/8d31224804af9dfa7b34657e083b67b24b322c41dd9464b52218c1a33890/jellyfish-1.0.3-cp310-cp310-manylinux_2_17_x86_64.manylinux2014_x86_64.whl.metadata\r\n",
      "  Downloading jellyfish-1.0.3-cp310-cp310-manylinux_2_17_x86_64.manylinux2014_x86_64.whl.metadata (2.5 kB)\r\n",
      "Requirement already satisfied: joblib>=0.13.0 in /opt/conda/lib/python3.10/site-packages (from textacy) (1.3.2)\r\n",
      "Requirement already satisfied: networkx>=2.7 in /opt/conda/lib/python3.10/site-packages (from textacy) (3.1)\r\n",
      "Requirement already satisfied: numpy>=1.17.0 in /opt/conda/lib/python3.10/site-packages (from textacy) (1.24.3)\r\n",
      "Collecting pyphen>=0.10.0 (from textacy)\r\n",
      "  Downloading pyphen-0.14.0-py3-none-any.whl (2.0 MB)\r\n",
      "\u001b[2K     \u001b[90m━━━━━━━━━━━━━━━━━━━━━━━━━━━━━━━━━━━━━━━━\u001b[0m \u001b[32m2.0/2.0 MB\u001b[0m \u001b[31m40.5 MB/s\u001b[0m eta \u001b[36m0:00:00\u001b[0m\r\n",
      "\u001b[?25hRequirement already satisfied: requests>=2.10.0 in /opt/conda/lib/python3.10/site-packages (from textacy) (2.31.0)\r\n",
      "Requirement already satisfied: scipy>=1.8.0 in /opt/conda/lib/python3.10/site-packages (from textacy) (1.11.4)\r\n",
      "Requirement already satisfied: scikit-learn>=1.0 in /opt/conda/lib/python3.10/site-packages (from textacy) (1.2.2)\r\n",
      "Requirement already satisfied: spacy~=3.0 in /opt/conda/lib/python3.10/site-packages (from textacy) (3.7.2)\r\n",
      "Requirement already satisfied: tqdm>=4.19.6 in /opt/conda/lib/python3.10/site-packages (from textacy) (4.66.1)\r\n",
      "Requirement already satisfied: toolz>=0.8.0 in /opt/conda/lib/python3.10/site-packages (from cytoolz>=0.10.1->textacy) (0.12.0)\r\n",
      "Requirement already satisfied: charset-normalizer<4,>=2 in /opt/conda/lib/python3.10/site-packages (from requests>=2.10.0->textacy) (3.2.0)\r\n",
      "Requirement already satisfied: idna<4,>=2.5 in /opt/conda/lib/python3.10/site-packages (from requests>=2.10.0->textacy) (3.4)\r\n",
      "Requirement already satisfied: urllib3<3,>=1.21.1 in /opt/conda/lib/python3.10/site-packages (from requests>=2.10.0->textacy) (1.26.15)\r\n",
      "Requirement already satisfied: certifi>=2017.4.17 in /opt/conda/lib/python3.10/site-packages (from requests>=2.10.0->textacy) (2023.11.17)\r\n",
      "Requirement already satisfied: threadpoolctl>=2.0.0 in /opt/conda/lib/python3.10/site-packages (from scikit-learn>=1.0->textacy) (3.2.0)\r\n",
      "Requirement already satisfied: spacy-legacy<3.1.0,>=3.0.11 in /opt/conda/lib/python3.10/site-packages (from spacy~=3.0->textacy) (3.0.12)\r\n",
      "Requirement already satisfied: spacy-loggers<2.0.0,>=1.0.0 in /opt/conda/lib/python3.10/site-packages (from spacy~=3.0->textacy) (1.0.5)\r\n",
      "Requirement already satisfied: murmurhash<1.1.0,>=0.28.0 in /opt/conda/lib/python3.10/site-packages (from spacy~=3.0->textacy) (1.0.10)\r\n",
      "Requirement already satisfied: cymem<2.1.0,>=2.0.2 in /opt/conda/lib/python3.10/site-packages (from spacy~=3.0->textacy) (2.0.8)\r\n",
      "Requirement already satisfied: preshed<3.1.0,>=3.0.2 in /opt/conda/lib/python3.10/site-packages (from spacy~=3.0->textacy) (3.0.9)\r\n",
      "Requirement already satisfied: thinc<8.3.0,>=8.1.8 in /opt/conda/lib/python3.10/site-packages (from spacy~=3.0->textacy) (8.2.1)\r\n",
      "Requirement already satisfied: wasabi<1.2.0,>=0.9.1 in /opt/conda/lib/python3.10/site-packages (from spacy~=3.0->textacy) (1.1.2)\r\n",
      "Requirement already satisfied: srsly<3.0.0,>=2.4.3 in /opt/conda/lib/python3.10/site-packages (from spacy~=3.0->textacy) (2.4.8)\r\n",
      "Requirement already satisfied: weasel<0.4.0,>=0.1.0 in /opt/conda/lib/python3.10/site-packages (from spacy~=3.0->textacy) (0.3.4)\r\n",
      "Requirement already satisfied: typer<0.10.0,>=0.3.0 in /opt/conda/lib/python3.10/site-packages (from spacy~=3.0->textacy) (0.9.0)\r\n",
      "Requirement already satisfied: smart-open<7.0.0,>=5.2.1 in /opt/conda/lib/python3.10/site-packages (from spacy~=3.0->textacy) (6.3.0)\r\n",
      "Requirement already satisfied: pydantic!=1.8,!=1.8.1,<3.0.0,>=1.7.4 in /opt/conda/lib/python3.10/site-packages (from spacy~=3.0->textacy) (1.10.12)\r\n",
      "Requirement already satisfied: jinja2 in /opt/conda/lib/python3.10/site-packages (from spacy~=3.0->textacy) (3.1.2)\r\n",
      "Requirement already satisfied: setuptools in /opt/conda/lib/python3.10/site-packages (from spacy~=3.0->textacy) (68.1.2)\r\n",
      "Requirement already satisfied: packaging>=20.0 in /opt/conda/lib/python3.10/site-packages (from spacy~=3.0->textacy) (21.3)\r\n",
      "Requirement already satisfied: langcodes<4.0.0,>=3.2.0 in /opt/conda/lib/python3.10/site-packages (from spacy~=3.0->textacy) (3.3.0)\r\n",
      "Requirement already satisfied: pyparsing!=3.0.5,>=2.0.2 in /opt/conda/lib/python3.10/site-packages (from packaging>=20.0->spacy~=3.0->textacy) (3.0.9)\r\n",
      "Requirement already satisfied: typing-extensions>=4.2.0 in /opt/conda/lib/python3.10/site-packages (from pydantic!=1.8,!=1.8.1,<3.0.0,>=1.7.4->spacy~=3.0->textacy) (4.5.0)\r\n",
      "Requirement already satisfied: blis<0.8.0,>=0.7.8 in /opt/conda/lib/python3.10/site-packages (from thinc<8.3.0,>=8.1.8->spacy~=3.0->textacy) (0.7.11)\r\n",
      "Requirement already satisfied: confection<1.0.0,>=0.0.1 in /opt/conda/lib/python3.10/site-packages (from thinc<8.3.0,>=8.1.8->spacy~=3.0->textacy) (0.1.4)\r\n",
      "Requirement already satisfied: click<9.0.0,>=7.1.1 in /opt/conda/lib/python3.10/site-packages (from typer<0.10.0,>=0.3.0->spacy~=3.0->textacy) (8.1.7)\r\n",
      "Requirement already satisfied: cloudpathlib<0.17.0,>=0.7.0 in /opt/conda/lib/python3.10/site-packages (from weasel<0.4.0,>=0.1.0->spacy~=3.0->textacy) (0.16.0)\r\n",
      "Requirement already satisfied: MarkupSafe>=2.0 in /opt/conda/lib/python3.10/site-packages (from jinja2->spacy~=3.0->textacy) (2.1.3)\r\n",
      "Downloading floret-0.10.5-cp310-cp310-manylinux_2_17_x86_64.manylinux2014_x86_64.whl (320 kB)\r\n",
      "\u001b[2K   \u001b[90m━━━━━━━━━━━━━━━━━━━━━━━━━━━━━━━━━━━━━━━━\u001b[0m \u001b[32m320.4/320.4 kB\u001b[0m \u001b[31m19.5 MB/s\u001b[0m eta \u001b[36m0:00:00\u001b[0m\r\n",
      "\u001b[?25hDownloading jellyfish-1.0.3-cp310-cp310-manylinux_2_17_x86_64.manylinux2014_x86_64.whl (1.2 MB)\r\n",
      "\u001b[2K   \u001b[90m━━━━━━━━━━━━━━━━━━━━━━━━━━━━━━━━━━━━━━━━\u001b[0m \u001b[32m1.2/1.2 MB\u001b[0m \u001b[31m47.9 MB/s\u001b[0m eta \u001b[36m0:00:00\u001b[0m\r\n",
      "\u001b[?25hInstalling collected packages: pyphen, jellyfish, floret, textacy\r\n",
      "Successfully installed floret-0.10.5 jellyfish-1.0.3 pyphen-0.14.0 textacy-0.13.0\r\n"
     ]
    }
   ],
   "source": [
    "! pip install textacy"
   ]
  },
  {
   "cell_type": "code",
   "execution_count": 12,
   "id": "94479c44",
   "metadata": {
    "execution": {
     "iopub.execute_input": "2023-12-26T16:50:06.988019Z",
     "iopub.status.busy": "2023-12-26T16:50:06.987493Z",
     "iopub.status.idle": "2023-12-26T16:50:16.342337Z",
     "shell.execute_reply": "2023-12-26T16:50:16.340811Z"
    },
    "papermill": {
     "duration": 9.391308,
     "end_time": "2023-12-26T16:50:16.345344",
     "exception": false,
     "start_time": "2023-12-26T16:50:06.954036",
     "status": "completed"
    },
    "tags": []
   },
   "outputs": [],
   "source": [
    "import textacy\n",
    "import textacy.preprocessing as tprep"
   ]
  },
  {
   "cell_type": "code",
   "execution_count": 13,
   "id": "37634546",
   "metadata": {
    "execution": {
     "iopub.execute_input": "2023-12-26T16:50:16.406175Z",
     "iopub.status.busy": "2023-12-26T16:50:16.405198Z",
     "iopub.status.idle": "2023-12-26T16:50:16.413517Z",
     "shell.execute_reply": "2023-12-26T16:50:16.412017Z"
    },
    "papermill": {
     "duration": 0.042038,
     "end_time": "2023-12-26T16:50:16.416163",
     "exception": false,
     "start_time": "2023-12-26T16:50:16.374125",
     "status": "completed"
    },
    "tags": []
   },
   "outputs": [],
   "source": [
    "def normalize(text):\n",
    "    text = tprep.normalize.hyphenated_words(text)\n",
    "    text = tprep.normalize.quotation_marks(text)\n",
    "    text = tprep.normalize.unicode(text)\n",
    "    text = tprep.remove.accents(text)\n",
    "    return text"
   ]
  },
  {
   "cell_type": "markdown",
   "id": "02da3c7b",
   "metadata": {
    "papermill": {
     "duration": 0.028184,
     "end_time": "2023-12-26T16:50:16.472851",
     "exception": false,
     "start_time": "2023-12-26T16:50:16.444667",
     "status": "completed"
    },
    "tags": []
   },
   "source": [
    "## Pattern-based Data Masking with textacy"
   ]
  },
  {
   "cell_type": "code",
   "execution_count": 14,
   "id": "8ed58fbe",
   "metadata": {
    "execution": {
     "iopub.execute_input": "2023-12-26T16:50:16.531875Z",
     "iopub.status.busy": "2023-12-26T16:50:16.531353Z",
     "iopub.status.idle": "2023-12-26T16:50:19.215466Z",
     "shell.execute_reply": "2023-12-26T16:50:19.213990Z"
    },
    "papermill": {
     "duration": 2.718415,
     "end_time": "2023-12-26T16:50:19.219688",
     "exception": false,
     "start_time": "2023-12-26T16:50:16.501273",
     "status": "completed"
    },
    "tags": []
   },
   "outputs": [
    {
     "data": {
      "application/vnd.jupyter.widget-view+json": {
       "model_id": "924a39e21825406094595c674008adee",
       "version_major": 2,
       "version_minor": 0
      },
      "text/plain": [
       "  0%|          | 0/20000 [00:00<?, ?it/s]"
      ]
     },
     "metadata": {},
     "output_type": "display_data"
    },
    {
     "data": {
      "text/html": [
       "<div>\n",
       "<style scoped>\n",
       "    .dataframe tbody tr th:only-of-type {\n",
       "        vertical-align: middle;\n",
       "    }\n",
       "\n",
       "    .dataframe tbody tr th {\n",
       "        vertical-align: top;\n",
       "    }\n",
       "\n",
       "    .dataframe thead th {\n",
       "        text-align: right;\n",
       "    }\n",
       "</style>\n",
       "<table border=\"1\" class=\"dataframe\">\n",
       "  <thead>\n",
       "    <tr style=\"text-align: right;\">\n",
       "      <th></th>\n",
       "      <th>freq</th>\n",
       "    </tr>\n",
       "    <tr>\n",
       "      <th>token</th>\n",
       "      <th></th>\n",
       "    </tr>\n",
       "  </thead>\n",
       "  <tbody>\n",
       "    <tr>\n",
       "      <th>www.getlowered.com</th>\n",
       "      <td>3</td>\n",
       "    </tr>\n",
       "    <tr>\n",
       "      <th>http://www.ecolamautomotive.com/#!2/kv7fq</th>\n",
       "      <td>2</td>\n",
       "    </tr>\n",
       "    <tr>\n",
       "      <th>https://www.reddit.com/r/Jeep/comments/4ux232/just_ordered_an_android_head_unit_joying_jeep/</th>\n",
       "      <td>2</td>\n",
       "    </tr>\n",
       "    <tr>\n",
       "      <th>http://imgur.com/gallery/XkRsw</th>\n",
       "      <td>2</td>\n",
       "    </tr>\n",
       "    <tr>\n",
       "      <th>https://www.youtube.com/watch?v=DuTI_jlA8v8</th>\n",
       "      <td>2</td>\n",
       "    </tr>\n",
       "  </tbody>\n",
       "</table>\n",
       "</div>"
      ],
      "text/plain": [
       "                                                    freq\n",
       "token                                                   \n",
       "www.getlowered.com                                     3\n",
       "http://www.ecolamautomotive.com/#!2/kv7fq              2\n",
       "https://www.reddit.com/r/Jeep/comments/4ux232/j...     2\n",
       "http://imgur.com/gallery/XkRsw                         2\n",
       "https://www.youtube.com/watch?v=DuTI_jlA8v8            2"
      ]
     },
     "execution_count": 14,
     "metadata": {},
     "output_type": "execute_result"
    }
   ],
   "source": [
    "from textacy.preprocessing.resources import RE_URL\n",
    "\n",
    "count_words(df['clean_text'], preprocess=RE_URL.findall).head()"
   ]
  },
  {
   "cell_type": "markdown",
   "id": "42a22356",
   "metadata": {
    "papermill": {
     "duration": 0.029524,
     "end_time": "2023-12-26T16:50:19.279360",
     "exception": false,
     "start_time": "2023-12-26T16:50:19.249836",
     "status": "completed"
    },
    "tags": []
   },
   "source": [
    "We can filter the/clean the urls and apply our normalize function to our text corpus"
   ]
  },
  {
   "cell_type": "code",
   "execution_count": 15,
   "id": "6a0a2171",
   "metadata": {
    "execution": {
     "iopub.execute_input": "2023-12-26T16:50:19.342943Z",
     "iopub.status.busy": "2023-12-26T16:50:19.342432Z",
     "iopub.status.idle": "2023-12-26T16:50:39.752158Z",
     "shell.execute_reply": "2023-12-26T16:50:39.750319Z"
    },
    "papermill": {
     "duration": 20.447574,
     "end_time": "2023-12-26T16:50:39.757410",
     "exception": false,
     "start_time": "2023-12-26T16:50:19.309836",
     "status": "completed"
    },
    "tags": []
   },
   "outputs": [
    {
     "data": {
      "application/vnd.jupyter.widget-view+json": {
       "model_id": "b5cb7e621c354d8baf200881a1c55959",
       "version_major": 2,
       "version_minor": 0
      },
      "text/plain": [
       "  0%|          | 0/20000 [00:00<?, ?it/s]"
      ]
     },
     "metadata": {},
     "output_type": "display_data"
    },
    {
     "data": {
      "application/vnd.jupyter.widget-view+json": {
       "model_id": "f15e6ae1abed456c8b27a58f20a8708a",
       "version_major": 2,
       "version_minor": 0
      },
      "text/plain": [
       "  0%|          | 0/20000 [00:00<?, ?it/s]"
      ]
     },
     "metadata": {},
     "output_type": "display_data"
    },
    {
     "data": {
      "text/html": [
       "<div>\n",
       "<style scoped>\n",
       "    .dataframe tbody tr th:only-of-type {\n",
       "        vertical-align: middle;\n",
       "    }\n",
       "\n",
       "    .dataframe tbody tr th {\n",
       "        vertical-align: top;\n",
       "    }\n",
       "\n",
       "    .dataframe thead th {\n",
       "        text-align: right;\n",
       "    }\n",
       "</style>\n",
       "<table border=\"1\" class=\"dataframe\">\n",
       "  <thead>\n",
       "    <tr style=\"text-align: right;\">\n",
       "      <th></th>\n",
       "      <th>id</th>\n",
       "      <th>subreddit</th>\n",
       "      <th>title</th>\n",
       "      <th>text</th>\n",
       "      <th>category</th>\n",
       "      <th>subcategory</th>\n",
       "      <th>impurity</th>\n",
       "      <th>clean_text</th>\n",
       "    </tr>\n",
       "  </thead>\n",
       "  <tbody>\n",
       "    <tr>\n",
       "      <th>2</th>\n",
       "      <td>8f73s7</td>\n",
       "      <td>Harley</td>\n",
       "      <td>No Club Colors</td>\n",
       "      <td>Funny story. I went to college in Las Vegas. T...</td>\n",
       "      <td>autos</td>\n",
       "      <td>harley davidson</td>\n",
       "      <td>0.0</td>\n",
       "      <td>Funny story. I went to college in Las Vegas. T...</td>\n",
       "    </tr>\n",
       "    <tr>\n",
       "      <th>56</th>\n",
       "      <td>5s0q8r</td>\n",
       "      <td>Mustang</td>\n",
       "      <td>Roush vs Shleby GT500</td>\n",
       "      <td>I am trying to determine which is faster, and ...</td>\n",
       "      <td>autos</td>\n",
       "      <td>ford</td>\n",
       "      <td>0.0</td>\n",
       "      <td>I am trying to determine which is faster, and ...</td>\n",
       "    </tr>\n",
       "    <tr>\n",
       "      <th>78</th>\n",
       "      <td>5z3405</td>\n",
       "      <td>Volkswagen</td>\n",
       "      <td>2001 Golf Wagon looking for some insight</td>\n",
       "      <td>Hello! &lt;lb&gt;&lt;lb&gt;Trying to find some information...</td>\n",
       "      <td>autos</td>\n",
       "      <td>VW</td>\n",
       "      <td>0.0</td>\n",
       "      <td>Hello! Trying to find some information on repl...</td>\n",
       "    </tr>\n",
       "    <tr>\n",
       "      <th>270</th>\n",
       "      <td>7df18v</td>\n",
       "      <td>Lexus</td>\n",
       "      <td>IS 250 Coolant Flush/Change</td>\n",
       "      <td>https://www.cars.com/articles/how-often-should...</td>\n",
       "      <td>autos</td>\n",
       "      <td>lexus</td>\n",
       "      <td>0.0</td>\n",
       "      <td>_URL_ I have a IS 250 AWD from 2006. About 73K...</td>\n",
       "    </tr>\n",
       "    <tr>\n",
       "      <th>286</th>\n",
       "      <td>5tpve8</td>\n",
       "      <td>volt</td>\n",
       "      <td>Gen1 mpg w/ dead battery?</td>\n",
       "      <td>Hi, new to this subreddit.  I'm considering bu...</td>\n",
       "      <td>autos</td>\n",
       "      <td>chevrolet</td>\n",
       "      <td>0.0</td>\n",
       "      <td>Hi, new to this subreddit. I'm considering buy...</td>\n",
       "    </tr>\n",
       "  </tbody>\n",
       "</table>\n",
       "</div>"
      ],
      "text/plain": [
       "         id   subreddit                                     title  \\\n",
       "2    8f73s7      Harley                            No Club Colors   \n",
       "56   5s0q8r     Mustang                     Roush vs Shleby GT500   \n",
       "78   5z3405  Volkswagen  2001 Golf Wagon looking for some insight   \n",
       "270  7df18v       Lexus               IS 250 Coolant Flush/Change   \n",
       "286  5tpve8        volt                 Gen1 mpg w/ dead battery?   \n",
       "\n",
       "                                                  text category  \\\n",
       "2    Funny story. I went to college in Las Vegas. T...    autos   \n",
       "56   I am trying to determine which is faster, and ...    autos   \n",
       "78   Hello! <lb><lb>Trying to find some information...    autos   \n",
       "270  https://www.cars.com/articles/how-often-should...    autos   \n",
       "286  Hi, new to this subreddit.  I'm considering bu...    autos   \n",
       "\n",
       "         subcategory  impurity  \\\n",
       "2    harley davidson       0.0   \n",
       "56              ford       0.0   \n",
       "78                VW       0.0   \n",
       "270            lexus       0.0   \n",
       "286        chevrolet       0.0   \n",
       "\n",
       "                                            clean_text  \n",
       "2    Funny story. I went to college in Las Vegas. T...  \n",
       "56   I am trying to determine which is faster, and ...  \n",
       "78   Hello! Trying to find some information on repl...  \n",
       "270  _URL_ I have a IS 250 AWD from 2006. About 73K...  \n",
       "286  Hi, new to this subreddit. I'm considering buy...  "
      ]
     },
     "execution_count": 15,
     "metadata": {},
     "output_type": "execute_result"
    }
   ],
   "source": [
    "df['clean_text'] = df['clean_text'].progress_map(tprep.replace.urls)\n",
    "df['clean_text'] = df['clean_text'].progress_map(normalize)\n",
    "df.head()"
   ]
  },
  {
   "cell_type": "code",
   "execution_count": 16,
   "id": "4cdfa4a2",
   "metadata": {
    "execution": {
     "iopub.execute_input": "2023-12-26T16:50:39.825786Z",
     "iopub.status.busy": "2023-12-26T16:50:39.824952Z",
     "iopub.status.idle": "2023-12-26T16:50:39.904267Z",
     "shell.execute_reply": "2023-12-26T16:50:39.903094Z"
    },
    "papermill": {
     "duration": 0.116322,
     "end_time": "2023-12-26T16:50:39.907500",
     "exception": false,
     "start_time": "2023-12-26T16:50:39.791178",
     "status": "completed"
    },
    "tags": []
   },
   "outputs": [],
   "source": [
    "df.rename(columns={'text': 'raw_text', 'clean_text': 'text'}, inplace=True)\n",
    "df.drop(columns=['impurity'], inplace=True)"
   ]
  },
  {
   "cell_type": "markdown",
   "id": "7174cd67",
   "metadata": {
    "papermill": {
     "duration": 0.03188,
     "end_time": "2023-12-26T16:50:39.970482",
     "exception": false,
     "start_time": "2023-12-26T16:50:39.938602",
     "status": "completed"
    },
    "tags": []
   },
   "source": [
    "# Tokenization"
   ]
  },
  {
   "cell_type": "markdown",
   "id": "56368e6e",
   "metadata": {
    "papermill": {
     "duration": 0.030486,
     "end_time": "2023-12-26T16:50:40.031348",
     "exception": false,
     "start_time": "2023-12-26T16:50:40.000862",
     "status": "completed"
    },
    "tags": []
   },
   "source": [
    "## Tokenization with Regular Expressions"
   ]
  },
  {
   "cell_type": "code",
   "execution_count": 17,
   "id": "e17b3c8b",
   "metadata": {
    "execution": {
     "iopub.execute_input": "2023-12-26T16:50:40.095044Z",
     "iopub.status.busy": "2023-12-26T16:50:40.094592Z",
     "iopub.status.idle": "2023-12-26T16:50:40.101421Z",
     "shell.execute_reply": "2023-12-26T16:50:40.100234Z"
    },
    "papermill": {
     "duration": 0.042196,
     "end_time": "2023-12-26T16:50:40.104141",
     "exception": false,
     "start_time": "2023-12-26T16:50:40.061945",
     "status": "completed"
    },
    "tags": []
   },
   "outputs": [],
   "source": [
    "RE_TOKEN = re.compile(r\"\"\"\n",
    "                ( [#]?[@\\w'’\\.\\-\\:]*\\w     # words, hashtags and email addresses\n",
    "                | [:;<]\\-?[\\)\\(3]          # coarse pattern for basic text emojis\n",
    "                | [\\U0001F100-\\U0001FFFF]  # coarse code range for unicode emojis\n",
    "                )\n",
    "                \"\"\", \n",
    "                re.VERBOSE\n",
    "            )\n",
    "\n",
    "def tokenize(text):\n",
    "    return RE_TOKEN.findall(text)"
   ]
  },
  {
   "cell_type": "code",
   "execution_count": 18,
   "id": "a702bdfd",
   "metadata": {
    "execution": {
     "iopub.execute_input": "2023-12-26T16:50:40.166151Z",
     "iopub.status.busy": "2023-12-26T16:50:40.165710Z",
     "iopub.status.idle": "2023-12-26T16:50:40.170887Z",
     "shell.execute_reply": "2023-12-26T16:50:40.169741Z"
    },
    "papermill": {
     "duration": 0.039266,
     "end_time": "2023-12-26T16:50:40.173223",
     "exception": false,
     "start_time": "2023-12-26T16:50:40.133957",
     "status": "completed"
    },
    "tags": []
   },
   "outputs": [],
   "source": [
    "text = \"\"\"\n",
    "    2019-08-10 23:32: @pete/@louis - I don't have a well-designed \n",
    "    solution for today's problem. The code of module AC68 should be -1. \n",
    "    Have to think a bit... #goodnight ;-) 😩😬\n",
    "\"\"\""
   ]
  },
  {
   "cell_type": "code",
   "execution_count": 19,
   "id": "c871e89c",
   "metadata": {
    "execution": {
     "iopub.execute_input": "2023-12-26T16:50:40.236362Z",
     "iopub.status.busy": "2023-12-26T16:50:40.234293Z",
     "iopub.status.idle": "2023-12-26T16:50:40.243302Z",
     "shell.execute_reply": "2023-12-26T16:50:40.241964Z"
    },
    "papermill": {
     "duration": 0.042583,
     "end_time": "2023-12-26T16:50:40.245693",
     "exception": false,
     "start_time": "2023-12-26T16:50:40.203110",
     "status": "completed"
    },
    "tags": []
   },
   "outputs": [
    {
     "name": "stdout",
     "output_type": "stream",
     "text": [
      "2019-08-10|23:32|@pete|@louis|I|don't|have|a|well-designed|solution|for|today's|problem|The|code|of|module|AC68|should|be|-1|Have|to|think|a|bit|#goodnight|;-)|😩|😬\n"
     ]
    }
   ],
   "source": [
    "print(*tokenize(text), sep='|')"
   ]
  },
  {
   "cell_type": "markdown",
   "id": "1b0934f7",
   "metadata": {
    "papermill": {
     "duration": 0.0311,
     "end_time": "2023-12-26T16:50:40.307764",
     "exception": false,
     "start_time": "2023-12-26T16:50:40.276664",
     "status": "completed"
    },
    "tags": []
   },
   "source": [
    "## Tokenization with NLTK"
   ]
  },
  {
   "cell_type": "code",
   "execution_count": 20,
   "id": "062343de",
   "metadata": {
    "execution": {
     "iopub.execute_input": "2023-12-26T16:50:40.372819Z",
     "iopub.status.busy": "2023-12-26T16:50:40.372285Z",
     "iopub.status.idle": "2023-12-26T16:50:41.298933Z",
     "shell.execute_reply": "2023-12-26T16:50:41.297103Z"
    },
    "papermill": {
     "duration": 0.960701,
     "end_time": "2023-12-26T16:50:41.301706",
     "exception": false,
     "start_time": "2023-12-26T16:50:40.341005",
     "status": "completed"
    },
    "tags": []
   },
   "outputs": [
    {
     "name": "stdout",
     "output_type": "stream",
     "text": [
      "[nltk_data] Downloading package punkt to /usr/share/nltk_data...\n",
      "[nltk_data]   Package punkt is already up-to-date!\n",
      "2019-08-10|23:32|:|@|pete/|@|louis|-|I|do|n't|have|a|well-designed|solution|for|today|'s|problem|.|The|code|of|module|AC68|should|be|-1|.|Have|to|think|a|bit|...|#|goodnight|;|-|)|😩😬\n"
     ]
    }
   ],
   "source": [
    "import nltk\n",
    "\n",
    "nltk.download('punkt')\n",
    "print(*nltk.tokenize.word_tokenize(text), sep='|')"
   ]
  },
  {
   "cell_type": "code",
   "execution_count": 21,
   "id": "1384fb0b",
   "metadata": {
    "execution": {
     "iopub.execute_input": "2023-12-26T16:50:41.364545Z",
     "iopub.status.busy": "2023-12-26T16:50:41.364036Z",
     "iopub.status.idle": "2023-12-26T16:50:41.370988Z",
     "shell.execute_reply": "2023-12-26T16:50:41.369917Z"
    },
    "papermill": {
     "duration": 0.042052,
     "end_time": "2023-12-26T16:50:41.373712",
     "exception": false,
     "start_time": "2023-12-26T16:50:41.331660",
     "status": "completed"
    },
    "tags": []
   },
   "outputs": [
    {
     "name": "stdout",
     "output_type": "stream",
     "text": [
      "2019-08-10|23:32|@pete|@louis|I|don't|have|a|well-designed|solution|for|today's|problem|The|code|of|module|AC68|should|be|-1|Have|to|think|a|bit|#goodnight|;-)|😩|😬\n"
     ]
    }
   ],
   "source": [
    "tokenizer = nltk.tokenize.RegexpTokenizer(RE_TOKEN.pattern, flags=re.VERBOSE)\n",
    "print(*tokenizer.tokenize(text), sep='|')"
   ]
  },
  {
   "cell_type": "code",
   "execution_count": 22,
   "id": "15ab934f",
   "metadata": {
    "execution": {
     "iopub.execute_input": "2023-12-26T16:50:41.437593Z",
     "iopub.status.busy": "2023-12-26T16:50:41.437165Z",
     "iopub.status.idle": "2023-12-26T16:50:41.444822Z",
     "shell.execute_reply": "2023-12-26T16:50:41.443348Z"
    },
    "papermill": {
     "duration": 0.042833,
     "end_time": "2023-12-26T16:50:41.448380",
     "exception": false,
     "start_time": "2023-12-26T16:50:41.405547",
     "status": "completed"
    },
    "tags": []
   },
   "outputs": [
    {
     "name": "stdout",
     "output_type": "stream",
     "text": [
      "2019-08-|10|23:32|:|@pete|/|@louis|-|I|don't|have|a|well-designed|solution|for|today's|problem|.|The|code|of|module|AC68|should|be|-|1|.|Have|to|think|a|bit|...|#goodnight|;-)|😩|😬\n"
     ]
    }
   ],
   "source": [
    "tokenizer = nltk.tokenize.TweetTokenizer()\n",
    "print(*tokenizer.tokenize(text), sep='|')"
   ]
  },
  {
   "cell_type": "code",
   "execution_count": 23,
   "id": "d93b75aa",
   "metadata": {
    "execution": {
     "iopub.execute_input": "2023-12-26T16:50:41.512390Z",
     "iopub.status.busy": "2023-12-26T16:50:41.511952Z",
     "iopub.status.idle": "2023-12-26T16:50:41.519582Z",
     "shell.execute_reply": "2023-12-26T16:50:41.518268Z"
    },
    "papermill": {
     "duration": 0.042668,
     "end_time": "2023-12-26T16:50:41.522183",
     "exception": false,
     "start_time": "2023-12-26T16:50:41.479515",
     "status": "completed"
    },
    "tags": []
   },
   "outputs": [
    {
     "name": "stdout",
     "output_type": "stream",
     "text": [
      "2019-08-10|23|:|32|:|@pete/@louis|-|I|don|'|t|have|a|well-designed|solution|for|today|'|s|problem.|The|code|of|module|AC68|should|be|-1.|Have|to|think|a|bit|...|#goodnight|;|-|)|😩😬\n"
     ]
    }
   ],
   "source": [
    "tokenizer = nltk.tokenize.ToktokTokenizer()\n",
    "print(*tokenizer.tokenize(text), sep='|')"
   ]
  },
  {
   "cell_type": "markdown",
   "id": "d05e6d90",
   "metadata": {
    "papermill": {
     "duration": 0.030277,
     "end_time": "2023-12-26T16:50:41.582726",
     "exception": false,
     "start_time": "2023-12-26T16:50:41.552449",
     "status": "completed"
    },
    "tags": []
   },
   "source": [
    "# Linguistic Processing with spaCy"
   ]
  },
  {
   "cell_type": "code",
   "execution_count": 24,
   "id": "a00db67d",
   "metadata": {
    "execution": {
     "iopub.execute_input": "2023-12-26T16:50:41.645147Z",
     "iopub.status.busy": "2023-12-26T16:50:41.644604Z",
     "iopub.status.idle": "2023-12-26T16:50:43.142961Z",
     "shell.execute_reply": "2023-12-26T16:50:43.141400Z"
    },
    "papermill": {
     "duration": 1.533406,
     "end_time": "2023-12-26T16:50:43.145931",
     "exception": false,
     "start_time": "2023-12-26T16:50:41.612525",
     "status": "completed"
    },
    "tags": []
   },
   "outputs": [],
   "source": [
    "import spacy\n",
    "\n",
    "nlp = spacy.load('en_core_web_sm')"
   ]
  },
  {
   "cell_type": "code",
   "execution_count": 25,
   "id": "8b343ef0",
   "metadata": {
    "execution": {
     "iopub.execute_input": "2023-12-26T16:50:43.209112Z",
     "iopub.status.busy": "2023-12-26T16:50:43.208089Z",
     "iopub.status.idle": "2023-12-26T16:50:43.217733Z",
     "shell.execute_reply": "2023-12-26T16:50:43.216227Z"
    },
    "papermill": {
     "duration": 0.044525,
     "end_time": "2023-12-26T16:50:43.220417",
     "exception": false,
     "start_time": "2023-12-26T16:50:43.175892",
     "status": "completed"
    },
    "tags": []
   },
   "outputs": [
    {
     "data": {
      "text/plain": [
       "[('tok2vec', <spacy.pipeline.tok2vec.Tok2Vec at 0x7d9b194b2020>),\n",
       " ('tagger', <spacy.pipeline.tagger.Tagger at 0x7d9b194b1660>),\n",
       " ('parser', <spacy.pipeline.dep_parser.DependencyParser at 0x7d9b1980de70>),\n",
       " ('attribute_ruler',\n",
       "  <spacy.pipeline.attributeruler.AttributeRuler at 0x7d9b193d8140>),\n",
       " ('lemmatizer',\n",
       "  <spacy.lang.en.lemmatizer.EnglishLemmatizer at 0x7d9b193d61c0>),\n",
       " ('ner', <spacy.pipeline.ner.EntityRecognizer at 0x7d9b1980e030>)]"
      ]
     },
     "execution_count": 25,
     "metadata": {},
     "output_type": "execute_result"
    }
   ],
   "source": [
    "nlp.pipeline"
   ]
  },
  {
   "cell_type": "markdown",
   "id": "9ae44abb",
   "metadata": {
    "papermill": {
     "duration": 0.031961,
     "end_time": "2023-12-26T16:50:43.284113",
     "exception": false,
     "start_time": "2023-12-26T16:50:43.252152",
     "status": "completed"
    },
    "tags": []
   },
   "source": [
    "As spacy loads multiple components together, one can disable them during the loading pahse by passing disable argument or later on via nlp.disable_pipes(...)"
   ]
  },
  {
   "cell_type": "code",
   "execution_count": 26,
   "id": "bb7c3247",
   "metadata": {
    "execution": {
     "iopub.execute_input": "2023-12-26T16:50:43.347028Z",
     "iopub.status.busy": "2023-12-26T16:50:43.346605Z",
     "iopub.status.idle": "2023-12-26T16:50:43.352021Z",
     "shell.execute_reply": "2023-12-26T16:50:43.350615Z"
    },
    "papermill": {
     "duration": 0.040048,
     "end_time": "2023-12-26T16:50:43.354442",
     "exception": false,
     "start_time": "2023-12-26T16:50:43.314394",
     "status": "completed"
    },
    "tags": []
   },
   "outputs": [],
   "source": [
    "# nlp.disable_pipes('parser', 'ner')\n",
    "# nlp = spacy.load(\"en_core_web_sm\", disable=[\"parser\", \"ner\"])"
   ]
  },
  {
   "cell_type": "markdown",
   "id": "fe5b1314",
   "metadata": {
    "papermill": {
     "duration": 0.031281,
     "end_time": "2023-12-26T16:50:43.417821",
     "exception": false,
     "start_time": "2023-12-26T16:50:43.386540",
     "status": "completed"
    },
    "tags": []
   },
   "source": [
    "# Processing Text"
   ]
  },
  {
   "cell_type": "code",
   "execution_count": 27,
   "id": "dd90f8e6",
   "metadata": {
    "execution": {
     "iopub.execute_input": "2023-12-26T16:50:43.479581Z",
     "iopub.status.busy": "2023-12-26T16:50:43.479181Z",
     "iopub.status.idle": "2023-12-26T16:50:43.511391Z",
     "shell.execute_reply": "2023-12-26T16:50:43.510374Z"
    },
    "papermill": {
     "duration": 0.066512,
     "end_time": "2023-12-26T16:50:43.514259",
     "exception": false,
     "start_time": "2023-12-26T16:50:43.447747",
     "status": "completed"
    },
    "tags": []
   },
   "outputs": [],
   "source": [
    "text = \"Let's go to N.Y city\"\n",
    "doc = nlp(text)"
   ]
  },
  {
   "cell_type": "code",
   "execution_count": 28,
   "id": "f86d86ff",
   "metadata": {
    "execution": {
     "iopub.execute_input": "2023-12-26T16:50:43.577695Z",
     "iopub.status.busy": "2023-12-26T16:50:43.577217Z",
     "iopub.status.idle": "2023-12-26T16:50:43.584542Z",
     "shell.execute_reply": "2023-12-26T16:50:43.582891Z"
    },
    "papermill": {
     "duration": 0.041874,
     "end_time": "2023-12-26T16:50:43.587000",
     "exception": false,
     "start_time": "2023-12-26T16:50:43.545126",
     "status": "completed"
    },
    "tags": []
   },
   "outputs": [
    {
     "name": "stdout",
     "output_type": "stream",
     "text": [
      "Let|'s|go|to|N.Y|city|"
     ]
    }
   ],
   "source": [
    "for token in doc:\n",
    "    print(token , end='|')"
   ]
  },
  {
   "cell_type": "code",
   "execution_count": 29,
   "id": "e61a3377",
   "metadata": {
    "execution": {
     "iopub.execute_input": "2023-12-26T16:50:43.649854Z",
     "iopub.status.busy": "2023-12-26T16:50:43.649380Z",
     "iopub.status.idle": "2023-12-26T16:50:43.672722Z",
     "shell.execute_reply": "2023-12-26T16:50:43.671289Z"
    },
    "papermill": {
     "duration": 0.058181,
     "end_time": "2023-12-26T16:50:43.675515",
     "exception": false,
     "start_time": "2023-12-26T16:50:43.617334",
     "status": "completed"
    },
    "tags": []
   },
   "outputs": [
    {
     "data": {
      "text/html": [
       "<div>\n",
       "<style scoped>\n",
       "    .dataframe tbody tr th:only-of-type {\n",
       "        vertical-align: middle;\n",
       "    }\n",
       "\n",
       "    .dataframe tbody tr th {\n",
       "        vertical-align: top;\n",
       "    }\n",
       "\n",
       "    .dataframe thead th {\n",
       "        text-align: right;\n",
       "    }\n",
       "</style>\n",
       "<table border=\"1\" class=\"dataframe\">\n",
       "  <thead>\n",
       "    <tr style=\"text-align: right;\">\n",
       "      <th></th>\n",
       "      <th>text</th>\n",
       "      <th>lemma_</th>\n",
       "      <th>is_stop</th>\n",
       "      <th>is_alpha</th>\n",
       "      <th>pos_</th>\n",
       "      <th>dep_</th>\n",
       "      <th>ent_type_</th>\n",
       "      <th>ent_iob_</th>\n",
       "    </tr>\n",
       "  </thead>\n",
       "  <tbody>\n",
       "    <tr>\n",
       "      <th>Let</th>\n",
       "      <td>Let</td>\n",
       "      <td>let</td>\n",
       "      <td>False</td>\n",
       "      <td>True</td>\n",
       "      <td>VERB</td>\n",
       "      <td>ROOT</td>\n",
       "      <td></td>\n",
       "      <td>O</td>\n",
       "    </tr>\n",
       "    <tr>\n",
       "      <th>'s</th>\n",
       "      <td>'s</td>\n",
       "      <td>us</td>\n",
       "      <td>True</td>\n",
       "      <td>False</td>\n",
       "      <td>PRON</td>\n",
       "      <td>nsubj</td>\n",
       "      <td></td>\n",
       "      <td>O</td>\n",
       "    </tr>\n",
       "    <tr>\n",
       "      <th>go</th>\n",
       "      <td>go</td>\n",
       "      <td>go</td>\n",
       "      <td>True</td>\n",
       "      <td>True</td>\n",
       "      <td>VERB</td>\n",
       "      <td>ccomp</td>\n",
       "      <td></td>\n",
       "      <td>O</td>\n",
       "    </tr>\n",
       "    <tr>\n",
       "      <th>to</th>\n",
       "      <td>to</td>\n",
       "      <td>to</td>\n",
       "      <td>True</td>\n",
       "      <td>True</td>\n",
       "      <td>ADP</td>\n",
       "      <td>prep</td>\n",
       "      <td></td>\n",
       "      <td>O</td>\n",
       "    </tr>\n",
       "    <tr>\n",
       "      <th>N.Y</th>\n",
       "      <td>N.Y</td>\n",
       "      <td>N.Y</td>\n",
       "      <td>False</td>\n",
       "      <td>False</td>\n",
       "      <td>PROPN</td>\n",
       "      <td>compound</td>\n",
       "      <td>GPE</td>\n",
       "      <td>B</td>\n",
       "    </tr>\n",
       "    <tr>\n",
       "      <th>city</th>\n",
       "      <td>city</td>\n",
       "      <td>city</td>\n",
       "      <td>False</td>\n",
       "      <td>True</td>\n",
       "      <td>NOUN</td>\n",
       "      <td>pobj</td>\n",
       "      <td></td>\n",
       "      <td>O</td>\n",
       "    </tr>\n",
       "  </tbody>\n",
       "</table>\n",
       "</div>"
      ],
      "text/plain": [
       "      text lemma_  is_stop  is_alpha   pos_      dep_ ent_type_ ent_iob_\n",
       "Let    Let    let    False      True   VERB      ROOT                  O\n",
       "'s      's     us     True     False   PRON     nsubj                  O\n",
       "go      go     go     True      True   VERB     ccomp                  O\n",
       "to      to     to     True      True    ADP      prep                  O\n",
       "N.Y    N.Y    N.Y    False     False  PROPN  compound       GPE        B\n",
       "city  city   city    False      True   NOUN      pobj                  O"
      ]
     },
     "execution_count": 29,
     "metadata": {},
     "output_type": "execute_result"
    }
   ],
   "source": [
    "def display_doc(doc: spacy.tokens.Doc):\n",
    "    tokens = []\n",
    "\n",
    "    for i, token in enumerate(doc):\n",
    "        tokens.append(dict(\n",
    "            token=token,\n",
    "            text=token.text,\n",
    "            lemma_=token.lemma_,\n",
    "            is_stop=token.is_stop,\n",
    "            is_alpha=token.is_alpha,\n",
    "            pos_=token.pos_,\n",
    "            dep_=token.dep_,\n",
    "            ent_type_=token.ent_type_,\n",
    "            ent_iob_=token.ent_iob_,\n",
    "        ))\n",
    "\n",
    "    df = pd.DataFrame(tokens).set_index('token')\n",
    "    df.index.name = None\n",
    "    return df\n",
    "\n",
    "display_doc(doc)"
   ]
  },
  {
   "cell_type": "markdown",
   "id": "3e491040",
   "metadata": {
    "papermill": {
     "duration": 0.030767,
     "end_time": "2023-12-26T16:50:43.737415",
     "exception": false,
     "start_time": "2023-12-26T16:50:43.706648",
     "status": "completed"
    },
    "tags": []
   },
   "source": [
    "## Customizing Tokenization"
   ]
  },
  {
   "cell_type": "code",
   "execution_count": 30,
   "id": "89296b70",
   "metadata": {
    "execution": {
     "iopub.execute_input": "2023-12-26T16:50:43.802673Z",
     "iopub.status.busy": "2023-12-26T16:50:43.801727Z",
     "iopub.status.idle": "2023-12-26T16:50:43.823342Z",
     "shell.execute_reply": "2023-12-26T16:50:43.821658Z"
    },
    "papermill": {
     "duration": 0.056996,
     "end_time": "2023-12-26T16:50:43.825865",
     "exception": false,
     "start_time": "2023-12-26T16:50:43.768869",
     "status": "completed"
    },
    "tags": []
   },
   "outputs": [
    {
     "name": "stdout",
     "output_type": "stream",
     "text": [
      "@Pete|:|choose|low|-|carb|#|food|#|eat|-|smart|.|_|url|_|;-)|😋|👍|"
     ]
    }
   ],
   "source": [
    "text = \"@Pete: choose low-carb #food #eat-smart. _url_ ;-) 😋👍\"\n",
    "doc = nlp(text)\n",
    "\n",
    "for token in doc:\n",
    "    print(token, end=\"|\")"
   ]
  },
  {
   "cell_type": "code",
   "execution_count": 31,
   "id": "6c8c7af5",
   "metadata": {
    "execution": {
     "iopub.execute_input": "2023-12-26T16:50:43.889202Z",
     "iopub.status.busy": "2023-12-26T16:50:43.888709Z",
     "iopub.status.idle": "2023-12-26T16:50:43.898263Z",
     "shell.execute_reply": "2023-12-26T16:50:43.896988Z"
    },
    "papermill": {
     "duration": 0.044137,
     "end_time": "2023-12-26T16:50:43.900548",
     "exception": false,
     "start_time": "2023-12-26T16:50:43.856411",
     "status": "completed"
    },
    "tags": []
   },
   "outputs": [],
   "source": [
    "from spacy.tokenizer import Tokenizer\n",
    "from spacy.util import compile_prefix_regex, compile_infix_regex, compile_suffix_regex\n",
    "\n",
    "\n",
    "def custom_tokenizer(nlp: spacy.Language) -> Tokenizer:\n",
    "    \n",
    "    # use default patterns except the ones matched by re.search\n",
    "    prefixes = [pattern for pattern in nlp.Defaults.prefixes if pattern not in ['-', '_', '#']]\n",
    "    suffixes = [pattern for pattern in nlp.Defaults.suffixes if pattern not in ['_']]\n",
    "    infixes  = [pattern for pattern in nlp.Defaults.infixes if not re.search(pattern, 'xx-xx')]\n",
    "\n",
    "    return Tokenizer(vocab=nlp.vocab, \n",
    "                     rules=nlp.Defaults.tokenizer_exceptions,\n",
    "                     prefix_search=compile_prefix_regex(prefixes).search,\n",
    "                     suffix_search=compile_suffix_regex(suffixes).search,\n",
    "                     infix_finditer=compile_infix_regex(infixes).finditer,\n",
    "                     token_match=nlp.Defaults.token_match)"
   ]
  },
  {
   "cell_type": "code",
   "execution_count": 32,
   "id": "fe9bc0a5",
   "metadata": {
    "execution": {
     "iopub.execute_input": "2023-12-26T16:50:43.965500Z",
     "iopub.status.busy": "2023-12-26T16:50:43.964596Z",
     "iopub.status.idle": "2023-12-26T16:50:44.327257Z",
     "shell.execute_reply": "2023-12-26T16:50:44.326017Z"
    },
    "papermill": {
     "duration": 0.398696,
     "end_time": "2023-12-26T16:50:44.329981",
     "exception": false,
     "start_time": "2023-12-26T16:50:43.931285",
     "status": "completed"
    },
    "tags": []
   },
   "outputs": [
    {
     "name": "stdout",
     "output_type": "stream",
     "text": [
      "@Pete|:|choose|low-carb|#food|#eat-smart|.|_url_|;-)|😋|👍|"
     ]
    }
   ],
   "source": [
    "nlp.tokenizer = custom_tokenizer(nlp)\n",
    "\n",
    "doc = nlp(text)\n",
    "for token in doc:\n",
    "    print(token, end=\"|\")"
   ]
  },
  {
   "cell_type": "markdown",
   "id": "a7da6e25",
   "metadata": {
    "papermill": {
     "duration": 0.032845,
     "end_time": "2023-12-26T16:50:44.394597",
     "exception": false,
     "start_time": "2023-12-26T16:50:44.361752",
     "status": "completed"
    },
    "tags": []
   },
   "source": [
    "## Working with Stop Words"
   ]
  },
  {
   "cell_type": "code",
   "execution_count": 33,
   "id": "ff7d6c0f",
   "metadata": {
    "execution": {
     "iopub.execute_input": "2023-12-26T16:50:44.466405Z",
     "iopub.status.busy": "2023-12-26T16:50:44.465249Z",
     "iopub.status.idle": "2023-12-26T16:50:45.782198Z",
     "shell.execute_reply": "2023-12-26T16:50:45.780157Z"
    },
    "papermill": {
     "duration": 1.356032,
     "end_time": "2023-12-26T16:50:45.785051",
     "exception": false,
     "start_time": "2023-12-26T16:50:44.429019",
     "status": "completed"
    },
    "tags": []
   },
   "outputs": [
    {
     "name": "stdout",
     "output_type": "stream",
     "text": [
      "[Dear, Ryan, need, sit, talk, Regards, Pete]\n"
     ]
    }
   ],
   "source": [
    "nlp = spacy.load('en_core_web_sm')\n",
    "text = \"Dear Ryan, we need to sit down and talk. Regards, Pete\"\n",
    "doc = nlp(text)\n",
    "\n",
    "non_stop = [t for t in doc if not t.is_stop and not t.is_punct]\n",
    "print(non_stop)"
   ]
  },
  {
   "cell_type": "markdown",
   "id": "4185286a",
   "metadata": {
    "papermill": {
     "duration": 0.03061,
     "end_time": "2023-12-26T16:50:45.848143",
     "exception": false,
     "start_time": "2023-12-26T16:50:45.817533",
     "status": "completed"
    },
    "tags": []
   },
   "source": [
    "If we want to customize the stop words, we can do the following:"
   ]
  },
  {
   "cell_type": "code",
   "execution_count": 34,
   "id": "fb07f156",
   "metadata": {
    "execution": {
     "iopub.execute_input": "2023-12-26T16:50:45.913345Z",
     "iopub.status.busy": "2023-12-26T16:50:45.911747Z",
     "iopub.status.idle": "2023-12-26T16:50:46.169363Z",
     "shell.execute_reply": "2023-12-26T16:50:46.167976Z"
    },
    "papermill": {
     "duration": 0.292684,
     "end_time": "2023-12-26T16:50:46.172227",
     "exception": false,
     "start_time": "2023-12-26T16:50:45.879543",
     "status": "completed"
    },
    "tags": []
   },
   "outputs": [
    {
     "name": "stdout",
     "output_type": "stream",
     "text": [
      "Ryan|need|sit|down|talk|Pete|"
     ]
    }
   ],
   "source": [
    "from spacy.lang.en import English\n",
    "\n",
    "\n",
    "excluded_stop_words = {'down'}\n",
    "included_stop_words = {'dear', 'regards'}\n",
    "\n",
    "\n",
    "class CustomEnglishDefaults(English.Defaults):\n",
    "    stop_words = English.Defaults.stop_words.copy()\n",
    "    stop_words -= excluded_stop_words\n",
    "    stop_words |= included_stop_words\n",
    "    \n",
    "\n",
    "class CustomEnglish(English):\n",
    "    Defaults = CustomEnglishDefaults\n",
    "\n",
    "nlp = CustomEnglish()\n",
    "\n",
    "text = \"Dear Ryan, we need to sit down and talk. Regards, Pete\"\n",
    "doc = nlp.make_doc(text) # only tokenize\n",
    "    \n",
    "tokens_wo_stop = [token for token in doc ]\n",
    "for token in doc:\n",
    "    if not token.is_stop and not token.is_punct:\n",
    "        print(token, end='|')"
   ]
  },
  {
   "cell_type": "code",
   "execution_count": 35,
   "id": "052f4404",
   "metadata": {
    "execution": {
     "iopub.execute_input": "2023-12-26T16:50:46.237643Z",
     "iopub.status.busy": "2023-12-26T16:50:46.237204Z",
     "iopub.status.idle": "2023-12-26T16:50:47.490450Z",
     "shell.execute_reply": "2023-12-26T16:50:47.489022Z"
    },
    "papermill": {
     "duration": 1.289813,
     "end_time": "2023-12-26T16:50:47.493643",
     "exception": false,
     "start_time": "2023-12-26T16:50:46.203830",
     "status": "completed"
    },
    "tags": []
   },
   "outputs": [],
   "source": [
    "# reset to original\n",
    "nlp = spacy.load('en_core_web_sm')"
   ]
  },
  {
   "cell_type": "markdown",
   "id": "57285516",
   "metadata": {
    "papermill": {
     "duration": 0.031626,
     "end_time": "2023-12-26T16:50:47.557226",
     "exception": false,
     "start_time": "2023-12-26T16:50:47.525600",
     "status": "completed"
    },
    "tags": []
   },
   "source": [
    "## Extracting Lemmas based on Part-of-Speech"
   ]
  },
  {
   "cell_type": "code",
   "execution_count": 36,
   "id": "4b7d5c85",
   "metadata": {
    "execution": {
     "iopub.execute_input": "2023-12-26T16:50:47.624953Z",
     "iopub.status.busy": "2023-12-26T16:50:47.624481Z",
     "iopub.status.idle": "2023-12-26T16:50:47.643319Z",
     "shell.execute_reply": "2023-12-26T16:50:47.641953Z"
    },
    "papermill": {
     "duration": 0.056419,
     "end_time": "2023-12-26T16:50:47.645993",
     "exception": false,
     "start_time": "2023-12-26T16:50:47.589574",
     "status": "completed"
    },
    "tags": []
   },
   "outputs": [
    {
     "name": "stdout",
     "output_type": "stream",
     "text": [
      "my|good|friend|Ryan|Peters|like|fancy|adventure|game|.\n"
     ]
    }
   ],
   "source": [
    "text = \"My best friend Ryan Peters likes fancy adventure games.\"\n",
    "doc = nlp(text)\n",
    "print(*[t.lemma_ for t in doc], sep='|')"
   ]
  },
  {
   "cell_type": "code",
   "execution_count": 37,
   "id": "1560e612",
   "metadata": {
    "execution": {
     "iopub.execute_input": "2023-12-26T16:50:47.712414Z",
     "iopub.status.busy": "2023-12-26T16:50:47.712034Z",
     "iopub.status.idle": "2023-12-26T16:50:47.717727Z",
     "shell.execute_reply": "2023-12-26T16:50:47.716817Z"
    },
    "papermill": {
     "duration": 0.042124,
     "end_time": "2023-12-26T16:50:47.720171",
     "exception": false,
     "start_time": "2023-12-26T16:50:47.678047",
     "status": "completed"
    },
    "tags": []
   },
   "outputs": [
    {
     "name": "stdout",
     "output_type": "stream",
     "text": [
      "[friend, Ryan, Peters, adventure, games]\n"
     ]
    }
   ],
   "source": [
    "print([t for t in doc if t.pos_ in ['NOUN', 'PROPN']])"
   ]
  },
  {
   "cell_type": "markdown",
   "id": "e101d5fb",
   "metadata": {
    "papermill": {
     "duration": 0.034135,
     "end_time": "2023-12-26T16:50:47.787950",
     "exception": false,
     "start_time": "2023-12-26T16:50:47.753815",
     "status": "completed"
    },
    "tags": []
   },
   "source": [
    "We can now use functions from textacy to do the similar thing we did above"
   ]
  },
  {
   "cell_type": "code",
   "execution_count": 38,
   "id": "d04264b0",
   "metadata": {
    "execution": {
     "iopub.execute_input": "2023-12-26T16:50:47.855252Z",
     "iopub.status.busy": "2023-12-26T16:50:47.854838Z",
     "iopub.status.idle": "2023-12-26T16:50:47.862250Z",
     "shell.execute_reply": "2023-12-26T16:50:47.860722Z"
    },
    "papermill": {
     "duration": 0.044394,
     "end_time": "2023-12-26T16:50:47.865238",
     "exception": false,
     "start_time": "2023-12-26T16:50:47.820844",
     "status": "completed"
    },
    "tags": []
   },
   "outputs": [
    {
     "name": "stdout",
     "output_type": "stream",
     "text": [
      "best|friend|fancy|adventure|games\n"
     ]
    }
   ],
   "source": [
    "tokens = textacy.extract.words(\n",
    "    doc,\n",
    "    filter_stops=True,           # default True, no stopwords\n",
    "    filter_punct=True,           # default True, no punctuation\n",
    "    filter_nums=True,            # default False, no numbers\n",
    "    include_pos=['ADJ', 'NOUN'], # default None = include all\n",
    "    exclude_pos=None,            # default None = exclude none\n",
    "    min_freq=1                   # minimum frequency of words\n",
    ")\n",
    "\n",
    "print(*[t for t in tokens], sep='|')"
   ]
  },
  {
   "cell_type": "code",
   "execution_count": 39,
   "id": "3120b051",
   "metadata": {
    "execution": {
     "iopub.execute_input": "2023-12-26T16:50:47.933141Z",
     "iopub.status.busy": "2023-12-26T16:50:47.932608Z",
     "iopub.status.idle": "2023-12-26T16:50:47.941667Z",
     "shell.execute_reply": "2023-12-26T16:50:47.939884Z"
    },
    "papermill": {
     "duration": 0.046304,
     "end_time": "2023-12-26T16:50:47.944667",
     "exception": false,
     "start_time": "2023-12-26T16:50:47.898363",
     "status": "completed"
    },
    "tags": []
   },
   "outputs": [
    {
     "name": "stdout",
     "output_type": "stream",
     "text": [
      "good|friend|fancy|adventure|game\n"
     ]
    }
   ],
   "source": [
    "def extract_lemmas(doc, **kwargs):\n",
    "    return [t.lemma_ for t in textacy.extract.words(doc, **kwargs)]\n",
    "\n",
    "lemmas = extract_lemmas(doc, include_pos=['ADJ', 'NOUN'])\n",
    "print(*lemmas, sep='|')"
   ]
  },
  {
   "cell_type": "markdown",
   "id": "b8d2e973",
   "metadata": {
    "papermill": {
     "duration": 0.031851,
     "end_time": "2023-12-26T16:50:48.010672",
     "exception": false,
     "start_time": "2023-12-26T16:50:47.978821",
     "status": "completed"
    },
    "tags": []
   },
   "source": [
    "## Extracting Noun Phrases"
   ]
  },
  {
   "cell_type": "code",
   "execution_count": 40,
   "id": "0363a562",
   "metadata": {
    "execution": {
     "iopub.execute_input": "2023-12-26T16:50:48.075876Z",
     "iopub.status.busy": "2023-12-26T16:50:48.075392Z",
     "iopub.status.idle": "2023-12-26T16:50:48.081385Z",
     "shell.execute_reply": "2023-12-26T16:50:48.080137Z"
    },
    "papermill": {
     "duration": 0.042417,
     "end_time": "2023-12-26T16:50:48.084180",
     "exception": false,
     "start_time": "2023-12-26T16:50:48.041763",
     "status": "completed"
    },
    "tags": []
   },
   "outputs": [
    {
     "name": "stdout",
     "output_type": "stream",
     "text": [
      "My best friend Ryan Peters likes fancy adventure games.\n"
     ]
    }
   ],
   "source": [
    "print(doc)"
   ]
  },
  {
   "cell_type": "code",
   "execution_count": 41,
   "id": "ff74e849",
   "metadata": {
    "execution": {
     "iopub.execute_input": "2023-12-26T16:50:48.149665Z",
     "iopub.status.busy": "2023-12-26T16:50:48.149177Z",
     "iopub.status.idle": "2023-12-26T16:50:48.157943Z",
     "shell.execute_reply": "2023-12-26T16:50:48.156683Z"
    },
    "papermill": {
     "duration": 0.045158,
     "end_time": "2023-12-26T16:50:48.160685",
     "exception": false,
     "start_time": "2023-12-26T16:50:48.115527",
     "status": "completed"
    },
    "tags": []
   },
   "outputs": [
    {
     "name": "stdout",
     "output_type": "stream",
     "text": [
      "good friend|fancy adventure|fancy adventure game\n",
      "My best friend|Ryan Peters|fancy adventure games\n"
     ]
    }
   ],
   "source": [
    "patterns = [\"POS:ADJ POS:NOUN:+\"]\n",
    "\n",
    "spans = textacy.extract.matches.token_matches(doc, patterns=patterns)\n",
    "    \n",
    "print(*[s.lemma_ for s in spans], sep='|')\n",
    "print(*doc.noun_chunks, sep='|')"
   ]
  },
  {
   "cell_type": "code",
   "execution_count": 42,
   "id": "24ceb157",
   "metadata": {
    "execution": {
     "iopub.execute_input": "2023-12-26T16:50:48.228861Z",
     "iopub.status.busy": "2023-12-26T16:50:48.228357Z",
     "iopub.status.idle": "2023-12-26T16:50:48.238261Z",
     "shell.execute_reply": "2023-12-26T16:50:48.236718Z"
    },
    "papermill": {
     "duration": 0.046743,
     "end_time": "2023-12-26T16:50:48.240833",
     "exception": false,
     "start_time": "2023-12-26T16:50:48.194090",
     "status": "completed"
    },
    "tags": []
   },
   "outputs": [
    {
     "name": "stdout",
     "output_type": "stream",
     "text": [
      "good_friend|fancy_adventure|fancy_adventure_game|adventure_game\n"
     ]
    }
   ],
   "source": [
    "def extract_noun_phrases(doc, preceding_pos=['NOUN'], sep='_'):\n",
    "    patterns = []\n",
    "    \n",
    "    for pos in preceding_pos:\n",
    "        patterns.append(f\"POS:{pos} POS:NOUN:+\")\n",
    "\n",
    "    spans = textacy.extract.matches.token_matches(doc, patterns=patterns)\n",
    "\n",
    "    return [sep.join([t.lemma_ for t in s]) for s in spans]\n",
    "\n",
    "print(*extract_noun_phrases(doc, ['ADJ', 'NOUN']), sep='|')"
   ]
  },
  {
   "cell_type": "markdown",
   "id": "1b9b9872",
   "metadata": {
    "papermill": {
     "duration": 0.033865,
     "end_time": "2023-12-26T16:50:48.306424",
     "exception": false,
     "start_time": "2023-12-26T16:50:48.272559",
     "status": "completed"
    },
    "tags": []
   },
   "source": [
    "## Extracting Named Entities"
   ]
  },
  {
   "cell_type": "code",
   "execution_count": 43,
   "id": "8f4ab074",
   "metadata": {
    "execution": {
     "iopub.execute_input": "2023-12-26T16:50:48.373796Z",
     "iopub.status.busy": "2023-12-26T16:50:48.373338Z",
     "iopub.status.idle": "2023-12-26T16:50:48.395717Z",
     "shell.execute_reply": "2023-12-26T16:50:48.394227Z"
    },
    "papermill": {
     "duration": 0.059152,
     "end_time": "2023-12-26T16:50:48.398114",
     "exception": false,
     "start_time": "2023-12-26T16:50:48.338962",
     "status": "completed"
    },
    "tags": []
   },
   "outputs": [
    {
     "name": "stdout",
     "output_type": "stream",
     "text": [
      "(James O'Neill, PERSON) (World Cargo Inc, ORG) (San Francisco, GPE) "
     ]
    }
   ],
   "source": [
    "text = \"James O'Neill, chairman of World Cargo Inc, lives in San Francisco.\"\n",
    "doc = nlp(text)\n",
    "\n",
    "for ent in doc.ents:\n",
    "    print(f\"({ent.text}, {ent.label_})\", end=\" \")"
   ]
  },
  {
   "cell_type": "code",
   "execution_count": 44,
   "id": "c4d9ef0c",
   "metadata": {
    "execution": {
     "iopub.execute_input": "2023-12-26T16:50:48.466013Z",
     "iopub.status.busy": "2023-12-26T16:50:48.465538Z",
     "iopub.status.idle": "2023-12-26T16:50:48.476795Z",
     "shell.execute_reply": "2023-12-26T16:50:48.475538Z"
    },
    "papermill": {
     "duration": 0.04743,
     "end_time": "2023-12-26T16:50:48.479210",
     "exception": false,
     "start_time": "2023-12-26T16:50:48.431780",
     "status": "completed"
    },
    "tags": []
   },
   "outputs": [
    {
     "data": {
      "text/html": [
       "<span class=\"tex2jax_ignore\"><div class=\"entities\" style=\"line-height: 2.5; direction: ltr\">\n",
       "<mark class=\"entity\" style=\"background: #aa9cfc; padding: 0.45em 0.6em; margin: 0 0.25em; line-height: 1; border-radius: 0.35em;\">\n",
       "    James O'Neill\n",
       "    <span style=\"font-size: 0.8em; font-weight: bold; line-height: 1; border-radius: 0.35em; vertical-align: middle; margin-left: 0.5rem\">PERSON</span>\n",
       "</mark>\n",
       ", chairman of \n",
       "<mark class=\"entity\" style=\"background: #7aecec; padding: 0.45em 0.6em; margin: 0 0.25em; line-height: 1; border-radius: 0.35em;\">\n",
       "    World Cargo Inc\n",
       "    <span style=\"font-size: 0.8em; font-weight: bold; line-height: 1; border-radius: 0.35em; vertical-align: middle; margin-left: 0.5rem\">ORG</span>\n",
       "</mark>\n",
       ", lives in \n",
       "<mark class=\"entity\" style=\"background: #feca74; padding: 0.45em 0.6em; margin: 0 0.25em; line-height: 1; border-radius: 0.35em;\">\n",
       "    San Francisco\n",
       "    <span style=\"font-size: 0.8em; font-weight: bold; line-height: 1; border-radius: 0.35em; vertical-align: middle; margin-left: 0.5rem\">GPE</span>\n",
       "</mark>\n",
       ".</div></span>"
      ],
      "text/plain": [
       "<IPython.core.display.HTML object>"
      ]
     },
     "metadata": {},
     "output_type": "display_data"
    }
   ],
   "source": [
    "from spacy import displacy\n",
    "\n",
    "displacy.render(doc, style='ent', jupyter=True)"
   ]
  },
  {
   "cell_type": "code",
   "execution_count": 45,
   "id": "ad78bd2c",
   "metadata": {
    "execution": {
     "iopub.execute_input": "2023-12-26T16:50:48.546840Z",
     "iopub.status.busy": "2023-12-26T16:50:48.546315Z",
     "iopub.status.idle": "2023-12-26T16:50:48.555184Z",
     "shell.execute_reply": "2023-12-26T16:50:48.553747Z"
    },
    "papermill": {
     "duration": 0.045754,
     "end_time": "2023-12-26T16:50:48.557639",
     "exception": false,
     "start_time": "2023-12-26T16:50:48.511885",
     "status": "completed"
    },
    "tags": []
   },
   "outputs": [
    {
     "name": "stdout",
     "output_type": "stream",
     "text": [
      "[\"James_O'Neill/PERSON\", 'San_Francisco/GPE']\n"
     ]
    }
   ],
   "source": [
    "def extract_entities(doc, include_types=None, sep='_'):\n",
    "\n",
    "    ents = textacy.extract.entities(\n",
    "        doc, \n",
    "        include_types=include_types, \n",
    "        exclude_types=None, \n",
    "        drop_determiners=True, \n",
    "        min_freq=1\n",
    "    )\n",
    "    \n",
    "    return [sep.join([t.lemma_ for t in e]) + '/' + e.label_ for e in ents]\n",
    "\n",
    "\n",
    "print(extract_entities(doc, ['PERSON', 'GPE']))"
   ]
  },
  {
   "cell_type": "markdown",
   "id": "cff76364",
   "metadata": {
    "papermill": {
     "duration": 0.031711,
     "end_time": "2023-12-26T16:50:48.621979",
     "exception": false,
     "start_time": "2023-12-26T16:50:48.590268",
     "status": "completed"
    },
    "tags": []
   },
   "source": [
    "# Feature Extraction on a Large Dataset"
   ]
  },
  {
   "cell_type": "markdown",
   "id": "0a3088e1",
   "metadata": {
    "papermill": {
     "duration": 0.031754,
     "end_time": "2023-12-26T16:50:48.685542",
     "exception": false,
     "start_time": "2023-12-26T16:50:48.653788",
     "status": "completed"
    },
    "tags": []
   },
   "source": [
    "## One Function to Get It All"
   ]
  },
  {
   "cell_type": "code",
   "execution_count": 46,
   "id": "bd51d1a6",
   "metadata": {
    "execution": {
     "iopub.execute_input": "2023-12-26T16:50:48.752896Z",
     "iopub.status.busy": "2023-12-26T16:50:48.752393Z",
     "iopub.status.idle": "2023-12-26T16:50:48.778409Z",
     "shell.execute_reply": "2023-12-26T16:50:48.776528Z"
    },
    "papermill": {
     "duration": 0.06387,
     "end_time": "2023-12-26T16:50:48.781022",
     "exception": false,
     "start_time": "2023-12-26T16:50:48.717152",
     "status": "completed"
    },
    "tags": []
   },
   "outputs": [
    {
     "name": "stdout",
     "output_type": "stream",
     "text": [
      "lemmas: ['good', 'friend', 'Ryan', 'Peters', 'like', 'fancy', 'adventure', 'game']\n",
      "adjs_verbs: ['good', 'like', 'fancy']\n",
      "nouns: ['friend', 'Ryan', 'Peters', 'adventure', 'game']\n",
      "nouns_phrases: ['adventure_game']\n",
      "adj_noun_phrases: ['good_friend', 'fancy_adventure', 'fancy_adventure_game']\n",
      "entities: ['Ryan_Peters/PERSON']\n"
     ]
    }
   ],
   "source": [
    "def extract_nlp(doc):\n",
    "    return dict(\n",
    "        lemmas=extract_lemmas(doc, exclude_pos = ['PART', 'PUNCT', 'DET', 'PRON', 'SYM', 'SPACE'], filter_stops = False),\n",
    "        adjs_verbs=extract_lemmas(doc, include_pos = ['ADJ', 'VERB']),\n",
    "        nouns=extract_lemmas(doc, include_pos = ['NOUN', 'PROPN']),\n",
    "        nouns_phrases=extract_noun_phrases(doc, ['NOUN']),\n",
    "        adj_noun_phrases=extract_noun_phrases(doc, ['ADJ']),\n",
    "        entities=extract_entities(doc, ['PERSON', 'ORG', 'GPE', 'LOC'])\n",
    "    )\n",
    "\n",
    "text = \"My best friend Ryan Peters likes fancy adventure games.\"\n",
    "doc = nlp(text)\n",
    "\n",
    "for col, values in extract_nlp(doc).items():\n",
    "    print(f\"{col}: {values}\")"
   ]
  },
  {
   "cell_type": "code",
   "execution_count": 47,
   "id": "39918427",
   "metadata": {
    "execution": {
     "iopub.execute_input": "2023-12-26T16:50:48.847727Z",
     "iopub.status.busy": "2023-12-26T16:50:48.846787Z",
     "iopub.status.idle": "2023-12-26T16:50:49.087616Z",
     "shell.execute_reply": "2023-12-26T16:50:49.086332Z"
    },
    "papermill": {
     "duration": 0.277515,
     "end_time": "2023-12-26T16:50:49.090786",
     "exception": false,
     "start_time": "2023-12-26T16:50:48.813271",
     "status": "completed"
    },
    "tags": []
   },
   "outputs": [],
   "source": [
    "nlp_columns = list(extract_nlp(nlp.make_doc('')).keys())\n",
    "\n",
    "for col in nlp_columns:\n",
    "    df[col] = None\n",
    "    \n",
    "nlp.tokenizer = custom_tokenizer(nlp)\n",
    "\n",
    "df['text'] = df['title'] + ': ' + df['text']"
   ]
  },
  {
   "cell_type": "code",
   "execution_count": 48,
   "id": "e2d389a3",
   "metadata": {
    "execution": {
     "iopub.execute_input": "2023-12-26T16:50:49.160321Z",
     "iopub.status.busy": "2023-12-26T16:50:49.159872Z",
     "iopub.status.idle": "2023-12-26T16:59:20.669536Z",
     "shell.execute_reply": "2023-12-26T16:59:20.667638Z"
    },
    "papermill": {
     "duration": 511.548257,
     "end_time": "2023-12-26T16:59:20.672488",
     "exception": false,
     "start_time": "2023-12-26T16:50:49.124231",
     "status": "completed"
    },
    "tags": []
   },
   "outputs": [
    {
     "data": {
      "application/vnd.jupyter.widget-view+json": {
       "model_id": "7a03da559bfa426aac83d5835f675693",
       "version_major": 2,
       "version_minor": 0
      },
      "text/plain": [
       "  0%|          | 0/400 [00:00<?, ?it/s]"
      ]
     },
     "metadata": {},
     "output_type": "display_data"
    }
   ],
   "source": [
    "import math\n",
    "\n",
    "\n",
    "batch_size = 50\n",
    "batches = math.ceil(len(df) / batch_size)\n",
    "\n",
    "for i in tqdm(range(0, len(df), batch_size), total=batches):\n",
    "    docs = nlp.pipe(df['text'][i:i+batch_size])\n",
    "    \n",
    "    for j, doc in enumerate(docs):\n",
    "        for col, values in extract_nlp(doc).items():\n",
    "            df[col].iloc[i+j] = values"
   ]
  },
  {
   "cell_type": "code",
   "execution_count": 49,
   "id": "11989199",
   "metadata": {
    "execution": {
     "iopub.execute_input": "2023-12-26T16:59:20.744960Z",
     "iopub.status.busy": "2023-12-26T16:59:20.744350Z",
     "iopub.status.idle": "2023-12-26T16:59:20.790373Z",
     "shell.execute_reply": "2023-12-26T16:59:20.789083Z"
    },
    "papermill": {
     "duration": 0.087659,
     "end_time": "2023-12-26T16:59:20.794711",
     "exception": false,
     "start_time": "2023-12-26T16:59:20.707052",
     "status": "completed"
    },
    "tags": []
   },
   "outputs": [
    {
     "data": {
      "text/html": [
       "<div>\n",
       "<style scoped>\n",
       "    .dataframe tbody tr th:only-of-type {\n",
       "        vertical-align: middle;\n",
       "    }\n",
       "\n",
       "    .dataframe tbody tr th {\n",
       "        vertical-align: top;\n",
       "    }\n",
       "\n",
       "    .dataframe thead th {\n",
       "        text-align: right;\n",
       "    }\n",
       "</style>\n",
       "<table border=\"1\" class=\"dataframe\">\n",
       "  <thead>\n",
       "    <tr style=\"text-align: right;\">\n",
       "      <th></th>\n",
       "      <th>text</th>\n",
       "      <th>lemmas</th>\n",
       "      <th>nouns</th>\n",
       "      <th>nouns_phrases</th>\n",
       "      <th>entities</th>\n",
       "    </tr>\n",
       "  </thead>\n",
       "  <tbody>\n",
       "    <tr>\n",
       "      <th>60820</th>\n",
       "      <td>CPO Fee Question: As someone who may not be ab...</td>\n",
       "      <td>[CPO, Fee, Question, as, may, be, able, stand,...</td>\n",
       "      <td>[CPO, Fee, Question, wait, Model, Model, S, CP...</td>\n",
       "      <td>[shipping_fee, shipping_fee, documentation_cos...</td>\n",
       "      <td>[Model_S_CPO/PERSON, CPO/ORG, CPO/ORG, Doc/PER...</td>\n",
       "    </tr>\n",
       "    <tr>\n",
       "      <th>732345</th>\n",
       "      <td>This little Bluetooth remote made playing musi...</td>\n",
       "      <td>[little, Bluetooth, remote, make, play, music,...</td>\n",
       "      <td>[Bluetooth, music, phone, radio, aux, jack, Bl...</td>\n",
       "      <td>[phone_everytime, steering_wheel, steering_whe...</td>\n",
       "      <td>[jack/PERSON, jack/PERSON]</td>\n",
       "    </tr>\n",
       "    <tr>\n",
       "      <th>32758</th>\n",
       "      <td>Anyone from the Bay Area? I need advice on an ...</td>\n",
       "      <td>[from, Bay, Area, need, advice, on, auto, shop...</td>\n",
       "      <td>[Bay, Area, advice, auto, shop, work, truck, 4...</td>\n",
       "      <td>[auto_shop, lift_kit, seat_belt, alarm_system]</td>\n",
       "      <td>[Bay_Area/LOC, fine_Bay_Area/LOC]</td>\n",
       "    </tr>\n",
       "    <tr>\n",
       "      <th>891889</th>\n",
       "      <td>Would you switch allegiances to get a Raptor?:...</td>\n",
       "      <td>[would, switch, allegiance, get, raptor, be, c...</td>\n",
       "      <td>[allegiance, raptor, chevy, guy, Ford, Raptor,...</td>\n",
       "      <td>[chevy_guy]</td>\n",
       "      <td>[Ford_Raptor/ORG]</td>\n",
       "    </tr>\n",
       "    <tr>\n",
       "      <th>542752</th>\n",
       "      <td>What do you guys think about truck bed caps?: ...</td>\n",
       "      <td>[do, guy, think, about, truck, bed, cap, mean,...</td>\n",
       "      <td>[guy, truck, bed, cap, kind, rest, truck, form...</td>\n",
       "      <td>[truck_bed, truck_bed_cap, bed_cap, bed_cap, p...</td>\n",
       "      <td>[]</td>\n",
       "    </tr>\n",
       "  </tbody>\n",
       "</table>\n",
       "</div>"
      ],
      "text/plain": [
       "                                                     text  \\\n",
       "60820   CPO Fee Question: As someone who may not be ab...   \n",
       "732345  This little Bluetooth remote made playing musi...   \n",
       "32758   Anyone from the Bay Area? I need advice on an ...   \n",
       "891889  Would you switch allegiances to get a Raptor?:...   \n",
       "542752  What do you guys think about truck bed caps?: ...   \n",
       "\n",
       "                                                   lemmas  \\\n",
       "60820   [CPO, Fee, Question, as, may, be, able, stand,...   \n",
       "732345  [little, Bluetooth, remote, make, play, music,...   \n",
       "32758   [from, Bay, Area, need, advice, on, auto, shop...   \n",
       "891889  [would, switch, allegiance, get, raptor, be, c...   \n",
       "542752  [do, guy, think, about, truck, bed, cap, mean,...   \n",
       "\n",
       "                                                    nouns  \\\n",
       "60820   [CPO, Fee, Question, wait, Model, Model, S, CP...   \n",
       "732345  [Bluetooth, music, phone, radio, aux, jack, Bl...   \n",
       "32758   [Bay, Area, advice, auto, shop, work, truck, 4...   \n",
       "891889  [allegiance, raptor, chevy, guy, Ford, Raptor,...   \n",
       "542752  [guy, truck, bed, cap, kind, rest, truck, form...   \n",
       "\n",
       "                                            nouns_phrases  \\\n",
       "60820   [shipping_fee, shipping_fee, documentation_cos...   \n",
       "732345  [phone_everytime, steering_wheel, steering_whe...   \n",
       "32758      [auto_shop, lift_kit, seat_belt, alarm_system]   \n",
       "891889                                        [chevy_guy]   \n",
       "542752  [truck_bed, truck_bed_cap, bed_cap, bed_cap, p...   \n",
       "\n",
       "                                                 entities  \n",
       "60820   [Model_S_CPO/PERSON, CPO/ORG, CPO/ORG, Doc/PER...  \n",
       "732345                         [jack/PERSON, jack/PERSON]  \n",
       "32758                   [Bay_Area/LOC, fine_Bay_Area/LOC]  \n",
       "891889                                  [Ford_Raptor/ORG]  \n",
       "542752                                                 []  "
      ]
     },
     "execution_count": 49,
     "metadata": {},
     "output_type": "execute_result"
    }
   ],
   "source": [
    "df[['text', 'lemmas', 'nouns', 'nouns_phrases', 'entities']].sample(5)"
   ]
  },
  {
   "cell_type": "code",
   "execution_count": 50,
   "id": "c99733bd",
   "metadata": {
    "execution": {
     "iopub.execute_input": "2023-12-26T16:59:20.868228Z",
     "iopub.status.busy": "2023-12-26T16:59:20.866944Z",
     "iopub.status.idle": "2023-12-26T16:59:21.507195Z",
     "shell.execute_reply": "2023-12-26T16:59:21.505878Z"
    },
    "papermill": {
     "duration": 0.679235,
     "end_time": "2023-12-26T16:59:21.509973",
     "exception": false,
     "start_time": "2023-12-26T16:59:20.830738",
     "status": "completed"
    },
    "tags": []
   },
   "outputs": [
    {
     "data": {
      "application/vnd.jupyter.widget-view+json": {
       "model_id": "790598b3266a47ec9ac1be53432b3b2b",
       "version_major": 2,
       "version_minor": 0
      },
      "text/plain": [
       "  0%|          | 0/20000 [00:00<?, ?it/s]"
      ]
     },
     "metadata": {},
     "output_type": "display_data"
    },
    {
     "data": {
      "image/png": "[encoded data removed]",
      "text/plain": [
       "<Figure size 1000x600 with 1 Axes>"
      ]
     },
     "metadata": {},
     "output_type": "display_data"
    }
   ],
   "source": [
    "count_words(df['nouns_phrases']).head(10).plot(kind='barh', figsize=(10, 6)).invert_yaxis()"
   ]
  },
  {
   "cell_type": "markdown",
   "id": "7c20bc2b",
   "metadata": {
    "papermill": {
     "duration": 0.035306,
     "end_time": "2023-12-26T16:59:21.579710",
     "exception": false,
     "start_time": "2023-12-26T16:59:21.544404",
     "status": "completed"
    },
    "tags": []
   },
   "source": [
    "# Language Detection"
   ]
  },
  {
   "cell_type": "markdown",
   "id": "ca8099f5",
   "metadata": {
    "papermill": {
     "duration": 0.03535,
     "end_time": "2023-12-26T16:59:21.651638",
     "exception": false,
     "start_time": "2023-12-26T16:59:21.616288",
     "status": "completed"
    },
    "tags": []
   },
   "source": [
    "## Language Detection with fastText\n",
    "\n",
    "There are different trained models available on the fastText website. We will be using the smaller model lid.176.ftz which has a size of less than 1 MB and is almost as accurate as the large model with 126MB. See https://fasttext.cc/docs/en/language-identification.html for instructions."
   ]
  },
  {
   "cell_type": "code",
   "execution_count": 51,
   "id": "543f5829",
   "metadata": {
    "execution": {
     "iopub.execute_input": "2023-12-26T16:59:21.726054Z",
     "iopub.status.busy": "2023-12-26T16:59:21.725264Z",
     "iopub.status.idle": "2023-12-26T16:59:23.136775Z",
     "shell.execute_reply": "2023-12-26T16:59:23.134821Z"
    },
    "papermill": {
     "duration": 1.453009,
     "end_time": "2023-12-26T16:59:23.140235",
     "exception": false,
     "start_time": "2023-12-26T16:59:21.687226",
     "status": "completed"
    },
    "tags": []
   },
   "outputs": [
    {
     "name": "stdout",
     "output_type": "stream",
     "text": [
      "--2023-12-26 16:59:22--  https://dl.fbaipublicfiles.com/fasttext/supervised-models/lid.176.ftz\r\n",
      "Resolving dl.fbaipublicfiles.com (dl.fbaipublicfiles.com)... 3.163.189.51, 3.163.189.108, 3.163.189.14, ...\r\n",
      "Connecting to dl.fbaipublicfiles.com (dl.fbaipublicfiles.com)|3.163.189.51|:443... connected.\r\n",
      "HTTP request sent, awaiting response... 200 OK\r\n",
      "Length: 938013 (916K) [binary/octet-stream]\r\n",
      "Saving to: 'lid.176.ftz'\r\n",
      "\r\n",
      "lid.176.ftz         100%[===================>] 916.03K  --.-KB/s    in 0.05s   \r\n",
      "\r\n",
      "2023-12-26 16:59:23 (18.4 MB/s) - 'lid.176.ftz' saved [938013/938013]\r\n",
      "\r\n"
     ]
    }
   ],
   "source": [
    "!wget https://dl.fbaipublicfiles.com/fasttext/supervised-models/lid.176.ftz"
   ]
  },
  {
   "cell_type": "code",
   "execution_count": 52,
   "id": "e5c6b8a1",
   "metadata": {
    "execution": {
     "iopub.execute_input": "2023-12-26T16:59:23.215539Z",
     "iopub.status.busy": "2023-12-26T16:59:23.215047Z",
     "iopub.status.idle": "2023-12-26T16:59:23.284556Z",
     "shell.execute_reply": "2023-12-26T16:59:23.283276Z"
    },
    "papermill": {
     "duration": 0.111227,
     "end_time": "2023-12-26T16:59:23.287092",
     "exception": false,
     "start_time": "2023-12-26T16:59:23.175865",
     "status": "completed"
    },
    "tags": []
   },
   "outputs": [
    {
     "name": "stdout",
     "output_type": "stream",
     "text": [
      "(('__label__en', '__label__de', '__label__te'), array([0.97039694, 0.00256404, 0.00231963]))\n"
     ]
    },
    {
     "name": "stderr",
     "output_type": "stream",
     "text": [
      "Warning : `load_model` does not return WordVectorModel or SupervisedModel any more, but a `FastText` object which is very similar.\n"
     ]
    }
   ],
   "source": [
    "import fasttext\n",
    "\n",
    "\n",
    "lang_model = fasttext.load_model(\"lid.176.ftz\")\n",
    "\n",
    "print(lang_model.predict('\"Good morning\" in German is \"Guten Morgen\"', 3))"
   ]
  },
  {
   "cell_type": "code",
   "execution_count": 53,
   "id": "1df1c32f",
   "metadata": {
    "execution": {
     "iopub.execute_input": "2023-12-26T16:59:23.360427Z",
     "iopub.status.busy": "2023-12-26T16:59:23.359885Z",
     "iopub.status.idle": "2023-12-26T16:59:23.370558Z",
     "shell.execute_reply": "2023-12-26T16:59:23.369123Z"
    },
    "papermill": {
     "duration": 0.051436,
     "end_time": "2023-12-26T16:59:23.373555",
     "exception": false,
     "start_time": "2023-12-26T16:59:23.322119",
     "status": "completed"
    },
    "tags": []
   },
   "outputs": [
    {
     "data": {
      "text/plain": [
       "(('__label__en', '__label__de', '__label__te'),\n",
       " array([0.97039694, 0.00256404, 0.00231963]))"
      ]
     },
     "execution_count": 53,
     "metadata": {},
     "output_type": "execute_result"
    }
   ],
   "source": [
    "lang_model.predict('\"Good morning\" in German is \"Guten Morgen\"', 3)"
   ]
  },
  {
   "cell_type": "markdown",
   "id": "cc516e25",
   "metadata": {
    "papermill": {
     "duration": 0.035421,
     "end_time": "2023-12-26T16:59:23.445135",
     "exception": false,
     "start_time": "2023-12-26T16:59:23.409714",
     "status": "completed"
    },
    "tags": []
   },
   "source": [
    "The predict function takes a Unicode string as its first argument. The second, optional parameter k specifies that we want the k language labels with the highest probabilities.\n",
    "\n",
    "The model returns labels in the form `__label__<code>`, where code is the ISO 639 language code<footnote>See https://en.wikipedia.org/wiki/List_of_ISO_639-1_codes for a complete list.</footnote> and probabilites for each label.\n",
    "\n",
    "Let's wrap the language identification into a preprocessing function. The function returns the detected language only if the calculated probability is higher than the specified threshold, otherwise, it returns the default language. This is useful for corpora like the hacker news, which is basically an English corpus with some utterances from other languages."
   ]
  },
  {
   "cell_type": "code",
   "execution_count": 54,
   "id": "49f19d1a",
   "metadata": {
    "execution": {
     "iopub.execute_input": "2023-12-26T16:59:23.516962Z",
     "iopub.status.busy": "2023-12-26T16:59:23.516453Z",
     "iopub.status.idle": "2023-12-26T16:59:23.531622Z",
     "shell.execute_reply": "2023-12-26T16:59:23.530531Z"
    },
    "papermill": {
     "duration": 0.054239,
     "end_time": "2023-12-26T16:59:23.534341",
     "exception": false,
     "start_time": "2023-12-26T16:59:23.480102",
     "status": "completed"
    },
    "tags": []
   },
   "outputs": [],
   "source": [
    "def predict_language(text, threshold=0.8, default='en'):\n",
    "    \n",
    "    # skip language detection for very short texts\n",
    "    if len(text) < 20:\n",
    "        return default\n",
    "\n",
    "    # fasttext requires single line input\n",
    "    text = text.replace('\\n', ' ')\n",
    "    \n",
    "    labels, probas = lang_model.predict(text)\n",
    "    lang = labels[0].replace(\"__label__\", \"\")\n",
    "    proba = probas[0]\n",
    "    \n",
    "    if proba < threshold:\n",
    "        return default\n",
    "    else:\n",
    "        return lang"
   ]
  },
  {
   "cell_type": "code",
   "execution_count": 55,
   "id": "f865122f",
   "metadata": {
    "execution": {
     "iopub.execute_input": "2023-12-26T16:59:23.606331Z",
     "iopub.status.busy": "2023-12-26T16:59:23.605937Z",
     "iopub.status.idle": "2023-12-26T16:59:23.624568Z",
     "shell.execute_reply": "2023-12-26T16:59:23.623291Z"
    },
    "papermill": {
     "duration": 0.057813,
     "end_time": "2023-12-26T16:59:23.627434",
     "exception": false,
     "start_time": "2023-12-26T16:59:23.569621",
     "status": "completed"
    },
    "tags": []
   },
   "outputs": [
    {
     "data": {
      "text/html": [
       "<div>\n",
       "<style scoped>\n",
       "    .dataframe tbody tr th:only-of-type {\n",
       "        vertical-align: middle;\n",
       "    }\n",
       "\n",
       "    .dataframe tbody tr th {\n",
       "        vertical-align: top;\n",
       "    }\n",
       "\n",
       "    .dataframe thead th {\n",
       "        text-align: right;\n",
       "    }\n",
       "</style>\n",
       "<table border=\"1\" class=\"dataframe\">\n",
       "  <thead>\n",
       "    <tr style=\"text-align: right;\">\n",
       "      <th></th>\n",
       "      <th>text</th>\n",
       "      <th>lang</th>\n",
       "    </tr>\n",
       "  </thead>\n",
       "  <tbody>\n",
       "    <tr>\n",
       "      <th>0</th>\n",
       "      <td>I don't like version 2.0 of Chat4you 😡👎</td>\n",
       "      <td>en</td>\n",
       "    </tr>\n",
       "    <tr>\n",
       "      <th>1</th>\n",
       "      <td>Ich mag Version 2.0 von Chat4you nicht 😡👎</td>\n",
       "      <td>de</td>\n",
       "    </tr>\n",
       "    <tr>\n",
       "      <th>2</th>\n",
       "      <td>Мне не нравится версия 2.0 Chat4you 😡👎</td>\n",
       "      <td>ru</td>\n",
       "    </tr>\n",
       "    <tr>\n",
       "      <th>3</th>\n",
       "      <td>Não gosto da versão 2.0 do Chat4you 😡👎</td>\n",
       "      <td>pt</td>\n",
       "    </tr>\n",
       "    <tr>\n",
       "      <th>4</th>\n",
       "      <td>मुझे Chat4you का संस्करण 2.0 पसंद नहीं है 😡👎</td>\n",
       "      <td>hi</td>\n",
       "    </tr>\n",
       "  </tbody>\n",
       "</table>\n",
       "</div>"
      ],
      "text/plain": [
       "                                           text lang\n",
       "0       I don't like version 2.0 of Chat4you 😡👎   en\n",
       "1     Ich mag Version 2.0 von Chat4you nicht 😡👎   de\n",
       "2        Мне не нравится версия 2.0 Chat4you 😡👎   ru\n",
       "3        Não gosto da versão 2.0 do Chat4you 😡👎   pt\n",
       "4  मुझे Chat4you का संस्करण 2.0 पसंद नहीं है 😡👎   hi"
      ]
     },
     "execution_count": 55,
     "metadata": {},
     "output_type": "execute_result"
    }
   ],
   "source": [
    "data = [\"I don't like version 2.0 of Chat4you 😡👎\",   # English\n",
    "        \"Ich mag Version 2.0 von Chat4you nicht 😡👎\", # German\n",
    "        \"Мне не нравится версия 2.0 Chat4you 😡👎\",    # Russian\n",
    "        \"Não gosto da versão 2.0 do Chat4you 😡👎\",    # Portugese\n",
    "        \"मुझे Chat4you का संस्करण 2.0 पसंद नहीं है 😡👎\"]   # Hindi\n",
    "demo_df = pd.Series(data, name='text').to_frame()\n",
    "\n",
    "demo_df['lang'] = demo_df['text'].apply(predict_language)\n",
    "demo_df"
   ]
  },
  {
   "cell_type": "markdown",
   "id": "eb6e535a",
   "metadata": {
    "papermill": {
     "duration": 0.036033,
     "end_time": "2023-12-26T16:59:23.698143",
     "exception": false,
     "start_time": "2023-12-26T16:59:23.662110",
     "status": "completed"
    },
    "tags": []
   },
   "source": [
    "In order to get the real names for the language codes, we can provide a mapping dictionary."
   ]
  },
  {
   "cell_type": "code",
   "execution_count": 56,
   "id": "13802555",
   "metadata": {
    "execution": {
     "iopub.execute_input": "2023-12-26T16:59:23.771632Z",
     "iopub.status.busy": "2023-12-26T16:59:23.771038Z",
     "iopub.status.idle": "2023-12-26T16:59:23.970751Z",
     "shell.execute_reply": "2023-12-26T16:59:23.969412Z"
    },
    "papermill": {
     "duration": 0.239599,
     "end_time": "2023-12-26T16:59:23.973704",
     "exception": false,
     "start_time": "2023-12-26T16:59:23.734105",
     "status": "completed"
    },
    "tags": []
   },
   "outputs": [],
   "source": [
    "url = 'https://raw.githubusercontent.com/haliaeetus/iso-639/master/data/iso_639-1.csv'\n",
    "lang_df = pd.read_csv(url)\n",
    "lang_df = lang_df[['name', '639-1', '639-2']].melt(id_vars=['name'], var_name='iso', value_name='code')\n",
    "\n",
    "# create dictionary with entries {'code': 'name'}\n",
    "iso639_languages = lang_df.set_index('code')['name'].to_dict()"
   ]
  },
  {
   "cell_type": "code",
   "execution_count": 57,
   "id": "cc1cf5e5",
   "metadata": {
    "execution": {
     "iopub.execute_input": "2023-12-26T16:59:24.046066Z",
     "iopub.status.busy": "2023-12-26T16:59:24.045542Z",
     "iopub.status.idle": "2023-12-26T16:59:24.061309Z",
     "shell.execute_reply": "2023-12-26T16:59:24.060023Z"
    },
    "papermill": {
     "duration": 0.055429,
     "end_time": "2023-12-26T16:59:24.063797",
     "exception": false,
     "start_time": "2023-12-26T16:59:24.008368",
     "status": "completed"
    },
    "tags": []
   },
   "outputs": [
    {
     "data": {
      "text/html": [
       "<div>\n",
       "<style scoped>\n",
       "    .dataframe tbody tr th:only-of-type {\n",
       "        vertical-align: middle;\n",
       "    }\n",
       "\n",
       "    .dataframe tbody tr th {\n",
       "        vertical-align: top;\n",
       "    }\n",
       "\n",
       "    .dataframe thead th {\n",
       "        text-align: right;\n",
       "    }\n",
       "</style>\n",
       "<table border=\"1\" class=\"dataframe\">\n",
       "  <thead>\n",
       "    <tr style=\"text-align: right;\">\n",
       "      <th></th>\n",
       "      <th>text</th>\n",
       "      <th>lang</th>\n",
       "      <th>lang_name</th>\n",
       "    </tr>\n",
       "  </thead>\n",
       "  <tbody>\n",
       "    <tr>\n",
       "      <th>0</th>\n",
       "      <td>I don't like version 2.0 of Chat4you 😡👎</td>\n",
       "      <td>en</td>\n",
       "      <td>English</td>\n",
       "    </tr>\n",
       "    <tr>\n",
       "      <th>1</th>\n",
       "      <td>Ich mag Version 2.0 von Chat4you nicht 😡👎</td>\n",
       "      <td>de</td>\n",
       "      <td>German</td>\n",
       "    </tr>\n",
       "    <tr>\n",
       "      <th>2</th>\n",
       "      <td>Мне не нравится версия 2.0 Chat4you 😡👎</td>\n",
       "      <td>ru</td>\n",
       "      <td>Russian</td>\n",
       "    </tr>\n",
       "    <tr>\n",
       "      <th>3</th>\n",
       "      <td>Não gosto da versão 2.0 do Chat4you 😡👎</td>\n",
       "      <td>pt</td>\n",
       "      <td>Portuguese</td>\n",
       "    </tr>\n",
       "    <tr>\n",
       "      <th>4</th>\n",
       "      <td>मुझे Chat4you का संस्करण 2.0 पसंद नहीं है 😡👎</td>\n",
       "      <td>hi</td>\n",
       "      <td>Hindi</td>\n",
       "    </tr>\n",
       "  </tbody>\n",
       "</table>\n",
       "</div>"
      ],
      "text/plain": [
       "                                           text lang   lang_name\n",
       "0       I don't like version 2.0 of Chat4you 😡👎   en     English\n",
       "1     Ich mag Version 2.0 von Chat4you nicht 😡👎   de      German\n",
       "2        Мне не нравится версия 2.0 Chat4you 😡👎   ru     Russian\n",
       "3        Não gosto da versão 2.0 do Chat4you 😡👎   pt  Portuguese\n",
       "4  मुझे Chat4you का संस्करण 2.0 पसंद नहीं है 😡👎   hi       Hindi"
      ]
     },
     "execution_count": 57,
     "metadata": {},
     "output_type": "execute_result"
    }
   ],
   "source": [
    "demo_df['lang_name'] = demo_df['lang'].map(iso639_languages)\n",
    "demo_df"
   ]
  },
  {
   "cell_type": "code",
   "execution_count": null,
   "id": "56931a63",
   "metadata": {
    "papermill": {
     "duration": 0.034554,
     "end_time": "2023-12-26T16:59:24.134275",
     "exception": false,
     "start_time": "2023-12-26T16:59:24.099721",
     "status": "completed"
    },
    "tags": []
   },
   "outputs": [],
   "source": []
  }
 ],
 "metadata": {
  "kaggle": {
   "accelerator": "none",
   "dataSources": [
    {
     "datasetId": 63337,
     "sourceId": 129033,
     "sourceType": "datasetVersion"
    }
   ],
   "dockerImageVersionId": 30626,
   "isGpuEnabled": false,
   "isInternetEnabled": true,
   "language": "python",
   "sourceType": "notebook"
  },
  "kernelspec": {
   "display_name": "Python 3",
   "language": "python",
   "name": "python3"
  },
  "language_info": {
   "codemirror_mode": {
    "name": "ipython",
    "version": 3
   },
   "file_extension": ".py",
   "mimetype": "text/x-python",
   "name": "python",
   "nbconvert_exporter": "python",
   "pygments_lexer": "ipython3",
   "version": "3.10.12"
  },
  "papermill": {
   "default_parameters": {},
   "duration": 618.289907,
   "end_time": "2023-12-26T16:59:26.897095",
   "environment_variables": {},
   "exception": null,
   "input_path": "__notebook__.ipynb",
   "output_path": "__notebook__.ipynb",
   "parameters": {},
   "start_time": "2023-12-26T16:49:08.607188",
   "version": "2.2.2"
  },
  "widgets": {
   "application/vnd.jupyter.widget-state+json": {
    "state": {
     "0277bfa7cca54bffa9df9a07fe7af557": {
      "model_module": "@jupyter-widgets/base",
      "model_module_version": "1.2.0",
      "model_name": "LayoutModel",
      "state": {
       "_model_module": "@jupyter-widgets/base",
       "_model_module_version": "1.2.0",
       "_model_name": "LayoutModel",
       "_view_count": null,
       "_view_module": "@jupyter-widgets/base",
       "_view_module_version": "1.2.0",
       "_view_name": "LayoutView",
       "align_content": null,
       "align_items": null,
       "align_self": null,
       "border": null,
       "bottom": null,
       "display": null,
       "flex": null,
       "flex_flow": null,
       "grid_area": null,
       "grid_auto_columns": null,
       "grid_auto_flow": null,
       "grid_auto_rows": null,
       "grid_column": null,
       "grid_gap": null,
       "grid_row": null,
       "grid_template_areas": null,
       "grid_template_columns": null,
       "grid_template_rows": null,
       "height": null,
       "justify_content": null,
       "justify_items": null,
       "left": null,
       "margin": null,
       "max_height": null,
       "max_width": null,
       "min_height": null,
       "min_width": null,
       "object_fit": null,
       "object_position": null,
       "order": null,
       "overflow": null,
       "overflow_x": null,
       "overflow_y": null,
       "padding": null,
       "right": null,
       "top": null,
       "visibility": null,
       "width": null
      }
     },
     "04cc0b622f67469cb8ced7c2bdfbb85f": {
      "model_module": "@jupyter-widgets/controls",
      "model_module_version": "1.5.0",
      "model_name": "ProgressStyleModel",
      "state": {
       "_model_module": "@jupyter-widgets/controls",
       "_model_module_version": "1.5.0",
       "_model_name": "ProgressStyleModel",
       "_view_count": null,
       "_view_module": "@jupyter-widgets/base",
       "_view_module_version": "1.2.0",
       "_view_name": "StyleView",
       "bar_color": null,
       "description_width": ""
      }
     },
     "07c7a3e844d84961a6353d9b9bc01fee": {
      "model_module": "@jupyter-widgets/base",
      "model_module_version": "1.2.0",
      "model_name": "LayoutModel",
      "state": {
       "_model_module": "@jupyter-widgets/base",
       "_model_module_version": "1.2.0",
       "_model_name": "LayoutModel",
       "_view_count": null,
       "_view_module": "@jupyter-widgets/base",
       "_view_module_version": "1.2.0",
       "_view_name": "LayoutView",
       "align_content": null,
       "align_items": null,
       "align_self": null,
       "border": null,
       "bottom": null,
       "display": null,
       "flex": null,
       "flex_flow": null,
       "grid_area": null,
       "grid_auto_columns": null,
       "grid_auto_flow": null,
       "grid_auto_rows": null,
       "grid_column": null,
       "grid_gap": null,
       "grid_row": null,
       "grid_template_areas": null,
       "grid_template_columns": null,
       "grid_template_rows": null,
       "height": null,
       "justify_content": null,
       "justify_items": null,
       "left": null,
       "margin": null,
       "max_height": null,
       "max_width": null,
       "min_height": null,
       "min_width": null,
       "object_fit": null,
       "object_position": null,
       "order": null,
       "overflow": null,
       "overflow_x": null,
       "overflow_y": null,
       "padding": null,
       "right": null,
       "top": null,
       "visibility": null,
       "width": null
      }
     },
     "0993ab08ac5f454b88d895e94f6eb088": {
      "model_module": "@jupyter-widgets/base",
      "model_module_version": "1.2.0",
      "model_name": "LayoutModel",
      "state": {
       "_model_module": "@jupyter-widgets/base",
       "_model_module_version": "1.2.0",
       "_model_name": "LayoutModel",
       "_view_count": null,
       "_view_module": "@jupyter-widgets/base",
       "_view_module_version": "1.2.0",
       "_view_name": "LayoutView",
       "align_content": null,
       "align_items": null,
       "align_self": null,
       "border": null,
       "bottom": null,
       "display": null,
       "flex": null,
       "flex_flow": null,
       "grid_area": null,
       "grid_auto_columns": null,
       "grid_auto_flow": null,
       "grid_auto_rows": null,
       "grid_column": null,
       "grid_gap": null,
       "grid_row": null,
       "grid_template_areas": null,
       "grid_template_columns": null,
       "grid_template_rows": null,
       "height": null,
       "justify_content": null,
       "justify_items": null,
       "left": null,
       "margin": null,
       "max_height": null,
       "max_width": null,
       "min_height": null,
       "min_width": null,
       "object_fit": null,
       "object_position": null,
       "order": null,
       "overflow": null,
       "overflow_x": null,
       "overflow_y": null,
       "padding": null,
       "right": null,
       "top": null,
       "visibility": null,
       "width": null
      }
     },
     "0d8a9e8563af4e5cade3218c109dc9e2": {
      "model_module": "@jupyter-widgets/base",
      "model_module_version": "1.2.0",
      "model_name": "LayoutModel",
      "state": {
       "_model_module": "@jupyter-widgets/base",
       "_model_module_version": "1.2.0",
       "_model_name": "LayoutModel",
       "_view_count": null,
       "_view_module": "@jupyter-widgets/base",
       "_view_module_version": "1.2.0",
       "_view_name": "LayoutView",
       "align_content": null,
       "align_items": null,
       "align_self": null,
       "border": null,
       "bottom": null,
       "display": null,
       "flex": null,
       "flex_flow": null,
       "grid_area": null,
       "grid_auto_columns": null,
       "grid_auto_flow": null,
       "grid_auto_rows": null,
       "grid_column": null,
       "grid_gap": null,
       "grid_row": null,
       "grid_template_areas": null,
       "grid_template_columns": null,
       "grid_template_rows": null,
       "height": null,
       "justify_content": null,
       "justify_items": null,
       "left": null,
       "margin": null,
       "max_height": null,
       "max_width": null,
       "min_height": null,
       "min_width": null,
       "object_fit": null,
       "object_position": null,
       "order": null,
       "overflow": null,
       "overflow_x": null,
       "overflow_y": null,
       "padding": null,
       "right": null,
       "top": null,
       "visibility": null,
       "width": null
      }
     },
     "0e0fe209a2364c08a963a6741e87b2d2": {
      "model_module": "@jupyter-widgets/controls",
      "model_module_version": "1.5.0",
      "model_name": "DescriptionStyleModel",
      "state": {
       "_model_module": "@jupyter-widgets/controls",
       "_model_module_version": "1.5.0",
       "_model_name": "DescriptionStyleModel",
       "_view_count": null,
       "_view_module": "@jupyter-widgets/base",
       "_view_module_version": "1.2.0",
       "_view_name": "StyleView",
       "description_width": ""
      }
     },
     "0fabbc8c69b3473e840499aa4277393f": {
      "model_module": "@jupyter-widgets/base",
      "model_module_version": "1.2.0",
      "model_name": "LayoutModel",
      "state": {
       "_model_module": "@jupyter-widgets/base",
       "_model_module_version": "1.2.0",
       "_model_name": "LayoutModel",
       "_view_count": null,
       "_view_module": "@jupyter-widgets/base",
       "_view_module_version": "1.2.0",
       "_view_name": "LayoutView",
       "align_content": null,
       "align_items": null,
       "align_self": null,
       "border": null,
       "bottom": null,
       "display": null,
       "flex": null,
       "flex_flow": null,
       "grid_area": null,
       "grid_auto_columns": null,
       "grid_auto_flow": null,
       "grid_auto_rows": null,
       "grid_column": null,
       "grid_gap": null,
       "grid_row": null,
       "grid_template_areas": null,
       "grid_template_columns": null,
       "grid_template_rows": null,
       "height": null,
       "justify_content": null,
       "justify_items": null,
       "left": null,
       "margin": null,
       "max_height": null,
       "max_width": null,
       "min_height": null,
       "min_width": null,
       "object_fit": null,
       "object_position": null,
       "order": null,
       "overflow": null,
       "overflow_x": null,
       "overflow_y": null,
       "padding": null,
       "right": null,
       "top": null,
       "visibility": null,
       "width": null
      }
     },
     "13bf4cecb9094da4b2d32a179a3acaed": {
      "model_module": "@jupyter-widgets/controls",
      "model_module_version": "1.5.0",
      "model_name": "DescriptionStyleModel",
      "state": {
       "_model_module": "@jupyter-widgets/controls",
       "_model_module_version": "1.5.0",
       "_model_name": "DescriptionStyleModel",
       "_view_count": null,
       "_view_module": "@jupyter-widgets/base",
       "_view_module_version": "1.2.0",
       "_view_name": "StyleView",
       "description_width": ""
      }
     },
     "1ac073fc330d4bd69bf8a2c5ca9a5c89": {
      "model_module": "@jupyter-widgets/controls",
      "model_module_version": "1.5.0",
      "model_name": "HTMLModel",
      "state": {
       "_dom_classes": [],
       "_model_module": "@jupyter-widgets/controls",
       "_model_module_version": "1.5.0",
       "_model_name": "HTMLModel",
       "_view_count": null,
       "_view_module": "@jupyter-widgets/controls",
       "_view_module_version": "1.5.0",
       "_view_name": "HTMLView",
       "description": "",
       "description_tooltip": null,
       "layout": "IPY_MODEL_e078df6384194da59febcae423efed7f",
       "placeholder": "​",
       "style": "IPY_MODEL_90f007b818b140ad95260f7643cbb648",
       "value": "100%"
      }
     },
     "1b0a83debbb04153b060a1865c3c4583": {
      "model_module": "@jupyter-widgets/controls",
      "model_module_version": "1.5.0",
      "model_name": "FloatProgressModel",
      "state": {
       "_dom_classes": [],
       "_model_module": "@jupyter-widgets/controls",
       "_model_module_version": "1.5.0",
       "_model_name": "FloatProgressModel",
       "_view_count": null,
       "_view_module": "@jupyter-widgets/controls",
       "_view_module_version": "1.5.0",
       "_view_name": "ProgressView",
       "bar_style": "success",
       "description": "",
       "description_tooltip": null,
       "layout": "IPY_MODEL_442e4bdd62dc4bbdbcea0114b35743ee",
       "max": 20000.0,
       "min": 0.0,
       "orientation": "horizontal",
       "style": "IPY_MODEL_35d234d51d0f4077b2e00b6cabd3d971",
       "value": 20000.0
      }
     },
     "1eb29ceb9a86459c964e9e7a07b6b453": {
      "model_module": "@jupyter-widgets/controls",
      "model_module_version": "1.5.0",
      "model_name": "HTMLModel",
      "state": {
       "_dom_classes": [],
       "_model_module": "@jupyter-widgets/controls",
       "_model_module_version": "1.5.0",
       "_model_name": "HTMLModel",
       "_view_count": null,
       "_view_module": "@jupyter-widgets/controls",
       "_view_module_version": "1.5.0",
       "_view_name": "HTMLView",
       "description": "",
       "description_tooltip": null,
       "layout": "IPY_MODEL_48c5350a776449fda6fdc62272a4012b",
       "placeholder": "​",
       "style": "IPY_MODEL_13bf4cecb9094da4b2d32a179a3acaed",
       "value": "100%"
      }
     },
     "2dea536876e6423f95deafec90fdaa2b": {
      "model_module": "@jupyter-widgets/controls",
      "model_module_version": "1.5.0",
      "model_name": "DescriptionStyleModel",
      "state": {
       "_model_module": "@jupyter-widgets/controls",
       "_model_module_version": "1.5.0",
       "_model_name": "DescriptionStyleModel",
       "_view_count": null,
       "_view_module": "@jupyter-widgets/base",
       "_view_module_version": "1.2.0",
       "_view_name": "StyleView",
       "description_width": ""
      }
     },
     "2ecddd55a29946cb963c78ac70c7dccf": {
      "model_module": "@jupyter-widgets/controls",
      "model_module_version": "1.5.0",
      "model_name": "ProgressStyleModel",
      "state": {
       "_model_module": "@jupyter-widgets/controls",
       "_model_module_version": "1.5.0",
       "_model_name": "ProgressStyleModel",
       "_view_count": null,
       "_view_module": "@jupyter-widgets/base",
       "_view_module_version": "1.2.0",
       "_view_name": "StyleView",
       "bar_color": null,
       "description_width": ""
      }
     },
     "344abc8f41e641e6acd3773cfa440c8a": {
      "model_module": "@jupyter-widgets/base",
      "model_module_version": "1.2.0",
      "model_name": "LayoutModel",
      "state": {
       "_model_module": "@jupyter-widgets/base",
       "_model_module_version": "1.2.0",
       "_model_name": "LayoutModel",
       "_view_count": null,
       "_view_module": "@jupyter-widgets/base",
       "_view_module_version": "1.2.0",
       "_view_name": "LayoutView",
       "align_content": null,
       "align_items": null,
       "align_self": null,
       "border": null,
       "bottom": null,
       "display": null,
       "flex": null,
       "flex_flow": null,
       "grid_area": null,
       "grid_auto_columns": null,
       "grid_auto_flow": null,
       "grid_auto_rows": null,
       "grid_column": null,
       "grid_gap": null,
       "grid_row": null,
       "grid_template_areas": null,
       "grid_template_columns": null,
       "grid_template_rows": null,
       "height": null,
       "justify_content": null,
       "justify_items": null,
       "left": null,
       "margin": null,
       "max_height": null,
       "max_width": null,
       "min_height": null,
       "min_width": null,
       "object_fit": null,
       "object_position": null,
       "order": null,
       "overflow": null,
       "overflow_x": null,
       "overflow_y": null,
       "padding": null,
       "right": null,
       "top": null,
       "visibility": null,
       "width": null
      }
     },
     "35d234d51d0f4077b2e00b6cabd3d971": {
      "model_module": "@jupyter-widgets/controls",
      "model_module_version": "1.5.0",
      "model_name": "ProgressStyleModel",
      "state": {
       "_model_module": "@jupyter-widgets/controls",
       "_model_module_version": "1.5.0",
       "_model_name": "ProgressStyleModel",
       "_view_count": null,
       "_view_module": "@jupyter-widgets/base",
       "_view_module_version": "1.2.0",
       "_view_name": "StyleView",
       "bar_color": null,
       "description_width": ""
      }
     },
     "35fc8e7ccb284bd9b157d4e63ec51133": {
      "model_module": "@jupyter-widgets/controls",
      "model_module_version": "1.5.0",
      "model_name": "HTMLModel",
      "state": {
       "_dom_classes": [],
       "_model_module": "@jupyter-widgets/controls",
       "_model_module_version": "1.5.0",
       "_model_name": "HTMLModel",
       "_view_count": null,
       "_view_module": "@jupyter-widgets/controls",
       "_view_module_version": "1.5.0",
       "_view_name": "HTMLView",
       "description": "",
       "description_tooltip": null,
       "layout": "IPY_MODEL_68a175c2079849be874ffe3cc6847297",
       "placeholder": "​",
       "style": "IPY_MODEL_c3b9100aa9b240118c9d4861524496bf",
       "value": " 20000/20000 [00:02&lt;00:00, 7569.00it/s]"
      }
     },
     "3bffe49928ec475ea905b6d415f3f8c0": {
      "model_module": "@jupyter-widgets/base",
      "model_module_version": "1.2.0",
      "model_name": "LayoutModel",
      "state": {
       "_model_module": "@jupyter-widgets/base",
       "_model_module_version": "1.2.0",
       "_model_name": "LayoutModel",
       "_view_count": null,
       "_view_module": "@jupyter-widgets/base",
       "_view_module_version": "1.2.0",
       "_view_name": "LayoutView",
       "align_content": null,
       "align_items": null,
       "align_self": null,
       "border": null,
       "bottom": null,
       "display": null,
       "flex": null,
       "flex_flow": null,
       "grid_area": null,
       "grid_auto_columns": null,
       "grid_auto_flow": null,
       "grid_auto_rows": null,
       "grid_column": null,
       "grid_gap": null,
       "grid_row": null,
       "grid_template_areas": null,
       "grid_template_columns": null,
       "grid_template_rows": null,
       "height": null,
       "justify_content": null,
       "justify_items": null,
       "left": null,
       "margin": null,
       "max_height": null,
       "max_width": null,
       "min_height": null,
       "min_width": null,
       "object_fit": null,
       "object_position": null,
       "order": null,
       "overflow": null,
       "overflow_x": null,
       "overflow_y": null,
       "padding": null,
       "right": null,
       "top": null,
       "visibility": null,
       "width": null
      }
     },
     "3e4a1b933af041a79489bc6d012a5775": {
      "model_module": "@jupyter-widgets/controls",
      "model_module_version": "1.5.0",
      "model_name": "HTMLModel",
      "state": {
       "_dom_classes": [],
       "_model_module": "@jupyter-widgets/controls",
       "_model_module_version": "1.5.0",
       "_model_name": "HTMLModel",
       "_view_count": null,
       "_view_module": "@jupyter-widgets/controls",
       "_view_module_version": "1.5.0",
       "_view_name": "HTMLView",
       "description": "",
       "description_tooltip": null,
       "layout": "IPY_MODEL_8ee3a2907ae447cebba0eb4a32c3e0b4",
       "placeholder": "​",
       "style": "IPY_MODEL_cc5de8fc296544f0b4599c78fc0c0e37",
       "value": "100%"
      }
     },
     "3e742e21298743be822e09bda161eb5c": {
      "model_module": "@jupyter-widgets/controls",
      "model_module_version": "1.5.0",
      "model_name": "DescriptionStyleModel",
      "state": {
       "_model_module": "@jupyter-widgets/controls",
       "_model_module_version": "1.5.0",
       "_model_name": "DescriptionStyleModel",
       "_view_count": null,
       "_view_module": "@jupyter-widgets/base",
       "_view_module_version": "1.2.0",
       "_view_name": "StyleView",
       "description_width": ""
      }
     },
     "442e4bdd62dc4bbdbcea0114b35743ee": {
      "model_module": "@jupyter-widgets/base",
      "model_module_version": "1.2.0",
      "model_name": "LayoutModel",
      "state": {
       "_model_module": "@jupyter-widgets/base",
       "_model_module_version": "1.2.0",
       "_model_name": "LayoutModel",
       "_view_count": null,
       "_view_module": "@jupyter-widgets/base",
       "_view_module_version": "1.2.0",
       "_view_name": "LayoutView",
       "align_content": null,
       "align_items": null,
       "align_self": null,
       "border": null,
       "bottom": null,
       "display": null,
       "flex": null,
       "flex_flow": null,
       "grid_area": null,
       "grid_auto_columns": null,
       "grid_auto_flow": null,
       "grid_auto_rows": null,
       "grid_column": null,
       "grid_gap": null,
       "grid_row": null,
       "grid_template_areas": null,
       "grid_template_columns": null,
       "grid_template_rows": null,
       "height": null,
       "justify_content": null,
       "justify_items": null,
       "left": null,
       "margin": null,
       "max_height": null,
       "max_width": null,
       "min_height": null,
       "min_width": null,
       "object_fit": null,
       "object_position": null,
       "order": null,
       "overflow": null,
       "overflow_x": null,
       "overflow_y": null,
       "padding": null,
       "right": null,
       "top": null,
       "visibility": null,
       "width": null
      }
     },
     "44a1c8de253f4899ad1fdcc1ef5f230c": {
      "model_module": "@jupyter-widgets/base",
      "model_module_version": "1.2.0",
      "model_name": "LayoutModel",
      "state": {
       "_model_module": "@jupyter-widgets/base",
       "_model_module_version": "1.2.0",
       "_model_name": "LayoutModel",
       "_view_count": null,
       "_view_module": "@jupyter-widgets/base",
       "_view_module_version": "1.2.0",
       "_view_name": "LayoutView",
       "align_content": null,
       "align_items": null,
       "align_self": null,
       "border": null,
       "bottom": null,
       "display": null,
       "flex": null,
       "flex_flow": null,
       "grid_area": null,
       "grid_auto_columns": null,
       "grid_auto_flow": null,
       "grid_auto_rows": null,
       "grid_column": null,
       "grid_gap": null,
       "grid_row": null,
       "grid_template_areas": null,
       "grid_template_columns": null,
       "grid_template_rows": null,
       "height": null,
       "justify_content": null,
       "justify_items": null,
       "left": null,
       "margin": null,
       "max_height": null,
       "max_width": null,
       "min_height": null,
       "min_width": null,
       "object_fit": null,
       "object_position": null,
       "order": null,
       "overflow": null,
       "overflow_x": null,
       "overflow_y": null,
       "padding": null,
       "right": null,
       "top": null,
       "visibility": null,
       "width": null
      }
     },
     "458034fa89cc48dea14d757e6f633aa9": {
      "model_module": "@jupyter-widgets/controls",
      "model_module_version": "1.5.0",
      "model_name": "HBoxModel",
      "state": {
       "_dom_classes": [],
       "_model_module": "@jupyter-widgets/controls",
       "_model_module_version": "1.5.0",
       "_model_name": "HBoxModel",
       "_view_count": null,
       "_view_module": "@jupyter-widgets/controls",
       "_view_module_version": "1.5.0",
       "_view_name": "HBoxView",
       "box_style": "",
       "children": [
        "IPY_MODEL_61af04d6892445f3859c0db6f258a5d9",
        "IPY_MODEL_e9998a2f320747d29c9188268b557746",
        "IPY_MODEL_5513fb1e87204c09b0487c6ff6f49d51"
       ],
       "layout": "IPY_MODEL_8dd840c5fb9449deb21afd3f78b47775"
      }
     },
     "45f78b05f9f849938eb94877203d148e": {
      "model_module": "@jupyter-widgets/base",
      "model_module_version": "1.2.0",
      "model_name": "LayoutModel",
      "state": {
       "_model_module": "@jupyter-widgets/base",
       "_model_module_version": "1.2.0",
       "_model_name": "LayoutModel",
       "_view_count": null,
       "_view_module": "@jupyter-widgets/base",
       "_view_module_version": "1.2.0",
       "_view_name": "LayoutView",
       "align_content": null,
       "align_items": null,
       "align_self": null,
       "border": null,
       "bottom": null,
       "display": null,
       "flex": null,
       "flex_flow": null,
       "grid_area": null,
       "grid_auto_columns": null,
       "grid_auto_flow": null,
       "grid_auto_rows": null,
       "grid_column": null,
       "grid_gap": null,
       "grid_row": null,
       "grid_template_areas": null,
       "grid_template_columns": null,
       "grid_template_rows": null,
       "height": null,
       "justify_content": null,
       "justify_items": null,
       "left": null,
       "margin": null,
       "max_height": null,
       "max_width": null,
       "min_height": null,
       "min_width": null,
       "object_fit": null,
       "object_position": null,
       "order": null,
       "overflow": null,
       "overflow_x": null,
       "overflow_y": null,
       "padding": null,
       "right": null,
       "top": null,
       "visibility": null,
       "width": null
      }
     },
     "477679766384489d84e9f8cdb20d9670": {
      "model_module": "@jupyter-widgets/base",
      "model_module_version": "1.2.0",
      "model_name": "LayoutModel",
      "state": {
       "_model_module": "@jupyter-widgets/base",
       "_model_module_version": "1.2.0",
       "_model_name": "LayoutModel",
       "_view_count": null,
       "_view_module": "@jupyter-widgets/base",
       "_view_module_version": "1.2.0",
       "_view_name": "LayoutView",
       "align_content": null,
       "align_items": null,
       "align_self": null,
       "border": null,
       "bottom": null,
       "display": null,
       "flex": null,
       "flex_flow": null,
       "grid_area": null,
       "grid_auto_columns": null,
       "grid_auto_flow": null,
       "grid_auto_rows": null,
       "grid_column": null,
       "grid_gap": null,
       "grid_row": null,
       "grid_template_areas": null,
       "grid_template_columns": null,
       "grid_template_rows": null,
       "height": null,
       "justify_content": null,
       "justify_items": null,
       "left": null,
       "margin": null,
       "max_height": null,
       "max_width": null,
       "min_height": null,
       "min_width": null,
       "object_fit": null,
       "object_position": null,
       "order": null,
       "overflow": null,
       "overflow_x": null,
       "overflow_y": null,
       "padding": null,
       "right": null,
       "top": null,
       "visibility": null,
       "width": null
      }
     },
     "48c5350a776449fda6fdc62272a4012b": {
      "model_module": "@jupyter-widgets/base",
      "model_module_version": "1.2.0",
      "model_name": "LayoutModel",
      "state": {
       "_model_module": "@jupyter-widgets/base",
       "_model_module_version": "1.2.0",
       "_model_name": "LayoutModel",
       "_view_count": null,
       "_view_module": "@jupyter-widgets/base",
       "_view_module_version": "1.2.0",
       "_view_name": "LayoutView",
       "align_content": null,
       "align_items": null,
       "align_self": null,
       "border": null,
       "bottom": null,
       "display": null,
       "flex": null,
       "flex_flow": null,
       "grid_area": null,
       "grid_auto_columns": null,
       "grid_auto_flow": null,
       "grid_auto_rows": null,
       "grid_column": null,
       "grid_gap": null,
       "grid_row": null,
       "grid_template_areas": null,
       "grid_template_columns": null,
       "grid_template_rows": null,
       "height": null,
       "justify_content": null,
       "justify_items": null,
       "left": null,
       "margin": null,
       "max_height": null,
       "max_width": null,
       "min_height": null,
       "min_width": null,
       "object_fit": null,
       "object_position": null,
       "order": null,
       "overflow": null,
       "overflow_x": null,
       "overflow_y": null,
       "padding": null,
       "right": null,
       "top": null,
       "visibility": null,
       "width": null
      }
     },
     "4aa7d84c54db4f42b37e34cd98e262a8": {
      "model_module": "@jupyter-widgets/base",
      "model_module_version": "1.2.0",
      "model_name": "LayoutModel",
      "state": {
       "_model_module": "@jupyter-widgets/base",
       "_model_module_version": "1.2.0",
       "_model_name": "LayoutModel",
       "_view_count": null,
       "_view_module": "@jupyter-widgets/base",
       "_view_module_version": "1.2.0",
       "_view_name": "LayoutView",
       "align_content": null,
       "align_items": null,
       "align_self": null,
       "border": null,
       "bottom": null,
       "display": null,
       "flex": null,
       "flex_flow": null,
       "grid_area": null,
       "grid_auto_columns": null,
       "grid_auto_flow": null,
       "grid_auto_rows": null,
       "grid_column": null,
       "grid_gap": null,
       "grid_row": null,
       "grid_template_areas": null,
       "grid_template_columns": null,
       "grid_template_rows": null,
       "height": null,
       "justify_content": null,
       "justify_items": null,
       "left": null,
       "margin": null,
       "max_height": null,
       "max_width": null,
       "min_height": null,
       "min_width": null,
       "object_fit": null,
       "object_position": null,
       "order": null,
       "overflow": null,
       "overflow_x": null,
       "overflow_y": null,
       "padding": null,
       "right": null,
       "top": null,
       "visibility": null,
       "width": null
      }
     },
     "4aab7abd407e46a1a2caab6c8d89b0ba": {
      "model_module": "@jupyter-widgets/controls",
      "model_module_version": "1.5.0",
      "model_name": "DescriptionStyleModel",
      "state": {
       "_model_module": "@jupyter-widgets/controls",
       "_model_module_version": "1.5.0",
       "_model_name": "DescriptionStyleModel",
       "_view_count": null,
       "_view_module": "@jupyter-widgets/base",
       "_view_module_version": "1.2.0",
       "_view_name": "StyleView",
       "description_width": ""
      }
     },
     "4b3a4689245d49e48967a326e5d0cb16": {
      "model_module": "@jupyter-widgets/base",
      "model_module_version": "1.2.0",
      "model_name": "LayoutModel",
      "state": {
       "_model_module": "@jupyter-widgets/base",
       "_model_module_version": "1.2.0",
       "_model_name": "LayoutModel",
       "_view_count": null,
       "_view_module": "@jupyter-widgets/base",
       "_view_module_version": "1.2.0",
       "_view_name": "LayoutView",
       "align_content": null,
       "align_items": null,
       "align_self": null,
       "border": null,
       "bottom": null,
       "display": null,
       "flex": null,
       "flex_flow": null,
       "grid_area": null,
       "grid_auto_columns": null,
       "grid_auto_flow": null,
       "grid_auto_rows": null,
       "grid_column": null,
       "grid_gap": null,
       "grid_row": null,
       "grid_template_areas": null,
       "grid_template_columns": null,
       "grid_template_rows": null,
       "height": null,
       "justify_content": null,
       "justify_items": null,
       "left": null,
       "margin": null,
       "max_height": null,
       "max_width": null,
       "min_height": null,
       "min_width": null,
       "object_fit": null,
       "object_position": null,
       "order": null,
       "overflow": null,
       "overflow_x": null,
       "overflow_y": null,
       "padding": null,
       "right": null,
       "top": null,
       "visibility": null,
       "width": null
      }
     },
     "4f38679bfbf34dec96dddba1ff0038bf": {
      "model_module": "@jupyter-widgets/base",
      "model_module_version": "1.2.0",
      "model_name": "LayoutModel",
      "state": {
       "_model_module": "@jupyter-widgets/base",
       "_model_module_version": "1.2.0",
       "_model_name": "LayoutModel",
       "_view_count": null,
       "_view_module": "@jupyter-widgets/base",
       "_view_module_version": "1.2.0",
       "_view_name": "LayoutView",
       "align_content": null,
       "align_items": null,
       "align_self": null,
       "border": null,
       "bottom": null,
       "display": null,
       "flex": null,
       "flex_flow": null,
       "grid_area": null,
       "grid_auto_columns": null,
       "grid_auto_flow": null,
       "grid_auto_rows": null,
       "grid_column": null,
       "grid_gap": null,
       "grid_row": null,
       "grid_template_areas": null,
       "grid_template_columns": null,
       "grid_template_rows": null,
       "height": null,
       "justify_content": null,
       "justify_items": null,
       "left": null,
       "margin": null,
       "max_height": null,
       "max_width": null,
       "min_height": null,
       "min_width": null,
       "object_fit": null,
       "object_position": null,
       "order": null,
       "overflow": null,
       "overflow_x": null,
       "overflow_y": null,
       "padding": null,
       "right": null,
       "top": null,
       "visibility": null,
       "width": null
      }
     },
     "4f59dfb953bd4224aa5ff08d57466388": {
      "model_module": "@jupyter-widgets/base",
      "model_module_version": "1.2.0",
      "model_name": "LayoutModel",
      "state": {
       "_model_module": "@jupyter-widgets/base",
       "_model_module_version": "1.2.0",
       "_model_name": "LayoutModel",
       "_view_count": null,
       "_view_module": "@jupyter-widgets/base",
       "_view_module_version": "1.2.0",
       "_view_name": "LayoutView",
       "align_content": null,
       "align_items": null,
       "align_self": null,
       "border": null,
       "bottom": null,
       "display": null,
       "flex": null,
       "flex_flow": null,
       "grid_area": null,
       "grid_auto_columns": null,
       "grid_auto_flow": null,
       "grid_auto_rows": null,
       "grid_column": null,
       "grid_gap": null,
       "grid_row": null,
       "grid_template_areas": null,
       "grid_template_columns": null,
       "grid_template_rows": null,
       "height": null,
       "justify_content": null,
       "justify_items": null,
       "left": null,
       "margin": null,
       "max_height": null,
       "max_width": null,
       "min_height": null,
       "min_width": null,
       "object_fit": null,
       "object_position": null,
       "order": null,
       "overflow": null,
       "overflow_x": null,
       "overflow_y": null,
       "padding": null,
       "right": null,
       "top": null,
       "visibility": null,
       "width": null
      }
     },
     "5220583de27846f6b7e39007d4cc16f7": {
      "model_module": "@jupyter-widgets/controls",
      "model_module_version": "1.5.0",
      "model_name": "HTMLModel",
      "state": {
       "_dom_classes": [],
       "_model_module": "@jupyter-widgets/controls",
       "_model_module_version": "1.5.0",
       "_model_name": "HTMLModel",
       "_view_count": null,
       "_view_module": "@jupyter-widgets/controls",
       "_view_module_version": "1.5.0",
       "_view_name": "HTMLView",
       "description": "",
       "description_tooltip": null,
       "layout": "IPY_MODEL_477679766384489d84e9f8cdb20d9670",
       "placeholder": "​",
       "style": "IPY_MODEL_6389c3a552694964ac7bf999721656e3",
       "value": " 20000/20000 [00:08&lt;00:00, 2275.77it/s]"
      }
     },
     "5513fb1e87204c09b0487c6ff6f49d51": {
      "model_module": "@jupyter-widgets/controls",
      "model_module_version": "1.5.0",
      "model_name": "HTMLModel",
      "state": {
       "_dom_classes": [],
       "_model_module": "@jupyter-widgets/controls",
       "_model_module_version": "1.5.0",
       "_model_name": "HTMLModel",
       "_view_count": null,
       "_view_module": "@jupyter-widgets/controls",
       "_view_module_version": "1.5.0",
       "_view_name": "HTMLView",
       "description": "",
       "description_tooltip": null,
       "layout": "IPY_MODEL_85fbb8d41be3497e9da5c41026f23e3b",
       "placeholder": "​",
       "style": "IPY_MODEL_d877ea5993284e0c944cc3ba9b395b40",
       "value": " 20000/20000 [00:00&lt;00:00, 94399.22it/s]"
      }
     },
     "597874c1ef9d40c3a8fd0e08c5edd3a0": {
      "model_module": "@jupyter-widgets/base",
      "model_module_version": "1.2.0",
      "model_name": "LayoutModel",
      "state": {
       "_model_module": "@jupyter-widgets/base",
       "_model_module_version": "1.2.0",
       "_model_name": "LayoutModel",
       "_view_count": null,
       "_view_module": "@jupyter-widgets/base",
       "_view_module_version": "1.2.0",
       "_view_name": "LayoutView",
       "align_content": null,
       "align_items": null,
       "align_self": null,
       "border": null,
       "bottom": null,
       "display": null,
       "flex": null,
       "flex_flow": null,
       "grid_area": null,
       "grid_auto_columns": null,
       "grid_auto_flow": null,
       "grid_auto_rows": null,
       "grid_column": null,
       "grid_gap": null,
       "grid_row": null,
       "grid_template_areas": null,
       "grid_template_columns": null,
       "grid_template_rows": null,
       "height": null,
       "justify_content": null,
       "justify_items": null,
       "left": null,
       "margin": null,
       "max_height": null,
       "max_width": null,
       "min_height": null,
       "min_width": null,
       "object_fit": null,
       "object_position": null,
       "order": null,
       "overflow": null,
       "overflow_x": null,
       "overflow_y": null,
       "padding": null,
       "right": null,
       "top": null,
       "visibility": null,
       "width": null
      }
     },
     "59f18b971c9648cc8e9005110a5eb2cf": {
      "model_module": "@jupyter-widgets/base",
      "model_module_version": "1.2.0",
      "model_name": "LayoutModel",
      "state": {
       "_model_module": "@jupyter-widgets/base",
       "_model_module_version": "1.2.0",
       "_model_name": "LayoutModel",
       "_view_count": null,
       "_view_module": "@jupyter-widgets/base",
       "_view_module_version": "1.2.0",
       "_view_name": "LayoutView",
       "align_content": null,
       "align_items": null,
       "align_self": null,
       "border": null,
       "bottom": null,
       "display": null,
       "flex": null,
       "flex_flow": null,
       "grid_area": null,
       "grid_auto_columns": null,
       "grid_auto_flow": null,
       "grid_auto_rows": null,
       "grid_column": null,
       "grid_gap": null,
       "grid_row": null,
       "grid_template_areas": null,
       "grid_template_columns": null,
       "grid_template_rows": null,
       "height": null,
       "justify_content": null,
       "justify_items": null,
       "left": null,
       "margin": null,
       "max_height": null,
       "max_width": null,
       "min_height": null,
       "min_width": null,
       "object_fit": null,
       "object_position": null,
       "order": null,
       "overflow": null,
       "overflow_x": null,
       "overflow_y": null,
       "padding": null,
       "right": null,
       "top": null,
       "visibility": null,
       "width": null
      }
     },
     "5c9126e952604248af9d909767531210": {
      "model_module": "@jupyter-widgets/controls",
      "model_module_version": "1.5.0",
      "model_name": "DescriptionStyleModel",
      "state": {
       "_model_module": "@jupyter-widgets/controls",
       "_model_module_version": "1.5.0",
       "_model_name": "DescriptionStyleModel",
       "_view_count": null,
       "_view_module": "@jupyter-widgets/base",
       "_view_module_version": "1.2.0",
       "_view_name": "StyleView",
       "description_width": ""
      }
     },
     "5dcfcb9bacc542fa9f0cd56009b6681f": {
      "model_module": "@jupyter-widgets/controls",
      "model_module_version": "1.5.0",
      "model_name": "FloatProgressModel",
      "state": {
       "_dom_classes": [],
       "_model_module": "@jupyter-widgets/controls",
       "_model_module_version": "1.5.0",
       "_model_name": "FloatProgressModel",
       "_view_count": null,
       "_view_module": "@jupyter-widgets/controls",
       "_view_module_version": "1.5.0",
       "_view_name": "ProgressView",
       "bar_style": "success",
       "description": "",
       "description_tooltip": null,
       "layout": "IPY_MODEL_0277bfa7cca54bffa9df9a07fe7af557",
       "max": 20000.0,
       "min": 0.0,
       "orientation": "horizontal",
       "style": "IPY_MODEL_de59b6da3617471f82dfa5c0fe7dc0e6",
       "value": 20000.0
      }
     },
     "616ea422dea94b0f96b5435f296fe4a3": {
      "model_module": "@jupyter-widgets/controls",
      "model_module_version": "1.5.0",
      "model_name": "DescriptionStyleModel",
      "state": {
       "_model_module": "@jupyter-widgets/controls",
       "_model_module_version": "1.5.0",
       "_model_name": "DescriptionStyleModel",
       "_view_count": null,
       "_view_module": "@jupyter-widgets/base",
       "_view_module_version": "1.2.0",
       "_view_name": "StyleView",
       "description_width": ""
      }
     },
     "61af04d6892445f3859c0db6f258a5d9": {
      "model_module": "@jupyter-widgets/controls",
      "model_module_version": "1.5.0",
      "model_name": "HTMLModel",
      "state": {
       "_dom_classes": [],
       "_model_module": "@jupyter-widgets/controls",
       "_model_module_version": "1.5.0",
       "_model_name": "HTMLModel",
       "_view_count": null,
       "_view_module": "@jupyter-widgets/controls",
       "_view_module_version": "1.5.0",
       "_view_name": "HTMLView",
       "description": "",
       "description_tooltip": null,
       "layout": "IPY_MODEL_0d8a9e8563af4e5cade3218c109dc9e2",
       "placeholder": "​",
       "style": "IPY_MODEL_937077f89fd948ed8a0eec807bc45f68",
       "value": "100%"
      }
     },
     "6389c3a552694964ac7bf999721656e3": {
      "model_module": "@jupyter-widgets/controls",
      "model_module_version": "1.5.0",
      "model_name": "DescriptionStyleModel",
      "state": {
       "_model_module": "@jupyter-widgets/controls",
       "_model_module_version": "1.5.0",
       "_model_name": "DescriptionStyleModel",
       "_view_count": null,
       "_view_module": "@jupyter-widgets/base",
       "_view_module_version": "1.2.0",
       "_view_name": "StyleView",
       "description_width": ""
      }
     },
     "64474e31b30f41428b1101f75a732093": {
      "model_module": "@jupyter-widgets/controls",
      "model_module_version": "1.5.0",
      "model_name": "HTMLModel",
      "state": {
       "_dom_classes": [],
       "_model_module": "@jupyter-widgets/controls",
       "_model_module_version": "1.5.0",
       "_model_name": "HTMLModel",
       "_view_count": null,
       "_view_module": "@jupyter-widgets/controls",
       "_view_module_version": "1.5.0",
       "_view_name": "HTMLView",
       "description": "",
       "description_tooltip": null,
       "layout": "IPY_MODEL_59f18b971c9648cc8e9005110a5eb2cf",
       "placeholder": "​",
       "style": "IPY_MODEL_6be4b5e9b9ff4011bd9a3ea5c705f8d7",
       "value": "100%"
      }
     },
     "68a175c2079849be874ffe3cc6847297": {
      "model_module": "@jupyter-widgets/base",
      "model_module_version": "1.2.0",
      "model_name": "LayoutModel",
      "state": {
       "_model_module": "@jupyter-widgets/base",
       "_model_module_version": "1.2.0",
       "_model_name": "LayoutModel",
       "_view_count": null,
       "_view_module": "@jupyter-widgets/base",
       "_view_module_version": "1.2.0",
       "_view_name": "LayoutView",
       "align_content": null,
       "align_items": null,
       "align_self": null,
       "border": null,
       "bottom": null,
       "display": null,
       "flex": null,
       "flex_flow": null,
       "grid_area": null,
       "grid_auto_columns": null,
       "grid_auto_flow": null,
       "grid_auto_rows": null,
       "grid_column": null,
       "grid_gap": null,
       "grid_row": null,
       "grid_template_areas": null,
       "grid_template_columns": null,
       "grid_template_rows": null,
       "height": null,
       "justify_content": null,
       "justify_items": null,
       "left": null,
       "margin": null,
       "max_height": null,
       "max_width": null,
       "min_height": null,
       "min_width": null,
       "object_fit": null,
       "object_position": null,
       "order": null,
       "overflow": null,
       "overflow_x": null,
       "overflow_y": null,
       "padding": null,
       "right": null,
       "top": null,
       "visibility": null,
       "width": null
      }
     },
     "68d7ffbbd4f44893b889e8d97b940c29": {
      "model_module": "@jupyter-widgets/base",
      "model_module_version": "1.2.0",
      "model_name": "LayoutModel",
      "state": {
       "_model_module": "@jupyter-widgets/base",
       "_model_module_version": "1.2.0",
       "_model_name": "LayoutModel",
       "_view_count": null,
       "_view_module": "@jupyter-widgets/base",
       "_view_module_version": "1.2.0",
       "_view_name": "LayoutView",
       "align_content": null,
       "align_items": null,
       "align_self": null,
       "border": null,
       "bottom": null,
       "display": null,
       "flex": null,
       "flex_flow": null,
       "grid_area": null,
       "grid_auto_columns": null,
       "grid_auto_flow": null,
       "grid_auto_rows": null,
       "grid_column": null,
       "grid_gap": null,
       "grid_row": null,
       "grid_template_areas": null,
       "grid_template_columns": null,
       "grid_template_rows": null,
       "height": null,
       "justify_content": null,
       "justify_items": null,
       "left": null,
       "margin": null,
       "max_height": null,
       "max_width": null,
       "min_height": null,
       "min_width": null,
       "object_fit": null,
       "object_position": null,
       "order": null,
       "overflow": null,
       "overflow_x": null,
       "overflow_y": null,
       "padding": null,
       "right": null,
       "top": null,
       "visibility": null,
       "width": null
      }
     },
     "6b2530b311684ff49cce4da5fb94f688": {
      "model_module": "@jupyter-widgets/controls",
      "model_module_version": "1.5.0",
      "model_name": "HTMLModel",
      "state": {
       "_dom_classes": [],
       "_model_module": "@jupyter-widgets/controls",
       "_model_module_version": "1.5.0",
       "_model_name": "HTMLModel",
       "_view_count": null,
       "_view_module": "@jupyter-widgets/controls",
       "_view_module_version": "1.5.0",
       "_view_name": "HTMLView",
       "description": "",
       "description_tooltip": null,
       "layout": "IPY_MODEL_4aa7d84c54db4f42b37e34cd98e262a8",
       "placeholder": "​",
       "style": "IPY_MODEL_5c9126e952604248af9d909767531210",
       "value": "100%"
      }
     },
     "6b3549abdc9540469908e9e9a6f635c0": {
      "model_module": "@jupyter-widgets/controls",
      "model_module_version": "1.5.0",
      "model_name": "ProgressStyleModel",
      "state": {
       "_model_module": "@jupyter-widgets/controls",
       "_model_module_version": "1.5.0",
       "_model_name": "ProgressStyleModel",
       "_view_count": null,
       "_view_module": "@jupyter-widgets/base",
       "_view_module_version": "1.2.0",
       "_view_name": "StyleView",
       "bar_color": null,
       "description_width": ""
      }
     },
     "6b453a2b6eed42fc872fac4a18016346": {
      "model_module": "@jupyter-widgets/base",
      "model_module_version": "1.2.0",
      "model_name": "LayoutModel",
      "state": {
       "_model_module": "@jupyter-widgets/base",
       "_model_module_version": "1.2.0",
       "_model_name": "LayoutModel",
       "_view_count": null,
       "_view_module": "@jupyter-widgets/base",
       "_view_module_version": "1.2.0",
       "_view_name": "LayoutView",
       "align_content": null,
       "align_items": null,
       "align_self": null,
       "border": null,
       "bottom": null,
       "display": null,
       "flex": null,
       "flex_flow": null,
       "grid_area": null,
       "grid_auto_columns": null,
       "grid_auto_flow": null,
       "grid_auto_rows": null,
       "grid_column": null,
       "grid_gap": null,
       "grid_row": null,
       "grid_template_areas": null,
       "grid_template_columns": null,
       "grid_template_rows": null,
       "height": null,
       "justify_content": null,
       "justify_items": null,
       "left": null,
       "margin": null,
       "max_height": null,
       "max_width": null,
       "min_height": null,
       "min_width": null,
       "object_fit": null,
       "object_position": null,
       "order": null,
       "overflow": null,
       "overflow_x": null,
       "overflow_y": null,
       "padding": null,
       "right": null,
       "top": null,
       "visibility": null,
       "width": null
      }
     },
     "6be4b5e9b9ff4011bd9a3ea5c705f8d7": {
      "model_module": "@jupyter-widgets/controls",
      "model_module_version": "1.5.0",
      "model_name": "DescriptionStyleModel",
      "state": {
       "_model_module": "@jupyter-widgets/controls",
       "_model_module_version": "1.5.0",
       "_model_name": "DescriptionStyleModel",
       "_view_count": null,
       "_view_module": "@jupyter-widgets/base",
       "_view_module_version": "1.2.0",
       "_view_name": "StyleView",
       "description_width": ""
      }
     },
     "6da2a106c108420b8da9c9acd2eb1f76": {
      "model_module": "@jupyter-widgets/base",
      "model_module_version": "1.2.0",
      "model_name": "LayoutModel",
      "state": {
       "_model_module": "@jupyter-widgets/base",
       "_model_module_version": "1.2.0",
       "_model_name": "LayoutModel",
       "_view_count": null,
       "_view_module": "@jupyter-widgets/base",
       "_view_module_version": "1.2.0",
       "_view_name": "LayoutView",
       "align_content": null,
       "align_items": null,
       "align_self": null,
       "border": null,
       "bottom": null,
       "display": null,
       "flex": null,
       "flex_flow": null,
       "grid_area": null,
       "grid_auto_columns": null,
       "grid_auto_flow": null,
       "grid_auto_rows": null,
       "grid_column": null,
       "grid_gap": null,
       "grid_row": null,
       "grid_template_areas": null,
       "grid_template_columns": null,
       "grid_template_rows": null,
       "height": null,
       "justify_content": null,
       "justify_items": null,
       "left": null,
       "margin": null,
       "max_height": null,
       "max_width": null,
       "min_height": null,
       "min_width": null,
       "object_fit": null,
       "object_position": null,
       "order": null,
       "overflow": null,
       "overflow_x": null,
       "overflow_y": null,
       "padding": null,
       "right": null,
       "top": null,
       "visibility": null,
       "width": null
      }
     },
     "716725f0e4824f27825dc2634165649e": {
      "model_module": "@jupyter-widgets/controls",
      "model_module_version": "1.5.0",
      "model_name": "HTMLModel",
      "state": {
       "_dom_classes": [],
       "_model_module": "@jupyter-widgets/controls",
       "_model_module_version": "1.5.0",
       "_model_name": "HTMLModel",
       "_view_count": null,
       "_view_module": "@jupyter-widgets/controls",
       "_view_module_version": "1.5.0",
       "_view_name": "HTMLView",
       "description": "",
       "description_tooltip": null,
       "layout": "IPY_MODEL_ce702ea3b51b4ffca4ea24b99e6f0c71",
       "placeholder": "​",
       "style": "IPY_MODEL_b073ec1bb66543b1b5ebb22720bb603d",
       "value": " 20000/20000 [00:00&lt;00:00, 51233.33it/s]"
      }
     },
     "75b0a6859f73440090da8c9378fa73fc": {
      "model_module": "@jupyter-widgets/controls",
      "model_module_version": "1.5.0",
      "model_name": "HBoxModel",
      "state": {
       "_dom_classes": [],
       "_model_module": "@jupyter-widgets/controls",
       "_model_module_version": "1.5.0",
       "_model_name": "HBoxModel",
       "_view_count": null,
       "_view_module": "@jupyter-widgets/controls",
       "_view_module_version": "1.5.0",
       "_view_name": "HBoxView",
       "box_style": "",
       "children": [
        "IPY_MODEL_3e4a1b933af041a79489bc6d012a5775",
        "IPY_MODEL_bda8e647a10549e088e94563b735cb10",
        "IPY_MODEL_716725f0e4824f27825dc2634165649e"
       ],
       "layout": "IPY_MODEL_3bffe49928ec475ea905b6d415f3f8c0"
      }
     },
     "77ebeaa42cc747f88ea75cd66d9c5aff": {
      "model_module": "@jupyter-widgets/base",
      "model_module_version": "1.2.0",
      "model_name": "LayoutModel",
      "state": {
       "_model_module": "@jupyter-widgets/base",
       "_model_module_version": "1.2.0",
       "_model_name": "LayoutModel",
       "_view_count": null,
       "_view_module": "@jupyter-widgets/base",
       "_view_module_version": "1.2.0",
       "_view_name": "LayoutView",
       "align_content": null,
       "align_items": null,
       "align_self": null,
       "border": null,
       "bottom": null,
       "display": null,
       "flex": null,
       "flex_flow": null,
       "grid_area": null,
       "grid_auto_columns": null,
       "grid_auto_flow": null,
       "grid_auto_rows": null,
       "grid_column": null,
       "grid_gap": null,
       "grid_row": null,
       "grid_template_areas": null,
       "grid_template_columns": null,
       "grid_template_rows": null,
       "height": null,
       "justify_content": null,
       "justify_items": null,
       "left": null,
       "margin": null,
       "max_height": null,
       "max_width": null,
       "min_height": null,
       "min_width": null,
       "object_fit": null,
       "object_position": null,
       "order": null,
       "overflow": null,
       "overflow_x": null,
       "overflow_y": null,
       "padding": null,
       "right": null,
       "top": null,
       "visibility": null,
       "width": null
      }
     },
     "790598b3266a47ec9ac1be53432b3b2b": {
      "model_module": "@jupyter-widgets/controls",
      "model_module_version": "1.5.0",
      "model_name": "HBoxModel",
      "state": {
       "_dom_classes": [],
       "_model_module": "@jupyter-widgets/controls",
       "_model_module_version": "1.5.0",
       "_model_name": "HBoxModel",
       "_view_count": null,
       "_view_module": "@jupyter-widgets/controls",
       "_view_module_version": "1.5.0",
       "_view_name": "HBoxView",
       "box_style": "",
       "children": [
        "IPY_MODEL_1eb29ceb9a86459c964e9e7a07b6b453",
        "IPY_MODEL_1b0a83debbb04153b060a1865c3c4583",
        "IPY_MODEL_8aaad5b58f9b4deea89a3307ca21da1d"
       ],
       "layout": "IPY_MODEL_ce519e6aa78b4e5bbd188802371ba714"
      }
     },
     "79ab62ba8de846f798c08e079093e959": {
      "model_module": "@jupyter-widgets/base",
      "model_module_version": "1.2.0",
      "model_name": "LayoutModel",
      "state": {
       "_model_module": "@jupyter-widgets/base",
       "_model_module_version": "1.2.0",
       "_model_name": "LayoutModel",
       "_view_count": null,
       "_view_module": "@jupyter-widgets/base",
       "_view_module_version": "1.2.0",
       "_view_name": "LayoutView",
       "align_content": null,
       "align_items": null,
       "align_self": null,
       "border": null,
       "bottom": null,
       "display": null,
       "flex": null,
       "flex_flow": null,
       "grid_area": null,
       "grid_auto_columns": null,
       "grid_auto_flow": null,
       "grid_auto_rows": null,
       "grid_column": null,
       "grid_gap": null,
       "grid_row": null,
       "grid_template_areas": null,
       "grid_template_columns": null,
       "grid_template_rows": null,
       "height": null,
       "justify_content": null,
       "justify_items": null,
       "left": null,
       "margin": null,
       "max_height": null,
       "max_width": null,
       "min_height": null,
       "min_width": null,
       "object_fit": null,
       "object_position": null,
       "order": null,
       "overflow": null,
       "overflow_x": null,
       "overflow_y": null,
       "padding": null,
       "right": null,
       "top": null,
       "visibility": null,
       "width": null
      }
     },
     "7a03da559bfa426aac83d5835f675693": {
      "model_module": "@jupyter-widgets/controls",
      "model_module_version": "1.5.0",
      "model_name": "HBoxModel",
      "state": {
       "_dom_classes": [],
       "_model_module": "@jupyter-widgets/controls",
       "_model_module_version": "1.5.0",
       "_model_name": "HBoxModel",
       "_view_count": null,
       "_view_module": "@jupyter-widgets/controls",
       "_view_module_version": "1.5.0",
       "_view_name": "HBoxView",
       "box_style": "",
       "children": [
        "IPY_MODEL_badbc1188f524fa2aa64c5b094687e66",
        "IPY_MODEL_8fdc12dceb3e47b28631cab916ec2f08",
        "IPY_MODEL_ee6d720be193495e878f97c36280018d"
       ],
       "layout": "IPY_MODEL_4f59dfb953bd4224aa5ff08d57466388"
      }
     },
     "85fbb8d41be3497e9da5c41026f23e3b": {
      "model_module": "@jupyter-widgets/base",
      "model_module_version": "1.2.0",
      "model_name": "LayoutModel",
      "state": {
       "_model_module": "@jupyter-widgets/base",
       "_model_module_version": "1.2.0",
       "_model_name": "LayoutModel",
       "_view_count": null,
       "_view_module": "@jupyter-widgets/base",
       "_view_module_version": "1.2.0",
       "_view_name": "LayoutView",
       "align_content": null,
       "align_items": null,
       "align_self": null,
       "border": null,
       "bottom": null,
       "display": null,
       "flex": null,
       "flex_flow": null,
       "grid_area": null,
       "grid_auto_columns": null,
       "grid_auto_flow": null,
       "grid_auto_rows": null,
       "grid_column": null,
       "grid_gap": null,
       "grid_row": null,
       "grid_template_areas": null,
       "grid_template_columns": null,
       "grid_template_rows": null,
       "height": null,
       "justify_content": null,
       "justify_items": null,
       "left": null,
       "margin": null,
       "max_height": null,
       "max_width": null,
       "min_height": null,
       "min_width": null,
       "object_fit": null,
       "object_position": null,
       "order": null,
       "overflow": null,
       "overflow_x": null,
       "overflow_y": null,
       "padding": null,
       "right": null,
       "top": null,
       "visibility": null,
       "width": null
      }
     },
     "87ba95ed35ae4b9387c1b9a9789b223f": {
      "model_module": "@jupyter-widgets/controls",
      "model_module_version": "1.5.0",
      "model_name": "HBoxModel",
      "state": {
       "_dom_classes": [],
       "_model_module": "@jupyter-widgets/controls",
       "_model_module_version": "1.5.0",
       "_model_name": "HBoxModel",
       "_view_count": null,
       "_view_module": "@jupyter-widgets/controls",
       "_view_module_version": "1.5.0",
       "_view_name": "HBoxView",
       "box_style": "",
       "children": [
        "IPY_MODEL_f3ac027498a345e48eb151e98bb1f3f6",
        "IPY_MODEL_a1e99898a9994ec38268c82b37694a0a",
        "IPY_MODEL_f1ff9e52b31944698dba6c7ff290c20a"
       ],
       "layout": "IPY_MODEL_6da2a106c108420b8da9c9acd2eb1f76"
      }
     },
     "8aaad5b58f9b4deea89a3307ca21da1d": {
      "model_module": "@jupyter-widgets/controls",
      "model_module_version": "1.5.0",
      "model_name": "HTMLModel",
      "state": {
       "_dom_classes": [],
       "_model_module": "@jupyter-widgets/controls",
       "_model_module_version": "1.5.0",
       "_model_name": "HTMLModel",
       "_view_count": null,
       "_view_module": "@jupyter-widgets/controls",
       "_view_module_version": "1.5.0",
       "_view_name": "HTMLView",
       "description": "",
       "description_tooltip": null,
       "layout": "IPY_MODEL_79ab62ba8de846f798c08e079093e959",
       "placeholder": "​",
       "style": "IPY_MODEL_bb4356e302cb4399ab00365f7345a5df",
       "value": " 20000/20000 [00:00&lt;00:00, 133306.95it/s]"
      }
     },
     "8dd840c5fb9449deb21afd3f78b47775": {
      "model_module": "@jupyter-widgets/base",
      "model_module_version": "1.2.0",
      "model_name": "LayoutModel",
      "state": {
       "_model_module": "@jupyter-widgets/base",
       "_model_module_version": "1.2.0",
       "_model_name": "LayoutModel",
       "_view_count": null,
       "_view_module": "@jupyter-widgets/base",
       "_view_module_version": "1.2.0",
       "_view_name": "LayoutView",
       "align_content": null,
       "align_items": null,
       "align_self": null,
       "border": null,
       "bottom": null,
       "display": null,
       "flex": null,
       "flex_flow": null,
       "grid_area": null,
       "grid_auto_columns": null,
       "grid_auto_flow": null,
       "grid_auto_rows": null,
       "grid_column": null,
       "grid_gap": null,
       "grid_row": null,
       "grid_template_areas": null,
       "grid_template_columns": null,
       "grid_template_rows": null,
       "height": null,
       "justify_content": null,
       "justify_items": null,
       "left": null,
       "margin": null,
       "max_height": null,
       "max_width": null,
       "min_height": null,
       "min_width": null,
       "object_fit": null,
       "object_position": null,
       "order": null,
       "overflow": null,
       "overflow_x": null,
       "overflow_y": null,
       "padding": null,
       "right": null,
       "top": null,
       "visibility": null,
       "width": null
      }
     },
     "8ee3a2907ae447cebba0eb4a32c3e0b4": {
      "model_module": "@jupyter-widgets/base",
      "model_module_version": "1.2.0",
      "model_name": "LayoutModel",
      "state": {
       "_model_module": "@jupyter-widgets/base",
       "_model_module_version": "1.2.0",
       "_model_name": "LayoutModel",
       "_view_count": null,
       "_view_module": "@jupyter-widgets/base",
       "_view_module_version": "1.2.0",
       "_view_name": "LayoutView",
       "align_content": null,
       "align_items": null,
       "align_self": null,
       "border": null,
       "bottom": null,
       "display": null,
       "flex": null,
       "flex_flow": null,
       "grid_area": null,
       "grid_auto_columns": null,
       "grid_auto_flow": null,
       "grid_auto_rows": null,
       "grid_column": null,
       "grid_gap": null,
       "grid_row": null,
       "grid_template_areas": null,
       "grid_template_columns": null,
       "grid_template_rows": null,
       "height": null,
       "justify_content": null,
       "justify_items": null,
       "left": null,
       "margin": null,
       "max_height": null,
       "max_width": null,
       "min_height": null,
       "min_width": null,
       "object_fit": null,
       "object_position": null,
       "order": null,
       "overflow": null,
       "overflow_x": null,
       "overflow_y": null,
       "padding": null,
       "right": null,
       "top": null,
       "visibility": null,
       "width": null
      }
     },
     "8fdc12dceb3e47b28631cab916ec2f08": {
      "model_module": "@jupyter-widgets/controls",
      "model_module_version": "1.5.0",
      "model_name": "FloatProgressModel",
      "state": {
       "_dom_classes": [],
       "_model_module": "@jupyter-widgets/controls",
       "_model_module_version": "1.5.0",
       "_model_name": "FloatProgressModel",
       "_view_count": null,
       "_view_module": "@jupyter-widgets/controls",
       "_view_module_version": "1.5.0",
       "_view_name": "ProgressView",
       "bar_style": "success",
       "description": "",
       "description_tooltip": null,
       "layout": "IPY_MODEL_6b453a2b6eed42fc872fac4a18016346",
       "max": 400.0,
       "min": 0.0,
       "orientation": "horizontal",
       "style": "IPY_MODEL_2ecddd55a29946cb963c78ac70c7dccf",
       "value": 400.0
      }
     },
     "90f007b818b140ad95260f7643cbb648": {
      "model_module": "@jupyter-widgets/controls",
      "model_module_version": "1.5.0",
      "model_name": "DescriptionStyleModel",
      "state": {
       "_model_module": "@jupyter-widgets/controls",
       "_model_module_version": "1.5.0",
       "_model_name": "DescriptionStyleModel",
       "_view_count": null,
       "_view_module": "@jupyter-widgets/base",
       "_view_module_version": "1.2.0",
       "_view_name": "StyleView",
       "description_width": ""
      }
     },
     "924a39e21825406094595c674008adee": {
      "model_module": "@jupyter-widgets/controls",
      "model_module_version": "1.5.0",
      "model_name": "HBoxModel",
      "state": {
       "_dom_classes": [],
       "_model_module": "@jupyter-widgets/controls",
       "_model_module_version": "1.5.0",
       "_model_name": "HBoxModel",
       "_view_count": null,
       "_view_module": "@jupyter-widgets/controls",
       "_view_module_version": "1.5.0",
       "_view_name": "HBoxView",
       "box_style": "",
       "children": [
        "IPY_MODEL_64474e31b30f41428b1101f75a732093",
        "IPY_MODEL_c7cf4266e1034e1195cbe8f0484c6dfe",
        "IPY_MODEL_35fc8e7ccb284bd9b157d4e63ec51133"
       ],
       "layout": "IPY_MODEL_bd2d828fbd07408193d331178ab375c3"
      }
     },
     "937077f89fd948ed8a0eec807bc45f68": {
      "model_module": "@jupyter-widgets/controls",
      "model_module_version": "1.5.0",
      "model_name": "DescriptionStyleModel",
      "state": {
       "_model_module": "@jupyter-widgets/controls",
       "_model_module_version": "1.5.0",
       "_model_name": "DescriptionStyleModel",
       "_view_count": null,
       "_view_module": "@jupyter-widgets/base",
       "_view_module_version": "1.2.0",
       "_view_name": "StyleView",
       "description_width": ""
      }
     },
     "a076ced3dbc14a6f90c83a9a1ce21613": {
      "model_module": "@jupyter-widgets/controls",
      "model_module_version": "1.5.0",
      "model_name": "DescriptionStyleModel",
      "state": {
       "_model_module": "@jupyter-widgets/controls",
       "_model_module_version": "1.5.0",
       "_model_name": "DescriptionStyleModel",
       "_view_count": null,
       "_view_module": "@jupyter-widgets/base",
       "_view_module_version": "1.2.0",
       "_view_name": "StyleView",
       "description_width": ""
      }
     },
     "a1e99898a9994ec38268c82b37694a0a": {
      "model_module": "@jupyter-widgets/controls",
      "model_module_version": "1.5.0",
      "model_name": "FloatProgressModel",
      "state": {
       "_dom_classes": [],
       "_model_module": "@jupyter-widgets/controls",
       "_model_module_version": "1.5.0",
       "_model_name": "FloatProgressModel",
       "_view_count": null,
       "_view_module": "@jupyter-widgets/controls",
       "_view_module_version": "1.5.0",
       "_view_name": "ProgressView",
       "bar_style": "success",
       "description": "",
       "description_tooltip": null,
       "layout": "IPY_MODEL_d203679de9cb45c19b67e407f9821d9a",
       "max": 20000.0,
       "min": 0.0,
       "orientation": "horizontal",
       "style": "IPY_MODEL_6b3549abdc9540469908e9e9a6f635c0",
       "value": 20000.0
      }
     },
     "aed3327ac5cc45a2abec1fd4030074d5": {
      "model_module": "@jupyter-widgets/controls",
      "model_module_version": "1.5.0",
      "model_name": "FloatProgressModel",
      "state": {
       "_dom_classes": [],
       "_model_module": "@jupyter-widgets/controls",
       "_model_module_version": "1.5.0",
       "_model_name": "FloatProgressModel",
       "_view_count": null,
       "_view_module": "@jupyter-widgets/controls",
       "_view_module_version": "1.5.0",
       "_view_name": "ProgressView",
       "bar_style": "success",
       "description": "",
       "description_tooltip": null,
       "layout": "IPY_MODEL_68d7ffbbd4f44893b889e8d97b940c29",
       "max": 20000.0,
       "min": 0.0,
       "orientation": "horizontal",
       "style": "IPY_MODEL_ffaf12bb79714959b78318f4821eee7c",
       "value": 20000.0
      }
     },
     "b073ec1bb66543b1b5ebb22720bb603d": {
      "model_module": "@jupyter-widgets/controls",
      "model_module_version": "1.5.0",
      "model_name": "DescriptionStyleModel",
      "state": {
       "_model_module": "@jupyter-widgets/controls",
       "_model_module_version": "1.5.0",
       "_model_name": "DescriptionStyleModel",
       "_view_count": null,
       "_view_module": "@jupyter-widgets/base",
       "_view_module_version": "1.2.0",
       "_view_name": "StyleView",
       "description_width": ""
      }
     },
     "b5cb7e621c354d8baf200881a1c55959": {
      "model_module": "@jupyter-widgets/controls",
      "model_module_version": "1.5.0",
      "model_name": "HBoxModel",
      "state": {
       "_dom_classes": [],
       "_model_module": "@jupyter-widgets/controls",
       "_model_module_version": "1.5.0",
       "_model_name": "HBoxModel",
       "_view_count": null,
       "_view_module": "@jupyter-widgets/controls",
       "_view_module_version": "1.5.0",
       "_view_name": "HBoxView",
       "box_style": "",
       "children": [
        "IPY_MODEL_6b2530b311684ff49cce4da5fb94f688",
        "IPY_MODEL_eda962f7c2c049eb9a3978e7fbee7962",
        "IPY_MODEL_eac44e7dabc540f2abba893a42f72f83"
       ],
       "layout": "IPY_MODEL_dc871406e55346a5a43650dbb3dcfcd7"
      }
     },
     "b7fb2c3403f44c1ebd870a0c35ace4dc": {
      "model_module": "@jupyter-widgets/controls",
      "model_module_version": "1.5.0",
      "model_name": "HTMLModel",
      "state": {
       "_dom_classes": [],
       "_model_module": "@jupyter-widgets/controls",
       "_model_module_version": "1.5.0",
       "_model_name": "HTMLModel",
       "_view_count": null,
       "_view_module": "@jupyter-widgets/controls",
       "_view_module_version": "1.5.0",
       "_view_name": "HTMLView",
       "description": "",
       "description_tooltip": null,
       "layout": "IPY_MODEL_4f38679bfbf34dec96dddba1ff0038bf",
       "placeholder": "​",
       "style": "IPY_MODEL_3e742e21298743be822e09bda161eb5c",
       "value": "100%"
      }
     },
     "badbc1188f524fa2aa64c5b094687e66": {
      "model_module": "@jupyter-widgets/controls",
      "model_module_version": "1.5.0",
      "model_name": "HTMLModel",
      "state": {
       "_dom_classes": [],
       "_model_module": "@jupyter-widgets/controls",
       "_model_module_version": "1.5.0",
       "_model_name": "HTMLModel",
       "_view_count": null,
       "_view_module": "@jupyter-widgets/controls",
       "_view_module_version": "1.5.0",
       "_view_name": "HTMLView",
       "description": "",
       "description_tooltip": null,
       "layout": "IPY_MODEL_344abc8f41e641e6acd3773cfa440c8a",
       "placeholder": "​",
       "style": "IPY_MODEL_bbc0b6dbbec7489bbb2b2f4b9dc1f72e",
       "value": "100%"
      }
     },
     "bb4356e302cb4399ab00365f7345a5df": {
      "model_module": "@jupyter-widgets/controls",
      "model_module_version": "1.5.0",
      "model_name": "DescriptionStyleModel",
      "state": {
       "_model_module": "@jupyter-widgets/controls",
       "_model_module_version": "1.5.0",
       "_model_name": "DescriptionStyleModel",
       "_view_count": null,
       "_view_module": "@jupyter-widgets/base",
       "_view_module_version": "1.2.0",
       "_view_name": "StyleView",
       "description_width": ""
      }
     },
     "bbc0b6dbbec7489bbb2b2f4b9dc1f72e": {
      "model_module": "@jupyter-widgets/controls",
      "model_module_version": "1.5.0",
      "model_name": "DescriptionStyleModel",
      "state": {
       "_model_module": "@jupyter-widgets/controls",
       "_model_module_version": "1.5.0",
       "_model_name": "DescriptionStyleModel",
       "_view_count": null,
       "_view_module": "@jupyter-widgets/base",
       "_view_module_version": "1.2.0",
       "_view_name": "StyleView",
       "description_width": ""
      }
     },
     "bd2d828fbd07408193d331178ab375c3": {
      "model_module": "@jupyter-widgets/base",
      "model_module_version": "1.2.0",
      "model_name": "LayoutModel",
      "state": {
       "_model_module": "@jupyter-widgets/base",
       "_model_module_version": "1.2.0",
       "_model_name": "LayoutModel",
       "_view_count": null,
       "_view_module": "@jupyter-widgets/base",
       "_view_module_version": "1.2.0",
       "_view_name": "LayoutView",
       "align_content": null,
       "align_items": null,
       "align_self": null,
       "border": null,
       "bottom": null,
       "display": null,
       "flex": null,
       "flex_flow": null,
       "grid_area": null,
       "grid_auto_columns": null,
       "grid_auto_flow": null,
       "grid_auto_rows": null,
       "grid_column": null,
       "grid_gap": null,
       "grid_row": null,
       "grid_template_areas": null,
       "grid_template_columns": null,
       "grid_template_rows": null,
       "height": null,
       "justify_content": null,
       "justify_items": null,
       "left": null,
       "margin": null,
       "max_height": null,
       "max_width": null,
       "min_height": null,
       "min_width": null,
       "object_fit": null,
       "object_position": null,
       "order": null,
       "overflow": null,
       "overflow_x": null,
       "overflow_y": null,
       "padding": null,
       "right": null,
       "top": null,
       "visibility": null,
       "width": null
      }
     },
     "bda8e647a10549e088e94563b735cb10": {
      "model_module": "@jupyter-widgets/controls",
      "model_module_version": "1.5.0",
      "model_name": "FloatProgressModel",
      "state": {
       "_dom_classes": [],
       "_model_module": "@jupyter-widgets/controls",
       "_model_module_version": "1.5.0",
       "_model_name": "FloatProgressModel",
       "_view_count": null,
       "_view_module": "@jupyter-widgets/controls",
       "_view_module_version": "1.5.0",
       "_view_name": "ProgressView",
       "bar_style": "success",
       "description": "",
       "description_tooltip": null,
       "layout": "IPY_MODEL_597874c1ef9d40c3a8fd0e08c5edd3a0",
       "max": 20000.0,
       "min": 0.0,
       "orientation": "horizontal",
       "style": "IPY_MODEL_cbdb5d33d9924b0d8ab759bccbdf7baa",
       "value": 20000.0
      }
     },
     "bf33bbca42404f2fbb605169816200f4": {
      "model_module": "@jupyter-widgets/base",
      "model_module_version": "1.2.0",
      "model_name": "LayoutModel",
      "state": {
       "_model_module": "@jupyter-widgets/base",
       "_model_module_version": "1.2.0",
       "_model_name": "LayoutModel",
       "_view_count": null,
       "_view_module": "@jupyter-widgets/base",
       "_view_module_version": "1.2.0",
       "_view_name": "LayoutView",
       "align_content": null,
       "align_items": null,
       "align_self": null,
       "border": null,
       "bottom": null,
       "display": null,
       "flex": null,
       "flex_flow": null,
       "grid_area": null,
       "grid_auto_columns": null,
       "grid_auto_flow": null,
       "grid_auto_rows": null,
       "grid_column": null,
       "grid_gap": null,
       "grid_row": null,
       "grid_template_areas": null,
       "grid_template_columns": null,
       "grid_template_rows": null,
       "height": null,
       "justify_content": null,
       "justify_items": null,
       "left": null,
       "margin": null,
       "max_height": null,
       "max_width": null,
       "min_height": null,
       "min_width": null,
       "object_fit": null,
       "object_position": null,
       "order": null,
       "overflow": null,
       "overflow_x": null,
       "overflow_y": null,
       "padding": null,
       "right": null,
       "top": null,
       "visibility": null,
       "width": null
      }
     },
     "bf6c60f5ef7e4f7daa2f97663ee1673e": {
      "model_module": "@jupyter-widgets/controls",
      "model_module_version": "1.5.0",
      "model_name": "HBoxModel",
      "state": {
       "_dom_classes": [],
       "_model_module": "@jupyter-widgets/controls",
       "_model_module_version": "1.5.0",
       "_model_name": "HBoxModel",
       "_view_count": null,
       "_view_module": "@jupyter-widgets/controls",
       "_view_module_version": "1.5.0",
       "_view_name": "HBoxView",
       "box_style": "",
       "children": [
        "IPY_MODEL_1ac073fc330d4bd69bf8a2c5ca9a5c89",
        "IPY_MODEL_5dcfcb9bacc542fa9f0cd56009b6681f",
        "IPY_MODEL_e81ffb1fe479457f8dd24d8b8ac459d5"
       ],
       "layout": "IPY_MODEL_0993ab08ac5f454b88d895e94f6eb088"
      }
     },
     "c3b9100aa9b240118c9d4861524496bf": {
      "model_module": "@jupyter-widgets/controls",
      "model_module_version": "1.5.0",
      "model_name": "DescriptionStyleModel",
      "state": {
       "_model_module": "@jupyter-widgets/controls",
       "_model_module_version": "1.5.0",
       "_model_name": "DescriptionStyleModel",
       "_view_count": null,
       "_view_module": "@jupyter-widgets/base",
       "_view_module_version": "1.2.0",
       "_view_name": "StyleView",
       "description_width": ""
      }
     },
     "c6fb7402faee4664b2acf291cfd94213": {
      "model_module": "@jupyter-widgets/base",
      "model_module_version": "1.2.0",
      "model_name": "LayoutModel",
      "state": {
       "_model_module": "@jupyter-widgets/base",
       "_model_module_version": "1.2.0",
       "_model_name": "LayoutModel",
       "_view_count": null,
       "_view_module": "@jupyter-widgets/base",
       "_view_module_version": "1.2.0",
       "_view_name": "LayoutView",
       "align_content": null,
       "align_items": null,
       "align_self": null,
       "border": null,
       "bottom": null,
       "display": null,
       "flex": null,
       "flex_flow": null,
       "grid_area": null,
       "grid_auto_columns": null,
       "grid_auto_flow": null,
       "grid_auto_rows": null,
       "grid_column": null,
       "grid_gap": null,
       "grid_row": null,
       "grid_template_areas": null,
       "grid_template_columns": null,
       "grid_template_rows": null,
       "height": null,
       "justify_content": null,
       "justify_items": null,
       "left": null,
       "margin": null,
       "max_height": null,
       "max_width": null,
       "min_height": null,
       "min_width": null,
       "object_fit": null,
       "object_position": null,
       "order": null,
       "overflow": null,
       "overflow_x": null,
       "overflow_y": null,
       "padding": null,
       "right": null,
       "top": null,
       "visibility": null,
       "width": null
      }
     },
     "c7cf4266e1034e1195cbe8f0484c6dfe": {
      "model_module": "@jupyter-widgets/controls",
      "model_module_version": "1.5.0",
      "model_name": "FloatProgressModel",
      "state": {
       "_dom_classes": [],
       "_model_module": "@jupyter-widgets/controls",
       "_model_module_version": "1.5.0",
       "_model_name": "FloatProgressModel",
       "_view_count": null,
       "_view_module": "@jupyter-widgets/controls",
       "_view_module_version": "1.5.0",
       "_view_name": "ProgressView",
       "bar_style": "success",
       "description": "",
       "description_tooltip": null,
       "layout": "IPY_MODEL_c6fb7402faee4664b2acf291cfd94213",
       "max": 20000.0,
       "min": 0.0,
       "orientation": "horizontal",
       "style": "IPY_MODEL_ff1035184c164dc0a296b7a8134feadc",
       "value": 20000.0
      }
     },
     "cbdb5d33d9924b0d8ab759bccbdf7baa": {
      "model_module": "@jupyter-widgets/controls",
      "model_module_version": "1.5.0",
      "model_name": "ProgressStyleModel",
      "state": {
       "_model_module": "@jupyter-widgets/controls",
       "_model_module_version": "1.5.0",
       "_model_name": "ProgressStyleModel",
       "_view_count": null,
       "_view_module": "@jupyter-widgets/base",
       "_view_module_version": "1.2.0",
       "_view_name": "StyleView",
       "bar_color": null,
       "description_width": ""
      }
     },
     "cc5de8fc296544f0b4599c78fc0c0e37": {
      "model_module": "@jupyter-widgets/controls",
      "model_module_version": "1.5.0",
      "model_name": "DescriptionStyleModel",
      "state": {
       "_model_module": "@jupyter-widgets/controls",
       "_model_module_version": "1.5.0",
       "_model_name": "DescriptionStyleModel",
       "_view_count": null,
       "_view_module": "@jupyter-widgets/base",
       "_view_module_version": "1.2.0",
       "_view_name": "StyleView",
       "description_width": ""
      }
     },
     "ce519e6aa78b4e5bbd188802371ba714": {
      "model_module": "@jupyter-widgets/base",
      "model_module_version": "1.2.0",
      "model_name": "LayoutModel",
      "state": {
       "_model_module": "@jupyter-widgets/base",
       "_model_module_version": "1.2.0",
       "_model_name": "LayoutModel",
       "_view_count": null,
       "_view_module": "@jupyter-widgets/base",
       "_view_module_version": "1.2.0",
       "_view_name": "LayoutView",
       "align_content": null,
       "align_items": null,
       "align_self": null,
       "border": null,
       "bottom": null,
       "display": null,
       "flex": null,
       "flex_flow": null,
       "grid_area": null,
       "grid_auto_columns": null,
       "grid_auto_flow": null,
       "grid_auto_rows": null,
       "grid_column": null,
       "grid_gap": null,
       "grid_row": null,
       "grid_template_areas": null,
       "grid_template_columns": null,
       "grid_template_rows": null,
       "height": null,
       "justify_content": null,
       "justify_items": null,
       "left": null,
       "margin": null,
       "max_height": null,
       "max_width": null,
       "min_height": null,
       "min_width": null,
       "object_fit": null,
       "object_position": null,
       "order": null,
       "overflow": null,
       "overflow_x": null,
       "overflow_y": null,
       "padding": null,
       "right": null,
       "top": null,
       "visibility": null,
       "width": null
      }
     },
     "ce702ea3b51b4ffca4ea24b99e6f0c71": {
      "model_module": "@jupyter-widgets/base",
      "model_module_version": "1.2.0",
      "model_name": "LayoutModel",
      "state": {
       "_model_module": "@jupyter-widgets/base",
       "_model_module_version": "1.2.0",
       "_model_name": "LayoutModel",
       "_view_count": null,
       "_view_module": "@jupyter-widgets/base",
       "_view_module_version": "1.2.0",
       "_view_name": "LayoutView",
       "align_content": null,
       "align_items": null,
       "align_self": null,
       "border": null,
       "bottom": null,
       "display": null,
       "flex": null,
       "flex_flow": null,
       "grid_area": null,
       "grid_auto_columns": null,
       "grid_auto_flow": null,
       "grid_auto_rows": null,
       "grid_column": null,
       "grid_gap": null,
       "grid_row": null,
       "grid_template_areas": null,
       "grid_template_columns": null,
       "grid_template_rows": null,
       "height": null,
       "justify_content": null,
       "justify_items": null,
       "left": null,
       "margin": null,
       "max_height": null,
       "max_width": null,
       "min_height": null,
       "min_width": null,
       "object_fit": null,
       "object_position": null,
       "order": null,
       "overflow": null,
       "overflow_x": null,
       "overflow_y": null,
       "padding": null,
       "right": null,
       "top": null,
       "visibility": null,
       "width": null
      }
     },
     "d203679de9cb45c19b67e407f9821d9a": {
      "model_module": "@jupyter-widgets/base",
      "model_module_version": "1.2.0",
      "model_name": "LayoutModel",
      "state": {
       "_model_module": "@jupyter-widgets/base",
       "_model_module_version": "1.2.0",
       "_model_name": "LayoutModel",
       "_view_count": null,
       "_view_module": "@jupyter-widgets/base",
       "_view_module_version": "1.2.0",
       "_view_name": "LayoutView",
       "align_content": null,
       "align_items": null,
       "align_self": null,
       "border": null,
       "bottom": null,
       "display": null,
       "flex": null,
       "flex_flow": null,
       "grid_area": null,
       "grid_auto_columns": null,
       "grid_auto_flow": null,
       "grid_auto_rows": null,
       "grid_column": null,
       "grid_gap": null,
       "grid_row": null,
       "grid_template_areas": null,
       "grid_template_columns": null,
       "grid_template_rows": null,
       "height": null,
       "justify_content": null,
       "justify_items": null,
       "left": null,
       "margin": null,
       "max_height": null,
       "max_width": null,
       "min_height": null,
       "min_width": null,
       "object_fit": null,
       "object_position": null,
       "order": null,
       "overflow": null,
       "overflow_x": null,
       "overflow_y": null,
       "padding": null,
       "right": null,
       "top": null,
       "visibility": null,
       "width": null
      }
     },
     "d877ea5993284e0c944cc3ba9b395b40": {
      "model_module": "@jupyter-widgets/controls",
      "model_module_version": "1.5.0",
      "model_name": "DescriptionStyleModel",
      "state": {
       "_model_module": "@jupyter-widgets/controls",
       "_model_module_version": "1.5.0",
       "_model_name": "DescriptionStyleModel",
       "_view_count": null,
       "_view_module": "@jupyter-widgets/base",
       "_view_module_version": "1.2.0",
       "_view_name": "StyleView",
       "description_width": ""
      }
     },
     "dc871406e55346a5a43650dbb3dcfcd7": {
      "model_module": "@jupyter-widgets/base",
      "model_module_version": "1.2.0",
      "model_name": "LayoutModel",
      "state": {
       "_model_module": "@jupyter-widgets/base",
       "_model_module_version": "1.2.0",
       "_model_name": "LayoutModel",
       "_view_count": null,
       "_view_module": "@jupyter-widgets/base",
       "_view_module_version": "1.2.0",
       "_view_name": "LayoutView",
       "align_content": null,
       "align_items": null,
       "align_self": null,
       "border": null,
       "bottom": null,
       "display": null,
       "flex": null,
       "flex_flow": null,
       "grid_area": null,
       "grid_auto_columns": null,
       "grid_auto_flow": null,
       "grid_auto_rows": null,
       "grid_column": null,
       "grid_gap": null,
       "grid_row": null,
       "grid_template_areas": null,
       "grid_template_columns": null,
       "grid_template_rows": null,
       "height": null,
       "justify_content": null,
       "justify_items": null,
       "left": null,
       "margin": null,
       "max_height": null,
       "max_width": null,
       "min_height": null,
       "min_width": null,
       "object_fit": null,
       "object_position": null,
       "order": null,
       "overflow": null,
       "overflow_x": null,
       "overflow_y": null,
       "padding": null,
       "right": null,
       "top": null,
       "visibility": null,
       "width": null
      }
     },
     "de59b6da3617471f82dfa5c0fe7dc0e6": {
      "model_module": "@jupyter-widgets/controls",
      "model_module_version": "1.5.0",
      "model_name": "ProgressStyleModel",
      "state": {
       "_model_module": "@jupyter-widgets/controls",
       "_model_module_version": "1.5.0",
       "_model_name": "ProgressStyleModel",
       "_view_count": null,
       "_view_module": "@jupyter-widgets/base",
       "_view_module_version": "1.2.0",
       "_view_name": "StyleView",
       "bar_color": null,
       "description_width": ""
      }
     },
     "e078df6384194da59febcae423efed7f": {
      "model_module": "@jupyter-widgets/base",
      "model_module_version": "1.2.0",
      "model_name": "LayoutModel",
      "state": {
       "_model_module": "@jupyter-widgets/base",
       "_model_module_version": "1.2.0",
       "_model_name": "LayoutModel",
       "_view_count": null,
       "_view_module": "@jupyter-widgets/base",
       "_view_module_version": "1.2.0",
       "_view_name": "LayoutView",
       "align_content": null,
       "align_items": null,
       "align_self": null,
       "border": null,
       "bottom": null,
       "display": null,
       "flex": null,
       "flex_flow": null,
       "grid_area": null,
       "grid_auto_columns": null,
       "grid_auto_flow": null,
       "grid_auto_rows": null,
       "grid_column": null,
       "grid_gap": null,
       "grid_row": null,
       "grid_template_areas": null,
       "grid_template_columns": null,
       "grid_template_rows": null,
       "height": null,
       "justify_content": null,
       "justify_items": null,
       "left": null,
       "margin": null,
       "max_height": null,
       "max_width": null,
       "min_height": null,
       "min_width": null,
       "object_fit": null,
       "object_position": null,
       "order": null,
       "overflow": null,
       "overflow_x": null,
       "overflow_y": null,
       "padding": null,
       "right": null,
       "top": null,
       "visibility": null,
       "width": null
      }
     },
     "e81ffb1fe479457f8dd24d8b8ac459d5": {
      "model_module": "@jupyter-widgets/controls",
      "model_module_version": "1.5.0",
      "model_name": "HTMLModel",
      "state": {
       "_dom_classes": [],
       "_model_module": "@jupyter-widgets/controls",
       "_model_module_version": "1.5.0",
       "_model_name": "HTMLModel",
       "_view_count": null,
       "_view_module": "@jupyter-widgets/controls",
       "_view_module_version": "1.5.0",
       "_view_name": "HTMLView",
       "description": "",
       "description_tooltip": null,
       "layout": "IPY_MODEL_bf33bbca42404f2fbb605169816200f4",
       "placeholder": "​",
       "style": "IPY_MODEL_4aab7abd407e46a1a2caab6c8d89b0ba",
       "value": " 20000/20000 [00:00&lt;00:00, 62341.36it/s]"
      }
     },
     "e9998a2f320747d29c9188268b557746": {
      "model_module": "@jupyter-widgets/controls",
      "model_module_version": "1.5.0",
      "model_name": "FloatProgressModel",
      "state": {
       "_dom_classes": [],
       "_model_module": "@jupyter-widgets/controls",
       "_model_module_version": "1.5.0",
       "_model_name": "FloatProgressModel",
       "_view_count": null,
       "_view_module": "@jupyter-widgets/controls",
       "_view_module_version": "1.5.0",
       "_view_name": "ProgressView",
       "bar_style": "success",
       "description": "",
       "description_tooltip": null,
       "layout": "IPY_MODEL_0fabbc8c69b3473e840499aa4277393f",
       "max": 20000.0,
       "min": 0.0,
       "orientation": "horizontal",
       "style": "IPY_MODEL_f4974a26c9d04842aa374d796f0c4db3",
       "value": 20000.0
      }
     },
     "eac44e7dabc540f2abba893a42f72f83": {
      "model_module": "@jupyter-widgets/controls",
      "model_module_version": "1.5.0",
      "model_name": "HTMLModel",
      "state": {
       "_dom_classes": [],
       "_model_module": "@jupyter-widgets/controls",
       "_model_module_version": "1.5.0",
       "_model_name": "HTMLModel",
       "_view_count": null,
       "_view_module": "@jupyter-widgets/controls",
       "_view_module_version": "1.5.0",
       "_view_name": "HTMLView",
       "description": "",
       "description_tooltip": null,
       "layout": "IPY_MODEL_4b3a4689245d49e48967a326e5d0cb16",
       "placeholder": "​",
       "style": "IPY_MODEL_616ea422dea94b0f96b5435f296fe4a3",
       "value": " 20000/20000 [00:12&lt;00:00, 1622.82it/s]"
      }
     },
     "ebcf73d0d10d48f6b837c8a6880238e5": {
      "model_module": "@jupyter-widgets/base",
      "model_module_version": "1.2.0",
      "model_name": "LayoutModel",
      "state": {
       "_model_module": "@jupyter-widgets/base",
       "_model_module_version": "1.2.0",
       "_model_name": "LayoutModel",
       "_view_count": null,
       "_view_module": "@jupyter-widgets/base",
       "_view_module_version": "1.2.0",
       "_view_name": "LayoutView",
       "align_content": null,
       "align_items": null,
       "align_self": null,
       "border": null,
       "bottom": null,
       "display": null,
       "flex": null,
       "flex_flow": null,
       "grid_area": null,
       "grid_auto_columns": null,
       "grid_auto_flow": null,
       "grid_auto_rows": null,
       "grid_column": null,
       "grid_gap": null,
       "grid_row": null,
       "grid_template_areas": null,
       "grid_template_columns": null,
       "grid_template_rows": null,
       "height": null,
       "justify_content": null,
       "justify_items": null,
       "left": null,
       "margin": null,
       "max_height": null,
       "max_width": null,
       "min_height": null,
       "min_width": null,
       "object_fit": null,
       "object_position": null,
       "order": null,
       "overflow": null,
       "overflow_x": null,
       "overflow_y": null,
       "padding": null,
       "right": null,
       "top": null,
       "visibility": null,
       "width": null
      }
     },
     "eda962f7c2c049eb9a3978e7fbee7962": {
      "model_module": "@jupyter-widgets/controls",
      "model_module_version": "1.5.0",
      "model_name": "FloatProgressModel",
      "state": {
       "_dom_classes": [],
       "_model_module": "@jupyter-widgets/controls",
       "_model_module_version": "1.5.0",
       "_model_name": "FloatProgressModel",
       "_view_count": null,
       "_view_module": "@jupyter-widgets/controls",
       "_view_module_version": "1.5.0",
       "_view_name": "ProgressView",
       "bar_style": "success",
       "description": "",
       "description_tooltip": null,
       "layout": "IPY_MODEL_45f78b05f9f849938eb94877203d148e",
       "max": 20000.0,
       "min": 0.0,
       "orientation": "horizontal",
       "style": "IPY_MODEL_04cc0b622f67469cb8ced7c2bdfbb85f",
       "value": 20000.0
      }
     },
     "ee6d720be193495e878f97c36280018d": {
      "model_module": "@jupyter-widgets/controls",
      "model_module_version": "1.5.0",
      "model_name": "HTMLModel",
      "state": {
       "_dom_classes": [],
       "_model_module": "@jupyter-widgets/controls",
       "_model_module_version": "1.5.0",
       "_model_name": "HTMLModel",
       "_view_count": null,
       "_view_module": "@jupyter-widgets/controls",
       "_view_module_version": "1.5.0",
       "_view_name": "HTMLView",
       "description": "",
       "description_tooltip": null,
       "layout": "IPY_MODEL_ebcf73d0d10d48f6b837c8a6880238e5",
       "placeholder": "​",
       "style": "IPY_MODEL_a076ced3dbc14a6f90c83a9a1ce21613",
       "value": " 400/400 [08:31&lt;00:00,  1.20s/it]"
      }
     },
     "f15e6ae1abed456c8b27a58f20a8708a": {
      "model_module": "@jupyter-widgets/controls",
      "model_module_version": "1.5.0",
      "model_name": "HBoxModel",
      "state": {
       "_dom_classes": [],
       "_model_module": "@jupyter-widgets/controls",
       "_model_module_version": "1.5.0",
       "_model_name": "HBoxModel",
       "_view_count": null,
       "_view_module": "@jupyter-widgets/controls",
       "_view_module_version": "1.5.0",
       "_view_name": "HBoxView",
       "box_style": "",
       "children": [
        "IPY_MODEL_b7fb2c3403f44c1ebd870a0c35ace4dc",
        "IPY_MODEL_aed3327ac5cc45a2abec1fd4030074d5",
        "IPY_MODEL_5220583de27846f6b7e39007d4cc16f7"
       ],
       "layout": "IPY_MODEL_44a1c8de253f4899ad1fdcc1ef5f230c"
      }
     },
     "f1ff9e52b31944698dba6c7ff290c20a": {
      "model_module": "@jupyter-widgets/controls",
      "model_module_version": "1.5.0",
      "model_name": "HTMLModel",
      "state": {
       "_dom_classes": [],
       "_model_module": "@jupyter-widgets/controls",
       "_model_module_version": "1.5.0",
       "_model_name": "HTMLModel",
       "_view_count": null,
       "_view_module": "@jupyter-widgets/controls",
       "_view_module_version": "1.5.0",
       "_view_name": "HTMLView",
       "description": "",
       "description_tooltip": null,
       "layout": "IPY_MODEL_77ebeaa42cc747f88ea75cd66d9c5aff",
       "placeholder": "​",
       "style": "IPY_MODEL_2dea536876e6423f95deafec90fdaa2b",
       "value": " 20000/20000 [00:04&lt;00:00, 4709.87it/s]"
      }
     },
     "f3ac027498a345e48eb151e98bb1f3f6": {
      "model_module": "@jupyter-widgets/controls",
      "model_module_version": "1.5.0",
      "model_name": "HTMLModel",
      "state": {
       "_dom_classes": [],
       "_model_module": "@jupyter-widgets/controls",
       "_model_module_version": "1.5.0",
       "_model_name": "HTMLModel",
       "_view_count": null,
       "_view_module": "@jupyter-widgets/controls",
       "_view_module_version": "1.5.0",
       "_view_name": "HTMLView",
       "description": "",
       "description_tooltip": null,
       "layout": "IPY_MODEL_07c7a3e844d84961a6353d9b9bc01fee",
       "placeholder": "​",
       "style": "IPY_MODEL_0e0fe209a2364c08a963a6741e87b2d2",
       "value": "100%"
      }
     },
     "f4974a26c9d04842aa374d796f0c4db3": {
      "model_module": "@jupyter-widgets/controls",
      "model_module_version": "1.5.0",
      "model_name": "ProgressStyleModel",
      "state": {
       "_model_module": "@jupyter-widgets/controls",
       "_model_module_version": "1.5.0",
       "_model_name": "ProgressStyleModel",
       "_view_count": null,
       "_view_module": "@jupyter-widgets/base",
       "_view_module_version": "1.2.0",
       "_view_name": "StyleView",
       "bar_color": null,
       "description_width": ""
      }
     },
     "ff1035184c164dc0a296b7a8134feadc": {
      "model_module": "@jupyter-widgets/controls",
      "model_module_version": "1.5.0",
      "model_name": "ProgressStyleModel",
      "state": {
       "_model_module": "@jupyter-widgets/controls",
       "_model_module_version": "1.5.0",
       "_model_name": "ProgressStyleModel",
       "_view_count": null,
       "_view_module": "@jupyter-widgets/base",
       "_view_module_version": "1.2.0",
       "_view_name": "StyleView",
       "bar_color": null,
       "description_width": ""
      }
     },
     "ffaf12bb79714959b78318f4821eee7c": {
      "model_module": "@jupyter-widgets/controls",
      "model_module_version": "1.5.0",
      "model_name": "ProgressStyleModel",
      "state": {
       "_model_module": "@jupyter-widgets/controls",
       "_model_module_version": "1.5.0",
       "_model_name": "ProgressStyleModel",
       "_view_count": null,
       "_view_module": "@jupyter-widgets/base",
       "_view_module_version": "1.2.0",
       "_view_name": "StyleView",
       "bar_color": null,
       "description_width": ""
      }
     }
    },
    "version_major": 2,
    "version_minor": 0
   }
  }
 },
 "nbformat": 4,
 "nbformat_minor": 5
}
