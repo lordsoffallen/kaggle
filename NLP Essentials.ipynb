{
 "cells": [
  {
   "cell_type": "markdown",
   "metadata": {},
   "source": [
    "# NLP Essentials\n",
    "\n",
    "## Libraries and Packages"
   ]
  },
  {
   "cell_type": "markdown",
   "metadata": {},
   "source": [
    "Here are the most powerful and useful NLP libraries in Python.\n",
    "\n",
    "•\t**Scikit-learn:** the most powerful and famous Machine Learning library in Python\n",
    "\n",
    "•\t**Natural Language Toolkit (NLTK):** The complete toolkit for all NLP techniques.\n",
    "\n",
    "•\t**TextBlob:** Easy to use NLP tools API, built on top of NLTK and Pattern.\n",
    "\n",
    "•\t**SpaCy:** Industrial strength NLP with Python and Cython.\n",
    "\n",
    "•\t**Gensim:** Topic Modelling for Humans\n",
    "\n",
    "•\t**Stanford Core NLP:** NLP services and packages by Stanford NLP Group.\n",
    "\n",
    "•\t**Fasttext:** NLP library for learning of word embeddings and sentence classification created by Facebook's AI Research (FAIR) lab"
   ]
  },
  {
   "cell_type": "markdown",
   "metadata": {},
   "source": [
    "Knowing when to use which package all depends on the use case:\n",
    "\n",
    "- ***NLTK*** is recommended only as an education and research tool. Its modularized structure makes it excellent for learning and exploring NLP concepts, but it’s not meant for production. It’s the most famous Python NLP library, and it’s led to incredible breakthroughs in the field.  NLTK is also popular for education and research. On its own website, NLTK claims to be an “an amazing library to play with natural language.” The major drawback of NLTK is that it’s heavy and slippery, and it has a steep learning curve. The second major weakness is that it’s slow and not production-ready.\n",
    "\n",
    "- ***TextBlob*** is built on top of NLTK, and it’s more easily-accessible. This is our favorite library for fast prototyping or building applications that don’t require highly optimized performance. Beginners should start here. TextBlob makes text processing simple by providing an intuitive interface to NLTK. It’s a welcome addition to an already solid lineup of Python NLP libraries because it has a gentle learning curve while boasting a surprising amount of functionality.\n",
    "\n",
    "- ***Stanford’s CoreNLP*** is a Java library with Python wrappers. It’s in many existing production systems due to its speed. Stanford CoreNLP is a suite of production-ready natural analysis tools. It includes part-of-speech (POS) tagging, entity recognition, pattern learning, parsing, and much more. Many organizations use CoreNLP for production implementations. It’s fast, accurate, and able to support several major languages.\n",
    "\n",
    "- ***SpaCy*** is a new NLP library that’s designed to be fast, streamlined, and production-ready. It’s not as widely adopted, but if you’re building a new application, you should give it a try. SpaCy is minimal and opinionated, and it doesn’t flood you with options like NLTK does. Its philosophy is to only present one algorithm (the best one) for each purpose. You don’t have to make choices, and you can focus on being productive. Because it’s built on Cython, it’s also lightning-fast. \n",
    "\n",
    "- ***Gensim*** is most commonly used for topic modeling and similarity detection. It’s not a general-purpose NLP library, but for the tasks it does handle, it does them well. Gensim is a well-optimized library for topic modeling and document similarity analysis. Among the Python NLP libraries listed here, it’s the most specialized. Its topic modeling algorithms, such as its Latent Dirichlet Allocation (LDA) implementation, are best-in-class. In addition, it’s robust, efficient, and scalable.\n",
    "\n",
    "- ***Fasttext*** is mainly used for applying deep learning techniques to NLP problems. FastText combines some of the most successful concepts introduced by the natural language processing and machine learning communities in the last few decades. These include representing sentences with bag of words and bag of n-grams, as well as using subword information, and sharing information across classes through a hidden representation.  It also employs a hierachical softmax that takes advantage of the unbalanced distribution of the classes to speed up computation. These different concepts are being used for two different tasks: efficient text classification and learning word vector representations."
   ]
  },
  {
   "cell_type": "markdown",
   "metadata": {},
   "source": [
    "## 3. Basic Text Processing and NLP Techniques\n",
    "\n",
    "The written text or spoken language is the most unstructured form of all the available data. Before we try to extract meaningful insights from text data, we need to sanitize the data by applying some text preprocessing techniques such as tokenization, lemmatization and stopword removal. In NLP, our first goal is to prepare the text data into a format that could be handled by machine learning algorithms. For this purpose, we're going to use the NLP packages mentioned above but let's start with NLTK package at first due to its simplicity."
   ]
  },
  {
   "cell_type": "markdown",
   "metadata": {},
   "source": [
    "Installing NLTK package is a little bit different than installing other Python packages. NLTK package has many other sub modules and data that should be installed after we import NLTK.\n",
    "\n",
    "Once that we have confirmed that nltk is installed, we will have to download and install NLTK data. NLTK Data consists of the corpora and all the words in a language along with various grammar syntaxes, toy grammars, trained models, etc. They help the users to easily process languages by applying the various functions. Please note that installing nltk data is a long process it involves downloading over 1 GB of data. \n",
    "\n",
    "To download the nltk data, import NLTK and then run `nltk.download_shell()` or `nltk.download()` to see the download options."
   ]
  },
  {
   "cell_type": "code",
   "execution_count": 1,
   "metadata": {},
   "outputs": [],
   "source": [
    "import nltk\n",
    "import re"
   ]
  },
  {
   "cell_type": "markdown",
   "metadata": {},
   "source": [
    "Now let's see the downloaded texts from Project Gutenberg. "
   ]
  },
  {
   "cell_type": "code",
   "execution_count": 2,
   "metadata": {},
   "outputs": [
    {
     "data": {
      "text/plain": [
       "['austen-emma.txt',\n",
       " 'austen-persuasion.txt',\n",
       " 'austen-sense.txt',\n",
       " 'bible-kjv.txt',\n",
       " 'blake-poems.txt',\n",
       " 'bryant-stories.txt',\n",
       " 'burgess-busterbrown.txt',\n",
       " 'carroll-alice.txt',\n",
       " 'chesterton-ball.txt',\n",
       " 'chesterton-brown.txt',\n",
       " 'chesterton-thursday.txt',\n",
       " 'edgeworth-parents.txt',\n",
       " 'melville-moby_dick.txt',\n",
       " 'milton-paradise.txt',\n",
       " 'shakespeare-caesar.txt',\n",
       " 'shakespeare-hamlet.txt',\n",
       " 'shakespeare-macbeth.txt',\n",
       " 'whitman-leaves.txt']"
      ]
     },
     "execution_count": 2,
     "metadata": {},
     "output_type": "execute_result"
    }
   ],
   "source": [
    "nltk.corpus.gutenberg.fileids()"
   ]
  },
  {
   "cell_type": "code",
   "execution_count": 16,
   "metadata": {},
   "outputs": [],
   "source": [
    "burgess = nltk.corpus.gutenberg.raw('burgess-busterbrown.txt')"
   ]
  },
  {
   "cell_type": "markdown",
   "metadata": {},
   "source": [
    "Now we loaded a whole text file into our project. Since the size of this text is quite large, we can split that by paragraph and select a few of them or just select as many words as we want by splitting into words."
   ]
  },
  {
   "cell_type": "code",
   "execution_count": 17,
   "metadata": {},
   "outputs": [
    {
     "name": "stdout",
     "output_type": "stream",
     "text": [
      "[The Adventures of Buster Bear by Thornton W. Burgess 1920]\r\n",
      "\r\n",
      "I\r\n",
      "\r\n",
      "BUSTER BEAR GOES FISHING\r\n",
      "\r\n",
      "\r\n",
      "Buster Bear yawned as he lay on his comfortable bed of leaves and\r\n",
      "watched the first early morning sunbeams creeping through the Green\r\n",
      "Forest to chase out the Black Shadows. Once more he yawned, and slowly\r\n",
      "got to his feet and shook himself. Then he walked over to a big\r\n",
      "pine-tree, stood up on his hi\n"
     ]
    }
   ],
   "source": [
    "# here, we just print the first 200 letters from the corpus\n",
    "print (burgess[:400])"
   ]
  },
  {
   "cell_type": "markdown",
   "metadata": {},
   "source": [
    "### Tokenization"
   ]
  },
  {
   "cell_type": "markdown",
   "metadata": {},
   "source": [
    "Tokenization is a step which splits longer strings of text into smaller pieces, or tokens. Larger chunks of text can be tokenized into sentences, sentences can be tokenized into words, etc. This immediately turns an unstructured string (text document) into a more usable data, which can be further structured, and made more suitable for machine learning. Further processing is generally performed after a piece of text has been appropriately tokenized. There are three different ways i.e Split, RegexpTokenizer and Word Tokenize.\n",
    "\n",
    "Let's tokenize this text by using pure python at first."
   ]
  },
  {
   "cell_type": "code",
   "execution_count": 18,
   "metadata": {},
   "outputs": [],
   "source": [
    "# convert all letters to lowercase in order to standardize the text.\n",
    "burgess = burgess.lower()\n",
    "\n",
    "# here, we just split the whole text by spaces \n",
    "tokens = [word for word in burgess.split()]"
   ]
  },
  {
   "cell_type": "code",
   "execution_count": 19,
   "metadata": {},
   "outputs": [
    {
     "name": "stdout",
     "output_type": "stream",
     "text": [
      "['[the', 'adventures', 'of', 'buster', 'bear', 'by', 'thornton', 'w.', 'burgess', '1920]', 'i', 'buster', 'bear', 'goes', 'fishing', 'buster', 'bear', 'yawned', 'as', 'he', 'lay', 'on', 'his', 'comfortable', 'bed', 'of', 'leaves', 'and', 'watched', 'the', 'first', 'early', 'morning', 'sunbeams', 'creeping', 'through', 'the', 'green', 'forest', 'to', 'chase', 'out', 'the', 'black', 'shadows.', 'once', 'more', 'he', 'yawned,', 'and', 'slowly', 'got', 'to', 'his', 'feet', 'and', 'shook', 'himself.', 'then', 'he', 'walked', 'over', 'to', 'a', 'big', 'pine-tree,', 'stood', 'up', 'on', 'his', 'hind', 'legs,', 'reached', 'as', 'high', 'up', 'on', 'the', 'trunk', 'of', 'the', 'tree', 'as', 'he', 'could,', 'and', 'scratched', 'the', 'bark', 'with', 'his', 'great', 'claws.', 'after', 'that', 'he', 'yawned', 'until', 'it', 'seemed']\n"
     ]
    }
   ],
   "source": [
    "print(tokens[:100])"
   ]
  },
  {
   "cell_type": "markdown",
   "metadata": {},
   "source": [
    "This is not the best way as we can see there are some word with symbols like `[the`. Now let's do the same with NLTK tokenizer"
   ]
  },
  {
   "cell_type": "code",
   "execution_count": 20,
   "metadata": {},
   "outputs": [
    {
     "name": "stdout",
     "output_type": "stream",
     "text": [
      "['[', 'the', 'adventures', 'of', 'buster', 'bear', 'by', 'thornton', 'w.', 'burgess', '1920', ']', 'i', 'buster', 'bear', 'goes', 'fishing', 'buster', 'bear', 'yawned', 'as', 'he', 'lay', 'on', 'his', 'comfortable', 'bed', 'of', 'leaves', 'and', 'watched', 'the', 'first', 'early', 'morning', 'sunbeams', 'creeping', 'through', 'the', 'green', 'forest', 'to', 'chase', 'out', 'the', 'black', 'shadows', '.', 'once', 'more', 'he', 'yawned', ',', 'and', 'slowly', 'got', 'to', 'his', 'feet', 'and', 'shook', 'himself', '.', 'then', 'he', 'walked', 'over', 'to', 'a', 'big', 'pine-tree', ',', 'stood', 'up', 'on', 'his', 'hind', 'legs', ',', 'reached', 'as', 'high', 'up', 'on', 'the', 'trunk', 'of', 'the', 'tree', 'as', 'he', 'could', ',', 'and', 'scratched', 'the', 'bark', 'with', 'his', 'great']\n"
     ]
    }
   ],
   "source": [
    "tokens = nltk.word_tokenize(burgess)\n",
    "print(tokens[:100])"
   ]
  },
  {
   "cell_type": "markdown",
   "metadata": {},
   "source": [
    "We can also tokenizee the text with custom regex patterns which is called RegexpTokenizer. Using this function, we can apply highly customized and detailed tokenization that could help us extract much more information without further processing."
   ]
  },
  {
   "cell_type": "code",
   "execution_count": 21,
   "metadata": {},
   "outputs": [
    {
     "name": "stdout",
     "output_type": "stream",
     "text": [
      "['the', 'adventures', 'of', 'buster', 'bear', 'by', 'thornton', 'w', 'burgess', '1920', 'i', 'buster', 'bear', 'goes', 'fishing', 'buster', 'bear', 'yawned', 'as', 'he', 'lay', 'on', 'his', 'comfortable', 'bed', 'of', 'leaves', 'and', 'watched', 'the', 'first', 'early', 'morning', 'sunbeams', 'creeping', 'through', 'the', 'green', 'forest', 'to', 'chase', 'out', 'the', 'black', 'shadows', 'once', 'more', 'he', 'yawned', 'and', 'slowly', 'got', 'to', 'his', 'feet', 'and', 'shook', 'himself', 'then', 'he', 'walked', 'over', 'to', 'a', 'big', 'pine', 'tree', 'stood', 'up', 'on', 'his', 'hind', 'legs', 'reached', 'as', 'high', 'up', 'on', 'the', 'trunk', 'of', 'the', 'tree', 'as', 'he', 'could', 'and', 'scratched', 'the', 'bark', 'with', 'his', 'great', 'claws', 'after', 'that', 'he', 'yawned', 'until', 'it']\n"
     ]
    }
   ],
   "source": [
    "tokenizer = nltk.tokenize.RegexpTokenizer(r'\\w+')\n",
    "tokens = tokenizer.tokenize(burgess)\n",
    "print(tokens[:100])"
   ]
  },
  {
   "cell_type": "markdown",
   "metadata": {},
   "source": [
    "As you see, wee don't see any punctuations since we tokenized by words in regex. \n",
    "\n",
    "Let's see the frequeencies of each token. This is quite simple and straightforward with NLTK"
   ]
  },
  {
   "cell_type": "code",
   "execution_count": 22,
   "metadata": {},
   "outputs": [],
   "source": [
    "token_freq = nltk.FreqDist(tokens)"
   ]
  },
  {
   "cell_type": "markdown",
   "metadata": {},
   "source": [
    "This return a dictionary like key-value pair and in order to find a frequency of a token, we simply use that token as key within brackets just as we do in dictionary types."
   ]
  },
  {
   "cell_type": "code",
   "execution_count": 24,
   "metadata": {},
   "outputs": [
    {
     "data": {
      "text/plain": [
       "1"
      ]
     },
     "execution_count": 24,
     "metadata": {},
     "output_type": "execute_result"
    }
   ],
   "source": [
    "token_freq[\"bark\"]"
   ]
  },
  {
   "cell_type": "markdown",
   "metadata": {},
   "source": [
    "and we can easily plot this with an embedded plot function..."
   ]
  },
  {
   "cell_type": "code",
   "execution_count": 25,
   "metadata": {},
   "outputs": [
    {
     "data": {
      "image/png": "[encoded data removed]",
      "text/plain": [
       "<Figure size 432x288 with 1 Axes>"
      ]
     },
     "metadata": {
      "needs_background": "light"
     },
     "output_type": "display_data"
    }
   ],
   "source": [
    "%matplotlib inline \n",
    "\n",
    "token_freq.plot(20, cumulative=False)"
   ]
  },
  {
   "cell_type": "markdown",
   "metadata": {},
   "source": [
    "As you can see from the plot, the words like he, the, and, etc. are highly populated in the text but don’t add any extra information in a sentence. Such words can often create noise while modelling. Such words are known as ***Stop Words***. \n",
    "\n",
    "Let's see the stopwords in English language as in NLTK package"
   ]
  },
  {
   "cell_type": "code",
   "execution_count": 26,
   "metadata": {},
   "outputs": [
    {
     "name": "stdout",
     "output_type": "stream",
     "text": [
      "{'hers', \"isn't\", 'me', 'its', 'up', 'most', 'd', 'himself', 'while', 'doing', 'nor', 'under', \"needn't\", 'when', 'as', 'because', 'yours', \"you'd\", 've', 'their', 'are', 'between', 'with', 'needn', 'same', 'weren', 'this', 'very', 't', 'being', 'm', 'before', 'those', 'mustn', 'couldn', 'to', 'her', \"you're\", 'him', \"haven't\", \"couldn't\", 'should', 'just', 'his', 'from', 'ourselves', 'it', 'after', 'you', 'now', 'if', \"you've\", 'for', 'few', \"should've\", 'has', \"hadn't\", 'wasn', 'during', 'she', 'than', 'which', 'itself', 'our', 'into', 'further', 'too', 'aren', 'other', 'yourself', 'my', 'more', 'who', 'against', \"you'll\", 'or', 'was', 'and', 'hasn', 'hadn', 'off', 'any', 'theirs', 'some', 'no', 'mightn', 'whom', 'been', 'had', 'through', 'myself', 'these', 'down', \"aren't\", 'shouldn', 'at', 'ours', 'a', 'isn', 'do', \"hasn't\", 'having', 'each', 'your', 'below', \"won't\", 'both', 'what', 'how', 'an', 'so', 'shan', \"wouldn't\", 'did', 'ain', 'the', 'again', 'but', 'can', \"she's\", \"it's\", 'is', 'here', \"doesn't\", 'o', \"shouldn't\", 'haven', 'own', 'once', 'll', 'over', 'then', 'wouldn', 'in', 're', 'we', 'themselves', 'am', 'there', 'didn', 's', 'ma', \"didn't\", 'doesn', 'will', 'herself', 'about', 'i', \"wasn't\", 'they', 'until', 'not', \"weren't\", 'that', 'such', 'out', 'why', 'only', 'by', \"that'll\", 'them', \"don't\", \"mustn't\", 'above', 'won', 'where', 'on', \"shan't\", 'be', 'y', 'does', 'all', 'yourselves', 'don', 'have', \"mightn't\", 'were', 'of', 'he'}\n"
     ]
    }
   ],
   "source": [
    "stop_words = set(nltk.corpus.stopwords.words('english'))\n",
    "print(stop_words)"
   ]
  },
  {
   "cell_type": "code",
   "execution_count": 29,
   "metadata": {},
   "outputs": [
    {
     "name": "stdout",
     "output_type": "stream",
     "text": [
      "['adventures', 'buster', 'bear', 'thornton', 'w', 'burgess', '1920', 'buster', 'bear', 'goes', 'fishing', 'buster', 'bear', 'yawned', 'lay', 'comfortable', 'bed', 'leaves', 'watched', 'first', 'early', 'morning', 'sunbeams', 'creeping', 'green', 'forest', 'chase', 'black', 'shadows', 'yawned', 'slowly', 'got', 'feet', 'shook', 'walked', 'big', 'pine', 'tree', 'stood', 'hind', 'legs', 'reached', 'high', 'trunk', 'tree', 'could', 'scratched', 'bark', 'great', 'claws', 'yawned', 'seemed', 'jaws', 'would', 'crack', 'sat', 'think', 'wanted', 'breakfast', 'sat', 'trying', 'make', 'mind', 'would', 'taste', 'best', 'listening', 'sounds', 'told', 'waking', 'little', 'people', 'live', 'green', 'forest', 'heard', 'sammy', 'jay', 'way', 'distance', 'screaming', 'thief', 'thief', 'grinned', 'wonder', 'thought', 'buster', 'one', 'stolen', 'sammy', 'breakfast', 'stolen', 'breakfast', 'one', 'else', 'probably', 'thief', 'heard', 'chatterer', 'red']\n"
     ]
    }
   ],
   "source": [
    "# filter each sentence by removing the stop words\n",
    "def remove_stopwords(tokens):\n",
    "    return [word for word in tokens if word not in stop_words]\n",
    "        \n",
    "print(remove_stopwords(tokens)[:100])"
   ]
  },
  {
   "cell_type": "markdown",
   "metadata": {},
   "source": [
    "Now let's find the frequencies and plot again"
   ]
  },
  {
   "cell_type": "code",
   "execution_count": 30,
   "metadata": {},
   "outputs": [
    {
     "data": {
      "image/png": "[encoded data removed]",
      "text/plain": [
       "<Figure size 432x288 with 1 Axes>"
      ]
     },
     "metadata": {
      "needs_background": "light"
     },
     "output_type": "display_data"
    }
   ],
   "source": [
    "token_freq = nltk.FreqDist(remove_stopwords(tokens))\n",
    "token_freq.plot(20, cumulative=False)"
   ]
  },
  {
   "cell_type": "markdown",
   "metadata": {},
   "source": [
    "As you can see, now the plot makes much moree sense and we can easily understand that the text is talking about ***bear and farmers***.\n",
    "\n",
    "Now let's tokenize this txt by sentences"
   ]
  },
  {
   "cell_type": "code",
   "execution_count": 32,
   "metadata": {},
   "outputs": [
    {
     "name": "stdout",
     "output_type": "stream",
     "text": [
      "['[the adventures of buster bear by thornton w. burgess 1920]\\r\\n\\r\\ni\\r\\n\\r\\nbuster bear goes fishing\\r\\n\\r\\n\\r\\nbuster bear yawned as he lay on his comfortable bed of leaves and\\r\\nwatched the first early morning sunbeams creeping through the green\\r\\nforest to chase out the black shadows.', 'once more he yawned, and slowly\\r\\ngot to his feet and shook himself.', 'then he walked over to a big\\r\\npine-tree, stood up on his hind legs, reached as high up on the trunk of\\r\\nthe tree as he could, and scratched the bark with his great claws.', 'after\\r\\nthat he yawned until it seemed as if his jaws would crack, and then sat\\r\\ndown to think what he wanted for breakfast.', 'while he sat there, trying to make up his mind what would taste best, he\\r\\nwas listening to the sounds that told of the waking of all the little\\r\\npeople who live in the green forest.', 'he heard sammy jay way off in the\\r\\ndistance screaming, \"thief!', 'thief!\"', 'and grinned.', '\"i wonder,\" thought\\r\\nbuster, \"if some one has stolen sammy\\'s breakfast, or if he has stolen\\r\\nthe breakfast of some one else.', 'probably he is the thief himself.\"']\n"
     ]
    }
   ],
   "source": [
    "sents = nltk.sent_tokenize(burgess)\n",
    "print(sents[:10])"
   ]
  },
  {
   "cell_type": "code",
   "execution_count": 33,
   "metadata": {},
   "outputs": [
    {
     "data": {
      "text/plain": [
       "'[the adventures of buster bear by thornton w. burgess 1920]\\r\\n\\r\\ni\\r\\n\\r\\nbuster bear goes fishing\\r\\n\\r\\n\\r\\nbuster bear yawned as he lay on his comfortable bed of leaves and\\r\\nwatched the first early morning sunbeams creeping through the green\\r\\nforest to chase out the black shadows.'"
      ]
     },
     "execution_count": 33,
     "metadata": {},
     "output_type": "execute_result"
    }
   ],
   "source": [
    "sents[0]"
   ]
  },
  {
   "cell_type": "markdown",
   "metadata": {},
   "source": [
    "As you can see, the sentence tokenization basically works with ending punctuations such as periods and question marks. \n",
    "\n",
    "What if we want to remove the punctuations as well? In order to accomplish this, we can either come up with a list  unwanted punctuations or use a ready-to-use list in python."
   ]
  },
  {
   "cell_type": "code",
   "execution_count": 37,
   "metadata": {},
   "outputs": [],
   "source": [
    "import string\n",
    "\n",
    "def remove_punctuation(text):\n",
    "    text = \"\".join([word for word in text if word not in string.punctuation])\n",
    "    tokens = nltk.word_tokenize(text)\n",
    "    return tokens"
   ]
  },
  {
   "cell_type": "code",
   "execution_count": 38,
   "metadata": {},
   "outputs": [
    {
     "name": "stdout",
     "output_type": "stream",
     "text": [
      "['the', 'adventures', 'of', 'buster', 'bear', 'by', 'thornton', 'w', 'burgess', '1920', 'i', 'buster', 'bear', 'goes', 'fishing', 'buster', 'bear', 'yawned', 'as', 'he', 'lay', 'on', 'his', 'comfortable', 'bed', 'of', 'leaves', 'and', 'watched', 'the', 'first', 'early', 'morning', 'sunbeams', 'creeping', 'through', 'the', 'green', 'forest', 'to', 'chase', 'out', 'the', 'black', 'shadows', 'once', 'more', 'he', 'yawned', 'and', 'slowly', 'got', 'to', 'his', 'feet', 'and', 'shook', 'himself', 'then', 'he', 'walked', 'over', 'to', 'a', 'big', 'pinetree', 'stood', 'up', 'on', 'his', 'hind', 'legs', 'reached', 'as', 'high', 'up', 'on', 'the', 'trunk', 'of', 'the', 'tree', 'as', 'he', 'could', 'and', 'scratched', 'the', 'bark', 'with', 'his', 'great', 'claws', 'after', 'that', 'he', 'yawned', 'until', 'it', 'seemed']\n"
     ]
    }
   ],
   "source": [
    "print(remove_punctuation(burgess)[:100])"
   ]
  },
  {
   "cell_type": "markdown",
   "metadata": {},
   "source": [
    "### Stemming and Lemmatization"
   ]
  },
  {
   "cell_type": "markdown",
   "metadata": {},
   "source": [
    "For grammatical reasons, documents are going to use different forms of a word, such as organize, organizes, and organizing. \n",
    "\n",
    "Additionally, there are families of derivationally related words with similar meanings, such as democracy, democratic, and democratization. In many situations, it seems as if it would be useful for a search for one of these words to return documents that contain another word in the set.\n",
    "\n",
    "***Stemming*** usually refers to a crude heuristic process that chops off the ends of words in the hope of achieving this goal correctly most of the time, and often includes the removal of derivational affixes. (removing affixes from words and return the root word. Ex: The stem of the word working => work.)\n",
    "\n",
    "***Lemmatization*** usually refers to doing things properly with the use of a vocabulary and morphological analysis of words, normally aiming to remove inflectional endings only and to return the base or dictionary form of a word, which is known as the lemma . \n",
    "\n",
    "If confronted with the token saw, stemming might return just s, whereas lemmatization would attempt to return either see or saw depending on whether the use of the token was as a verb or a noun. The two may also differ in that stemming most commonly collapses derivationally related words, whereas lemmatization commonly only collapses the different inflectional forms of a lemma. \n",
    "\n",
    "The goal of both stemming and lemmatization is to reduce inflectional forms and sometimes derivationally related forms of a word to a common base form. As we can understand, both techniques could remove important information but also help us to normalize our corpus (although lemmatization is the one that is usually applied)\n",
    "\n",
    "There are many algorithms for stemming and most of them produce similar results. Here are the embedded stemming algorithms in NLTK:\n",
    "\n",
    "- nltk.stem.ISRIStemmer\n",
    "\n",
    "- nltk.stem.LancasterStemmer\n",
    "\n",
    "- nltk.stem.PorterStemmer\n",
    "\n",
    "- nltk.stem.RegexpStemmer\n",
    "\n",
    "- nltk.stem.RSLPStemmer\n",
    "\n",
    "- nltk.stem.SnowballStemmer"
   ]
  },
  {
   "cell_type": "code",
   "execution_count": 41,
   "metadata": {},
   "outputs": [
    {
     "name": "stdout",
     "output_type": "stream",
     "text": [
      "##### Porter Stemmer #####\n",
      "run\n",
      "runner\n",
      "decreas\n",
      "multiplying\n",
      "\n",
      "##### Lancaster Stemmer #####\n",
      "run\n",
      "run\n",
      "decreas\n",
      "multiplying\n",
      "\n",
      "##### Snowball Stemmer #####\n",
      "run\n",
      "runner\n",
      "decreas\n",
      "multiplying\n",
      "\n",
      "##### WordNet Lemmatizer #####\n",
      "running\n",
      "runner\n",
      "decrease\n",
      "multiplying\n",
      "\n"
     ]
    }
   ],
   "source": [
    "#-----PorterStemmer------\n",
    "stemmer = nltk.stem.PorterStemmer()\n",
    "print('##### Porter Stemmer #####')\n",
    "print (stemmer.stem('running'))\n",
    "print (stemmer.stem('runner'))\n",
    "print (stemmer.stem('decreases'))\n",
    "print (stemmer.stem('multiplying\\n'))\n",
    "\n",
    "#-----LancasterStemmer------\n",
    "stemmer = nltk.stem.LancasterStemmer()\n",
    "print('##### Lancaster Stemmer #####')\n",
    "print (stemmer.stem('running'))\n",
    "print (stemmer.stem('runner'))\n",
    "print (stemmer.stem('decreases'))\n",
    "print (stemmer.stem('multiplying\\n'))\n",
    "\n",
    "#-----SnowballStemmer------\n",
    "# we need to specify language to initiate this stemmer\n",
    "stemmer = nltk.stem.SnowballStemmer(\"english\") \n",
    "print('##### Snowball Stemmer #####')\n",
    "print (stemmer.stem(\"running\"))\n",
    "print (stemmer.stem('runner'))\n",
    "print (stemmer.stem('decreases'))\n",
    "print (stemmer.stem('multiplying\\n'))\n",
    "\n",
    "#-----WordNetLemmatizer------\n",
    "lemmatizer = nltk.stem.WordNetLemmatizer()\n",
    "print('##### WordNet Lemmatizer #####')\n",
    "print(lemmatizer.lemmatize('running'))\n",
    "print (lemmatizer.lemmatize('runner'))\n",
    "print(lemmatizer.lemmatize('decreases'))\n",
    "print(lemmatizer.lemmatize('multiplying\\n'))"
   ]
  },
  {
   "cell_type": "markdown",
   "metadata": {},
   "source": [
    "Stemming works on words without knowing its context and that’s why stemming has lower accuracy and faster than lemmatization. \n",
    "\n",
    "We can also specify the part-of-speech in lemmatization"
   ]
  },
  {
   "cell_type": "code",
   "execution_count": 42,
   "metadata": {},
   "outputs": [
    {
     "name": "stdout",
     "output_type": "stream",
     "text": [
      "play\n",
      "playing\n",
      "playing\n",
      "playing\n"
     ]
    }
   ],
   "source": [
    "print(lemmatizer.lemmatize('playing', pos=\"v\"))\n",
    "print(lemmatizer.lemmatize('playing', pos=\"n\"))\n",
    "print(lemmatizer.lemmatize('playing', pos=\"a\"))\n",
    "print(lemmatizer.lemmatize('playing', pos=\"r\"))"
   ]
  },
  {
   "cell_type": "markdown",
   "metadata": {},
   "source": [
    "### Part-of-Speech (POS) Tagging "
   ]
  },
  {
   "cell_type": "markdown",
   "metadata": {},
   "source": [
    "POS Tagging is used when we need to analysis the words in the sentence for grammar and their arrangement in a manner that shows the relationships among the words.\n",
    "\n",
    "Apart from the grammar relations, every word in a sentence is also associated with a part of speech (pos) tag (nouns, verbs, adjectives, adverbs etc). The pos tags defines the usage and function of a word in the sentence. \n",
    "\n",
    "Part of Speech tagging is highly useful in terms of word sense disambiguation. The meaning of certain words would change based on the context. "
   ]
  },
  {
   "cell_type": "code",
   "execution_count": 44,
   "metadata": {},
   "outputs": [
    {
     "name": "stdout",
     "output_type": "stream",
     "text": [
      "once more he yawned, and slowly\r\n",
      "got to his feet and shook himself.\n"
     ]
    },
    {
     "data": {
      "text/plain": [
       "[('once', 'RB'),\n",
       " ('more', 'RBR'),\n",
       " ('he', 'PRP'),\n",
       " ('yawned', 'VBD'),\n",
       " (',', ','),\n",
       " ('and', 'CC'),\n",
       " ('slowly', 'RB'),\n",
       " ('got', 'VBD'),\n",
       " ('to', 'TO'),\n",
       " ('his', 'PRP$'),\n",
       " ('feet', 'NNS'),\n",
       " ('and', 'CC'),\n",
       " ('shook', 'NN'),\n",
       " ('himself', 'PRP'),\n",
       " ('.', '.')]"
      ]
     },
     "execution_count": 44,
     "metadata": {},
     "output_type": "execute_result"
    }
   ],
   "source": [
    "sents = nltk.sent_tokenize(burgess)\n",
    "print (sents[1])\n",
    "tokens = nltk.word_tokenize(sents[1])\n",
    "nltk.pos_tag(tokens)"
   ]
  },
  {
   "cell_type": "markdown",
   "metadata": {},
   "source": [
    "Here are the meaning of POS tags:\n",
    "\n",
    "\n",
    "|Symbol| Explanation|Symbol| Explanation|\n",
    "|---|---|---|---|\n",
    "|CC | Coordinating conjunction | `PRP$` | Possessive pronoun |\n",
    "|CD | Cardinal number | RB | Adverb\n",
    "|DT | Determiner | RBR | Adverb, comparative |\n",
    "|EX | Existential there | RBS | Adverb, superlative |\n",
    "|FW | Foreign word | RP | Particle |\n",
    "|IN | Preposition or subordinating conjunction | SYM | Symbol |\n",
    "|JJ | Adjective |TO | to |\n",
    "|JJR | Adjective, comparative |UH | Interjection |\n",
    "|JJS | Adjective, superlative |VB | Verb, base form |\n",
    "|LS | List item marker |VBD | Verb, past tense |\n",
    "|MD | Modal |VBG | Verb, gerund or present participle |\n",
    "|NN | Noun, singular or mass |VBN | Verb, past participle |\n",
    "|NNS | Noun, plural |VBP | Verb, non-3rd person singular present |\n",
    "|NNP | Proper noun, singular |VBZ | Verb, 3rd person singular present |\n",
    "|NNPS | Proper noun, plural |WDT | Wh-determiner |\n",
    "|PDT | Predeterminer |WP | Wh-pronoun |\n",
    "|POS | Possessive ending |`WP$` | Possessive wh-pronoun |\n",
    "|PRP | Personal pronoun |WRB | Wh-adverb |"
   ]
  },
  {
   "cell_type": "markdown",
   "metadata": {},
   "source": [
    "### Named Entity Recognition (NER)"
   ]
  },
  {
   "cell_type": "markdown",
   "metadata": {},
   "source": [
    "In the real world, in our daily conversations we don’t work directly with the categories of words. For example, if we want to build a Netflix chatbot we want it to recognize both ‘Joker’ and ‘Batman’ as instances of the same group which we call ‘movies’ , but ‘Christopher Nolen’ as a ‘director’. This concept of semantic field dependent of a context is what we define as entity. The role of a named entity recognizer is to detect relevant entities in our corpus.\n",
    "The process of detecting the named entities such as person names, location names, company names etc from the text is called as NER. For example :\n",
    "\n",
    "Sentence: Bill, the CEO of Microsoft Inc. is living in USA.\n",
    "\n",
    "Named Entities –  ( “person” : “Bill” ), (“org” : “Microsoft Inc.”), (“location” : “USA”)"
   ]
  },
  {
   "cell_type": "markdown",
   "metadata": {},
   "source": [
    "***Commonly Used Types of Named Entity***\n",
    "\n",
    "ORGANIZATION\tGeorgia-Pacific Corp., WHO\n",
    "\n",
    "PERSON\tEddy Bonte, President Obama\n",
    "\n",
    "LOCATION\tMurray River, Mount Everest\n",
    "\n",
    "DATE\tJune, 2008-06-29\n",
    "\n",
    "TIME\ttwo fifty a m, 1:30 p.m.\n",
    "\n",
    "MONEY\t175 million Canadian Dollars, GBP 10.40\n",
    "\n",
    "PERCENT\ttwenty pct, 18.75 %\n",
    "\n",
    "FACILITY\tWashington Monument, Stonehenge\n",
    "\n",
    "GPE\t(Geo-Political Entity) South East Asia, Midlothian"
   ]
  },
  {
   "cell_type": "markdown",
   "metadata": {},
   "source": [
    "The architecture for a simple information extraction system begins by processing a document using several of the procedures: \n",
    "- Raw text of the document is split into sentences using a sentence segmenter\n",
    "- Each sentence is further subdivided into words using a tokenizer. \n",
    "- Each sentence is tagged with part-of-speech tags\n",
    "- Named entity detection. \n",
    "- Finally, we use relation detection to search for likely relations between different entities in the text.\n",
    "\n",
    "We should keep in mind that because models are statistical and strongly depend on the examples they were trained on, this doesn't always work perfectly and might need some tuning later, depending on your use case."
   ]
  },
  {
   "cell_type": "code",
   "execution_count": 47,
   "metadata": {},
   "outputs": [
    {
     "data": {
      "image/png": "[encoded data removed]",
      "text/plain": [
       "Tree('S', [Tree('PERSON', [('Bill', 'NNP')]), Tree('GPE', [('Gates', 'NNP')]), (',', ','), Tree('ORGANIZATION', [('CEO', 'NNP')]), ('of', 'IN'), Tree('ORGANIZATION', [('Microsoft', 'NNP'), ('Inc.', 'NNP')]), ('is', 'VBZ'), ('living', 'VBG'), ('in', 'IN'), Tree('GPE', [('California', 'NNP')]), ('.', '.')])"
      ]
     },
     "execution_count": 47,
     "metadata": {},
     "output_type": "execute_result"
    }
   ],
   "source": [
    "sentence = \"Bill Gates, CEO of Microsoft Inc. is living in California.\"\n",
    "\n",
    "tokens = nltk.word_tokenize(sentence)\n",
    "chunks = nltk.ne_chunk(nltk.pos_tag(tokens))\n",
    "chunks"
   ]
  },
  {
   "cell_type": "code",
   "execution_count": 48,
   "metadata": {},
   "outputs": [
    {
     "name": "stdout",
     "output_type": "stream",
     "text": [
      "(PERSON Bill/NNP)\n",
      "(GPE Gates/NNP)\n",
      "(',', ',')\n",
      "(ORGANIZATION CEO/NNP)\n",
      "('of', 'IN')\n",
      "(ORGANIZATION Microsoft/NNP Inc./NNP)\n",
      "('is', 'VBZ')\n",
      "('living', 'VBG')\n",
      "('in', 'IN')\n",
      "(GPE California/NNP)\n",
      "('.', '.')\n"
     ]
    }
   ],
   "source": [
    "for chunk in chunks:\n",
    "    print(chunk)"
   ]
  },
  {
   "cell_type": "code",
   "execution_count": 49,
   "metadata": {},
   "outputs": [
    {
     "name": "stdout",
     "output_type": "stream",
     "text": [
      "PERSON Bill\n",
      "GPE Gates\n",
      "ORGANIZATION CEO\n",
      "ORGANIZATION Microsoft Inc.\n",
      "GPE California\n"
     ]
    }
   ],
   "source": [
    "for chunk in chunks:\n",
    "    if hasattr(chunk, 'label'):\n",
    "        print(chunk.label(), ' '.join(c[0] for c in chunk))"
   ]
  },
  {
   "cell_type": "markdown",
   "metadata": {},
   "source": [
    "As you can realize, Bill is recognizd as name but CEO is recognized as organization. Since we used the simplest way of NER eembedded in NLTK, it's not strong enough to catch these kind of consecutive entities as a one. In practice, we generally use much stronger and efficient NER packages such as StandfordNERTagger, Spacy etc. "
   ]
  },
  {
   "cell_type": "markdown",
   "metadata": {},
   "source": [
    "## NLP Techniques and Algorithms\n",
    "\n",
    "### N-grams"
   ]
  },
  {
   "cell_type": "markdown",
   "metadata": {},
   "source": [
    "N-gram is a continuous sequence of n items from a given sequence of text or speech and N-grams of texts are extensively used in text mining and natural language processing tasks. In other words, n-grams are simply all combinations of adjacent words or letters of length n that you can find in your source text. If it's a one word gram, it's called unigram, bigram for two-word grams, trigram for three-word grams and so on. They are basically a set of co-occuring words within a given window and when computing the n-grams you typically move one word forward.\n",
    "\n",
    "N-grams are used for a variety of different task. For example, when developing a language model, n-grams are used to develop not just unigram models but also bigram and trigram models. Another simple purpose would be building a keyword sequesnces made of multiple words. One another use of n-grams, may be the most important one, is for developing features for supervised Machine Learning models such as SVMs, Naive Bayes, etc. The idea is to use tokens such as bigrams in the feature space instead of just unigrams."
   ]
  },
  {
   "cell_type": "code",
   "execution_count": 53,
   "metadata": {},
   "outputs": [
    {
     "name": "stdout",
     "output_type": "stream",
     "text": [
      "[('the', 'adventures'), ('adventures', 'of'), ('of', 'buster'), ('buster', 'bear'), ('bear', 'by'), ('by', 'thornton'), ('thornton', 'w'), ('w', 'burgess'), ('burgess', '1920'), ('1920', 'i'), ('i', 'buster'), ('buster', 'bear'), ('bear', 'goes'), ('goes', 'fishing'), ('fishing', 'buster'), ('buster', 'bear'), ('bear', 'yawned'), ('yawned', 'as'), ('as', 'he'), ('he', 'lay'), ('lay', 'on'), ('on', 'his'), ('his', 'comfortable'), ('comfortable', 'bed'), ('bed', 'of'), ('of', 'leaves'), ('leaves', 'and'), ('and', 'watched'), ('watched', 'the'), ('the', 'first'), ('first', 'early'), ('early', 'morning'), ('morning', 'sunbeams'), ('sunbeams', 'creeping'), ('creeping', 'through'), ('through', 'the'), ('the', 'green'), ('green', 'forest'), ('forest', 'to'), ('to', 'chase'), ('chase', 'out'), ('out', 'the'), ('the', 'black'), ('black', 'shadows'), ('shadows', 'once'), ('once', 'more'), ('more', 'he'), ('he', 'yawned'), ('yawned', 'and'), ('and', 'slowly')]\n"
     ]
    }
   ],
   "source": [
    "tokens = remove_punctuation(burgess)\n",
    "bigrams = nltk.bigrams(tokens)\n",
    "print(list(bigrams)[:50])"
   ]
  },
  {
   "cell_type": "code",
   "execution_count": 54,
   "metadata": {},
   "outputs": [
    {
     "name": "stdout",
     "output_type": "stream",
     "text": [
      "[('the', 'adventures', 'of'), ('adventures', 'of', 'buster'), ('of', 'buster', 'bear'), ('buster', 'bear', 'by'), ('bear', 'by', 'thornton'), ('by', 'thornton', 'w'), ('thornton', 'w', 'burgess'), ('w', 'burgess', '1920'), ('burgess', '1920', 'i'), ('1920', 'i', 'buster'), ('i', 'buster', 'bear'), ('buster', 'bear', 'goes'), ('bear', 'goes', 'fishing'), ('goes', 'fishing', 'buster'), ('fishing', 'buster', 'bear'), ('buster', 'bear', 'yawned'), ('bear', 'yawned', 'as'), ('yawned', 'as', 'he'), ('as', 'he', 'lay'), ('he', 'lay', 'on'), ('lay', 'on', 'his'), ('on', 'his', 'comfortable'), ('his', 'comfortable', 'bed'), ('comfortable', 'bed', 'of'), ('bed', 'of', 'leaves'), ('of', 'leaves', 'and'), ('leaves', 'and', 'watched'), ('and', 'watched', 'the'), ('watched', 'the', 'first'), ('the', 'first', 'early'), ('first', 'early', 'morning'), ('early', 'morning', 'sunbeams'), ('morning', 'sunbeams', 'creeping'), ('sunbeams', 'creeping', 'through'), ('creeping', 'through', 'the'), ('through', 'the', 'green'), ('the', 'green', 'forest'), ('green', 'forest', 'to'), ('forest', 'to', 'chase'), ('to', 'chase', 'out'), ('chase', 'out', 'the'), ('out', 'the', 'black'), ('the', 'black', 'shadows'), ('black', 'shadows', 'once'), ('shadows', 'once', 'more'), ('once', 'more', 'he'), ('more', 'he', 'yawned'), ('he', 'yawned', 'and'), ('yawned', 'and', 'slowly'), ('and', 'slowly', 'got')]\n"
     ]
    }
   ],
   "source": [
    "trigrams = nltk.trigrams(tokens)\n",
    "print(list(trigrams)[:50])"
   ]
  },
  {
   "cell_type": "markdown",
   "metadata": {},
   "source": [
    "For the ngrams larger than three, we can use another nltk function with the number of grams as a parameter."
   ]
  },
  {
   "cell_type": "code",
   "execution_count": 55,
   "metadata": {},
   "outputs": [
    {
     "name": "stdout",
     "output_type": "stream",
     "text": [
      "[('the', 'adventures', 'of', 'buster'), ('adventures', 'of', 'buster', 'bear'), ('of', 'buster', 'bear', 'by'), ('buster', 'bear', 'by', 'thornton'), ('bear', 'by', 'thornton', 'w'), ('by', 'thornton', 'w', 'burgess'), ('thornton', 'w', 'burgess', '1920'), ('w', 'burgess', '1920', 'i'), ('burgess', '1920', 'i', 'buster'), ('1920', 'i', 'buster', 'bear'), ('i', 'buster', 'bear', 'goes'), ('buster', 'bear', 'goes', 'fishing'), ('bear', 'goes', 'fishing', 'buster'), ('goes', 'fishing', 'buster', 'bear'), ('fishing', 'buster', 'bear', 'yawned'), ('buster', 'bear', 'yawned', 'as'), ('bear', 'yawned', 'as', 'he'), ('yawned', 'as', 'he', 'lay'), ('as', 'he', 'lay', 'on'), ('he', 'lay', 'on', 'his'), ('lay', 'on', 'his', 'comfortable'), ('on', 'his', 'comfortable', 'bed'), ('his', 'comfortable', 'bed', 'of'), ('comfortable', 'bed', 'of', 'leaves'), ('bed', 'of', 'leaves', 'and'), ('of', 'leaves', 'and', 'watched'), ('leaves', 'and', 'watched', 'the'), ('and', 'watched', 'the', 'first'), ('watched', 'the', 'first', 'early'), ('the', 'first', 'early', 'morning'), ('first', 'early', 'morning', 'sunbeams'), ('early', 'morning', 'sunbeams', 'creeping'), ('morning', 'sunbeams', 'creeping', 'through'), ('sunbeams', 'creeping', 'through', 'the'), ('creeping', 'through', 'the', 'green'), ('through', 'the', 'green', 'forest'), ('the', 'green', 'forest', 'to'), ('green', 'forest', 'to', 'chase'), ('forest', 'to', 'chase', 'out'), ('to', 'chase', 'out', 'the'), ('chase', 'out', 'the', 'black'), ('out', 'the', 'black', 'shadows'), ('the', 'black', 'shadows', 'once'), ('black', 'shadows', 'once', 'more'), ('shadows', 'once', 'more', 'he'), ('once', 'more', 'he', 'yawned'), ('more', 'he', 'yawned', 'and'), ('he', 'yawned', 'and', 'slowly'), ('yawned', 'and', 'slowly', 'got'), ('and', 'slowly', 'got', 'to')]\n"
     ]
    }
   ],
   "source": [
    "fourgrams = nltk.ngrams(tokens, 4)\n",
    "print(list(fourgrams)[:50])"
   ]
  },
  {
   "cell_type": "markdown",
   "metadata": {},
   "source": [
    "### Bag of Words - Term Frequency"
   ]
  },
  {
   "cell_type": "markdown",
   "metadata": {},
   "source": [
    "A problem with modeling text is that it is messy, and techniques like machine learning algorithms prefer well defined fixed-length inputs and outputs. Machine learning algorithms cannot work with raw text directly; so the text must be converted into numbers. Specifically, vectors of numbers. If we want to use text in machine learning algorithms, we’ll have to convert them to a numerical representation. One of the methods is called bag-of-words approach.\n",
    "\n",
    "The bag of words model , or BoW for short, is a way of extracting features from text for use in modeling and it ignores grammar and order of words. Once we have a corpus (text data) then first, a list of vocabulary is created based on the entire corpus. Then each document or data entry is represented as numerical vectors based on the vocabulary built from the corpora."
   ]
  },
  {
   "cell_type": "code",
   "execution_count": 57,
   "metadata": {},
   "outputs": [
    {
     "name": "stdout",
     "output_type": "stream",
     "text": [
      "['working', 'Data', 'statistics', 'as', 'studying', 'I', 'AI', 'love', 'Scientist']\n"
     ]
    }
   ],
   "source": [
    "sentence_1 = \"I love studying AI\"\n",
    "sentence_2 = \"I love studying statistics\"\n",
    "sentence_3 = \"I love working as Data Scientist\"\n",
    "\n",
    "# so, lets respresent this in a numerical way\n",
    "# We'll at first combine all these sentences and then tokenize and get distinct tokens.\n",
    "# we basically combine the sentences with spaces between them.\n",
    "text = \" \".join([sentence_1, sentence_2, sentence_3])\n",
    "\n",
    "# now we tokenize and get the distinct tokens as a list by using set() function.\n",
    "tokens = list(set(nltk.word_tokenize(text)))\n",
    "print(tokens)"
   ]
  },
  {
   "cell_type": "markdown",
   "metadata": {},
   "source": [
    "The length of the numerical representation of sentences (numerical vector) will be the length of this list. Since we have six distinct words, we'll represent each sentence with 6 digits. To numerically represent each sentence, let's assign 1 to each occurence of words above. So, if a word form th tokenized list is inside the sentence, it's 1; if it's not, it's 0. Beware that we are not dealing with the order of words inside the sentence.\n",
    "\n",
    "['working', 'Data', 'statistics', 'as', 'studying', 'I', 'AI', 'love', 'Scientist']\n",
    "\n",
    "By looking at the reference list, we can represent sentence_1 (\"I love studying AI\") as below:  \n",
    "So, the numerical representation of sentence_1 is: `[0, 0, 0, 0, 1, 1, 1, 1, 0]`\n",
    "\n",
    "Simply said, a bag-of-words is a representation of text that describes the occurrence of words within a document. That is, each document or data entry is represented as numerical vectors based on the vocabulary built from the corpora. The intuition is that documents are similar if they have similar content. \n",
    "\n",
    "It is called a “bag” of words, because any information about the order or structure of words in the document is discarded. The model is only concerned with whether known words occur in the document, not where in the document.\n",
    "\n",
    "As you can see, while working with large texts, there will be multiple occurences for some words. And we need to repreesent this as well. Here comes term frequency. "
   ]
  },
  {
   "cell_type": "markdown",
   "metadata": {},
   "source": [
    "#### Count Vectorizer \n",
    "\n",
    "With count vectorizer, we count the appearance of the words in each text. Using the fit method, our Count Vectorizer will “learn” what tokens are being used in our sentences inside the corpus. That is, we at first train our Count Vectorizer model with the training set and then let the model learn the tokens. Then, whenever we throw a new sentence to this model, our Count Vectorizer model will show use the matrix representation of that sentence."
   ]
  },
  {
   "cell_type": "code",
   "execution_count": 124,
   "metadata": {},
   "outputs": [],
   "source": [
    "from sklearn.feature_extraction.text import CountVectorizer\n",
    "vect = CountVectorizer()"
   ]
  },
  {
   "cell_type": "code",
   "execution_count": 76,
   "metadata": {},
   "outputs": [],
   "source": [
    "ss = \"bear by thornton w burgess 1920\\r\\n\\r\\ni\\r\\n\\r\\nbuster bear goes fishing\\r\\n\\r\\n\\r\\nbuster\\n\""
   ]
  },
  {
   "cell_type": "code",
   "execution_count": 77,
   "metadata": {},
   "outputs": [
    {
     "data": {
      "text/plain": [
       "'bear by thornton w burgess 1920 i buster bear goes fishing buster\\n'"
      ]
     },
     "execution_count": 77,
     "metadata": {},
     "output_type": "execute_result"
    }
   ],
   "source": [
    "pattern = re.compile('(\\r\\n)+')\n",
    "pattern2 = re.compile('\\n+')\n",
    "re.sub(pattern, ' ', ss)"
   ]
  },
  {
   "cell_type": "code",
   "execution_count": 79,
   "metadata": {},
   "outputs": [
    {
     "data": {
      "text/plain": [
       "'bear by thornton w burgess 1920 i buster bear goes fishing buster'"
      ]
     },
     "execution_count": 79,
     "metadata": {},
     "output_type": "execute_result"
    }
   ],
   "source": [
    "ss = re.sub(pattern, ' ', ss)\n",
    "re.sub(pattern2, '', ss)"
   ]
  },
  {
   "cell_type": "code",
   "execution_count": 121,
   "metadata": {},
   "outputs": [
    {
     "data": {
      "text/plain": [
       "['adventures buster bear thornton w. burgess 1920 buster bear goes fishing buster bear yawned lay comfortable bed leaves watched first early morning sunbeams creeping green forest chase black shadows',\n",
       " 'yawned slowly got feet shook',\n",
       " 'walked big pine-tree stood hind legs reached high trunk tree could scratched bark great claws',\n",
       " 'yawned seemed jaws would crack sat think wanted breakfast',\n",
       " 'sat trying make mind would taste best listening sounds told waking little people live green forest']"
      ]
     },
     "execution_count": 121,
     "metadata": {},
     "output_type": "execute_result"
    }
   ],
   "source": [
    "pattern = re.compile('(\\r\\n)+')  # Windows new line \n",
    "clean_text = re.sub(pattern, ' ', burgess)\n",
    "clean_sent = nltk.sent_tokenize(clean_text)\n",
    "\n",
    "# Now remove the punctuation and stopwords from each sentence\n",
    "clean_corpus = []\n",
    "for sent in clean_sent:\n",
    "    words = nltk.word_tokenize(sent)\n",
    "    remove_punc = [word for word in words if word not in string.punctuation]\n",
    "    clean_corpus.append(' '.join([word for word in remove_punc if not word in stop_words]))\n",
    "\n",
    "clean_corpus[:5]"
   ]
  },
  {
   "cell_type": "code",
   "execution_count": 125,
   "metadata": {},
   "outputs": [
    {
     "data": {
      "text/plain": [
       "CountVectorizer(analyzer='word', binary=False, decode_error='strict',\n",
       "        dtype=<class 'numpy.int64'>, encoding='utf-8', input='content',\n",
       "        lowercase=True, max_df=1.0, max_features=None, min_df=1,\n",
       "        ngram_range=(1, 1), preprocessor=None, stop_words=None,\n",
       "        strip_accents=None, token_pattern='(?u)\\\\b\\\\w\\\\w+\\\\b',\n",
       "        tokenizer=None, vocabulary=None)"
      ]
     },
     "execution_count": 125,
     "metadata": {},
     "output_type": "execute_result"
    }
   ],
   "source": [
    "vect.fit(clean_corpus)"
   ]
  },
  {
   "cell_type": "code",
   "execution_count": 126,
   "metadata": {
    "scrolled": true
   },
   "outputs": [
    {
     "name": "stdout",
     "output_type": "stream",
     "text": [
      "['112', '1920', '26', '45', '_71_', '_could_', '_had_', '_has_', '_him_', '_his_', '_i', '_our_', '_page', '_their_', '_was_', 'ability', 'able', 'accept', 'according', 'acquainted', 'across', 'actually', 'admit', 'admitted', 'adventures', 'advice', 'advised', 'afraid', 'afterward', 'age', 'ago', 'agreed', 'ah', 'air', 'almost', 'alone', 'along', 'already', 'also', 'although', 'altogether', 'always', 'among', 'amounted', 'anger', 'angrier', 'angrily', 'angry', 'another', 'anybody']\n"
     ]
    }
   ],
   "source": [
    "print(vect.get_feature_names()[:50])"
   ]
  },
  {
   "cell_type": "code",
   "execution_count": 127,
   "metadata": {},
   "outputs": [],
   "source": [
    "matrix = vect.transform(clean_corpus)"
   ]
  },
  {
   "cell_type": "code",
   "execution_count": 129,
   "metadata": {},
   "outputs": [
    {
     "data": {
      "text/html": [
       "<div>\n",
       "<style scoped>\n",
       "    .dataframe tbody tr th:only-of-type {\n",
       "        vertical-align: middle;\n",
       "    }\n",
       "\n",
       "    .dataframe tbody tr th {\n",
       "        vertical-align: top;\n",
       "    }\n",
       "\n",
       "    .dataframe thead th {\n",
       "        text-align: right;\n",
       "    }\n",
       "</style>\n",
       "<table border=\"1\" class=\"dataframe\">\n",
       "  <thead>\n",
       "    <tr style=\"text-align: right;\">\n",
       "      <th></th>\n",
       "      <th>112</th>\n",
       "      <th>1920</th>\n",
       "      <th>26</th>\n",
       "      <th>45</th>\n",
       "      <th>_71_</th>\n",
       "      <th>_could_</th>\n",
       "      <th>_had_</th>\n",
       "      <th>_has_</th>\n",
       "      <th>_him_</th>\n",
       "      <th>_his_</th>\n",
       "      <th>...</th>\n",
       "      <th>year</th>\n",
       "      <th>years</th>\n",
       "      <th>yell</th>\n",
       "      <th>yelled</th>\n",
       "      <th>yelling</th>\n",
       "      <th>yes</th>\n",
       "      <th>yesterday</th>\n",
       "      <th>yet</th>\n",
       "      <th>yo</th>\n",
       "      <th>young</th>\n",
       "    </tr>\n",
       "  </thead>\n",
       "  <tbody>\n",
       "    <tr>\n",
       "      <th>0</th>\n",
       "      <td>0</td>\n",
       "      <td>1</td>\n",
       "      <td>0</td>\n",
       "      <td>0</td>\n",
       "      <td>0</td>\n",
       "      <td>0</td>\n",
       "      <td>0</td>\n",
       "      <td>0</td>\n",
       "      <td>0</td>\n",
       "      <td>0</td>\n",
       "      <td>...</td>\n",
       "      <td>0</td>\n",
       "      <td>0</td>\n",
       "      <td>0</td>\n",
       "      <td>0</td>\n",
       "      <td>0</td>\n",
       "      <td>0</td>\n",
       "      <td>0</td>\n",
       "      <td>0</td>\n",
       "      <td>0</td>\n",
       "      <td>0</td>\n",
       "    </tr>\n",
       "    <tr>\n",
       "      <th>1</th>\n",
       "      <td>0</td>\n",
       "      <td>0</td>\n",
       "      <td>0</td>\n",
       "      <td>0</td>\n",
       "      <td>0</td>\n",
       "      <td>0</td>\n",
       "      <td>0</td>\n",
       "      <td>0</td>\n",
       "      <td>0</td>\n",
       "      <td>0</td>\n",
       "      <td>...</td>\n",
       "      <td>0</td>\n",
       "      <td>0</td>\n",
       "      <td>0</td>\n",
       "      <td>0</td>\n",
       "      <td>0</td>\n",
       "      <td>0</td>\n",
       "      <td>0</td>\n",
       "      <td>0</td>\n",
       "      <td>0</td>\n",
       "      <td>0</td>\n",
       "    </tr>\n",
       "    <tr>\n",
       "      <th>2</th>\n",
       "      <td>0</td>\n",
       "      <td>0</td>\n",
       "      <td>0</td>\n",
       "      <td>0</td>\n",
       "      <td>0</td>\n",
       "      <td>0</td>\n",
       "      <td>0</td>\n",
       "      <td>0</td>\n",
       "      <td>0</td>\n",
       "      <td>0</td>\n",
       "      <td>...</td>\n",
       "      <td>0</td>\n",
       "      <td>0</td>\n",
       "      <td>0</td>\n",
       "      <td>0</td>\n",
       "      <td>0</td>\n",
       "      <td>0</td>\n",
       "      <td>0</td>\n",
       "      <td>0</td>\n",
       "      <td>0</td>\n",
       "      <td>0</td>\n",
       "    </tr>\n",
       "    <tr>\n",
       "      <th>3</th>\n",
       "      <td>0</td>\n",
       "      <td>0</td>\n",
       "      <td>0</td>\n",
       "      <td>0</td>\n",
       "      <td>0</td>\n",
       "      <td>0</td>\n",
       "      <td>0</td>\n",
       "      <td>0</td>\n",
       "      <td>0</td>\n",
       "      <td>0</td>\n",
       "      <td>...</td>\n",
       "      <td>0</td>\n",
       "      <td>0</td>\n",
       "      <td>0</td>\n",
       "      <td>0</td>\n",
       "      <td>0</td>\n",
       "      <td>0</td>\n",
       "      <td>0</td>\n",
       "      <td>0</td>\n",
       "      <td>0</td>\n",
       "      <td>0</td>\n",
       "    </tr>\n",
       "    <tr>\n",
       "      <th>4</th>\n",
       "      <td>0</td>\n",
       "      <td>0</td>\n",
       "      <td>0</td>\n",
       "      <td>0</td>\n",
       "      <td>0</td>\n",
       "      <td>0</td>\n",
       "      <td>0</td>\n",
       "      <td>0</td>\n",
       "      <td>0</td>\n",
       "      <td>0</td>\n",
       "      <td>...</td>\n",
       "      <td>0</td>\n",
       "      <td>0</td>\n",
       "      <td>0</td>\n",
       "      <td>0</td>\n",
       "      <td>0</td>\n",
       "      <td>0</td>\n",
       "      <td>0</td>\n",
       "      <td>0</td>\n",
       "      <td>0</td>\n",
       "      <td>0</td>\n",
       "    </tr>\n",
       "  </tbody>\n",
       "</table>\n",
       "<p>5 rows × 1397 columns</p>\n",
       "</div>"
      ],
      "text/plain": [
       "   112  1920  26  45  _71_  _could_  _had_  _has_  _him_  _his_  ...    year  \\\n",
       "0    0     1   0   0     0        0      0      0      0      0  ...       0   \n",
       "1    0     0   0   0     0        0      0      0      0      0  ...       0   \n",
       "2    0     0   0   0     0        0      0      0      0      0  ...       0   \n",
       "3    0     0   0   0     0        0      0      0      0      0  ...       0   \n",
       "4    0     0   0   0     0        0      0      0      0      0  ...       0   \n",
       "\n",
       "   years  yell  yelled  yelling  yes  yesterday  yet  yo  young  \n",
       "0      0     0       0        0    0          0    0   0      0  \n",
       "1      0     0       0        0    0          0    0   0      0  \n",
       "2      0     0       0        0    0          0    0   0      0  \n",
       "3      0     0       0        0    0          0    0   0      0  \n",
       "4      0     0       0        0    0          0    0   0      0  \n",
       "\n",
       "[5 rows x 1397 columns]"
      ]
     },
     "execution_count": 129,
     "metadata": {},
     "output_type": "execute_result"
    }
   ],
   "source": [
    "# Let's convert this to pandas dataframe(a dense matrix version) for better intuition.\n",
    "import pandas as pd\n",
    "cv_df = pd.DataFrame(matrix.toarray(), columns=vect.get_feature_names())\n",
    "cv_df.head()"
   ]
  },
  {
   "cell_type": "markdown",
   "metadata": {},
   "source": [
    "As you can see, we now have all the frequencies of each token inside a sentence. \n",
    "\n",
    "We have 1397 different features (number of columns in dataframe) created from all of our sentences. This means each row will mostly be filled with zeros. In order to save space/computational power a sparse matrix is created. This means that only the location and value of non-zero values is saved. Since we're transforming the same sentences into a model fitted from those sentences, this is not an issue at the moment. But when we try to find a matrix representation of another sentence other than we already have, it's quite possible that many of thee features (tokens) will not be in the next sentence and all column would be zero. So the idea behind the sparse matrix is to save some space because of that issue.\n",
    "\n",
    "However, if we'd like to feed a new sentence into this model and try to get matrix representation, we may have an issue though. Since our model is fitted on the sentences we already have, if a new sentence doesn't have a token that could be recognized by our model, that token wouldn't be represented. In this situation we simply neeed to include append our new message to our original collection and then refit and transform to make sure we don’t lose this information. "
   ]
  },
  {
   "cell_type": "markdown",
   "metadata": {},
   "source": [
    "#### TfidfVectorizer (Term Frequency – Inverse Document Frequency)"
   ]
  },
  {
   "cell_type": "markdown",
   "metadata": {},
   "source": [
    "A problem with scoring word frequency is that highly frequent words start to dominate in the document (larger score), but may not contain as much “informational content” to the model as rarer but perhaps domain specific words. One approach is to rescale the frequency of words by how often they appear in all documents, so that the scores for frequent words like “the” that are also frequent across all documents are penalized. This approach to scoring is called Term Frequency – Inverse Document Frequency, or TF-IDF for short, where:\n",
    "\n",
    "Term Frequency: is a scoring of the frequency of the word in the current document.\n",
    "Inverse Document Frequency: is a scoring of how rare the word is across documents.\n",
    "\n",
    "The scores are a weighting where not all words are equally as important or interesting. The scores have the effect of highlighting words that are distinct (contain useful information) in a given document. Just like CountVectorizer, TfidfVectorizer also creates a document term matrix (DTM) from our messages. However, instead of filling the DTM with token counts it calculates term frequency-inverse document frequency value for each word(TF-IDF). The TF-IDF is the product of two weights, the term frequency and the inverse document frequency.\n",
    "\n",
    "To generalize: TF-IDF = term frequency * (1 / document frequency)\n",
    "\n",
    "Or: TF-IDF = term frequency * inverse document frequency\n",
    "\n",
    "Term frequency is a weight representing how often a word occurs in a document. If we have several occurences of the same word in one document we can expect the TF-IDF to increase. Inverse document frequency is another weight representing how common a word is across documents. If a word is used in many documents then the TF-IDF will decrease. With the definition out of the way we’ll go through a few examples to see how it works. Since the usage is pretty much identical to CountVectorizer and we’ll be going through a few examples we’ll make a function to create a DTM from our messages to make things a bit easier and clearer."
   ]
  },
  {
   "cell_type": "code",
   "execution_count": 130,
   "metadata": {},
   "outputs": [
    {
     "name": "stdout",
     "output_type": "stream",
     "text": [
      "['112', '1920', '26', '45', '_71_', '_could_', '_had_', '_has_', '_him_', '_his_', '_i', '_our_', '_page', '_their_', '_was_', 'ability', 'able', 'accept', 'according', 'acquainted', 'across', 'actually', 'admit', 'admitted', 'adventures', 'advice', 'advised', 'afraid', 'afterward', 'age', 'ago', 'agreed', 'ah', 'air', 'almost', 'alone', 'along', 'already', 'also', 'although', 'altogether', 'always', 'among', 'amounted', 'anger', 'angrier', 'angrily', 'angry', 'another', 'anybody']\n"
     ]
    }
   ],
   "source": [
    "from sklearn.feature_extraction.text import TfidfVectorizer\n",
    "\n",
    "vect = TfidfVectorizer()\n",
    "vect.fit(clean_corpus)\n",
    "print(vect.get_feature_names()[:50])"
   ]
  },
  {
   "cell_type": "code",
   "execution_count": 131,
   "metadata": {},
   "outputs": [
    {
     "data": {
      "text/html": [
       "<div>\n",
       "<style scoped>\n",
       "    .dataframe tbody tr th:only-of-type {\n",
       "        vertical-align: middle;\n",
       "    }\n",
       "\n",
       "    .dataframe tbody tr th {\n",
       "        vertical-align: top;\n",
       "    }\n",
       "\n",
       "    .dataframe thead th {\n",
       "        text-align: right;\n",
       "    }\n",
       "</style>\n",
       "<table border=\"1\" class=\"dataframe\">\n",
       "  <thead>\n",
       "    <tr style=\"text-align: right;\">\n",
       "      <th></th>\n",
       "      <th>112</th>\n",
       "      <th>1920</th>\n",
       "      <th>26</th>\n",
       "      <th>45</th>\n",
       "      <th>_71_</th>\n",
       "      <th>_could_</th>\n",
       "      <th>_had_</th>\n",
       "      <th>_has_</th>\n",
       "      <th>_him_</th>\n",
       "      <th>_his_</th>\n",
       "      <th>...</th>\n",
       "      <th>year</th>\n",
       "      <th>years</th>\n",
       "      <th>yell</th>\n",
       "      <th>yelled</th>\n",
       "      <th>yelling</th>\n",
       "      <th>yes</th>\n",
       "      <th>yesterday</th>\n",
       "      <th>yet</th>\n",
       "      <th>yo</th>\n",
       "      <th>young</th>\n",
       "    </tr>\n",
       "  </thead>\n",
       "  <tbody>\n",
       "    <tr>\n",
       "      <th>0</th>\n",
       "      <td>0.0</td>\n",
       "      <td>0.228444</td>\n",
       "      <td>0.0</td>\n",
       "      <td>0.0</td>\n",
       "      <td>0.0</td>\n",
       "      <td>0.0</td>\n",
       "      <td>0.0</td>\n",
       "      <td>0.0</td>\n",
       "      <td>0.0</td>\n",
       "      <td>0.0</td>\n",
       "      <td>...</td>\n",
       "      <td>0.0</td>\n",
       "      <td>0.0</td>\n",
       "      <td>0.0</td>\n",
       "      <td>0.0</td>\n",
       "      <td>0.0</td>\n",
       "      <td>0.0</td>\n",
       "      <td>0.0</td>\n",
       "      <td>0.0</td>\n",
       "      <td>0.0</td>\n",
       "      <td>0.0</td>\n",
       "    </tr>\n",
       "    <tr>\n",
       "      <th>1</th>\n",
       "      <td>0.0</td>\n",
       "      <td>0.000000</td>\n",
       "      <td>0.0</td>\n",
       "      <td>0.0</td>\n",
       "      <td>0.0</td>\n",
       "      <td>0.0</td>\n",
       "      <td>0.0</td>\n",
       "      <td>0.0</td>\n",
       "      <td>0.0</td>\n",
       "      <td>0.0</td>\n",
       "      <td>...</td>\n",
       "      <td>0.0</td>\n",
       "      <td>0.0</td>\n",
       "      <td>0.0</td>\n",
       "      <td>0.0</td>\n",
       "      <td>0.0</td>\n",
       "      <td>0.0</td>\n",
       "      <td>0.0</td>\n",
       "      <td>0.0</td>\n",
       "      <td>0.0</td>\n",
       "      <td>0.0</td>\n",
       "    </tr>\n",
       "    <tr>\n",
       "      <th>2</th>\n",
       "      <td>0.0</td>\n",
       "      <td>0.000000</td>\n",
       "      <td>0.0</td>\n",
       "      <td>0.0</td>\n",
       "      <td>0.0</td>\n",
       "      <td>0.0</td>\n",
       "      <td>0.0</td>\n",
       "      <td>0.0</td>\n",
       "      <td>0.0</td>\n",
       "      <td>0.0</td>\n",
       "      <td>...</td>\n",
       "      <td>0.0</td>\n",
       "      <td>0.0</td>\n",
       "      <td>0.0</td>\n",
       "      <td>0.0</td>\n",
       "      <td>0.0</td>\n",
       "      <td>0.0</td>\n",
       "      <td>0.0</td>\n",
       "      <td>0.0</td>\n",
       "      <td>0.0</td>\n",
       "      <td>0.0</td>\n",
       "    </tr>\n",
       "    <tr>\n",
       "      <th>3</th>\n",
       "      <td>0.0</td>\n",
       "      <td>0.000000</td>\n",
       "      <td>0.0</td>\n",
       "      <td>0.0</td>\n",
       "      <td>0.0</td>\n",
       "      <td>0.0</td>\n",
       "      <td>0.0</td>\n",
       "      <td>0.0</td>\n",
       "      <td>0.0</td>\n",
       "      <td>0.0</td>\n",
       "      <td>...</td>\n",
       "      <td>0.0</td>\n",
       "      <td>0.0</td>\n",
       "      <td>0.0</td>\n",
       "      <td>0.0</td>\n",
       "      <td>0.0</td>\n",
       "      <td>0.0</td>\n",
       "      <td>0.0</td>\n",
       "      <td>0.0</td>\n",
       "      <td>0.0</td>\n",
       "      <td>0.0</td>\n",
       "    </tr>\n",
       "    <tr>\n",
       "      <th>4</th>\n",
       "      <td>0.0</td>\n",
       "      <td>0.000000</td>\n",
       "      <td>0.0</td>\n",
       "      <td>0.0</td>\n",
       "      <td>0.0</td>\n",
       "      <td>0.0</td>\n",
       "      <td>0.0</td>\n",
       "      <td>0.0</td>\n",
       "      <td>0.0</td>\n",
       "      <td>0.0</td>\n",
       "      <td>...</td>\n",
       "      <td>0.0</td>\n",
       "      <td>0.0</td>\n",
       "      <td>0.0</td>\n",
       "      <td>0.0</td>\n",
       "      <td>0.0</td>\n",
       "      <td>0.0</td>\n",
       "      <td>0.0</td>\n",
       "      <td>0.0</td>\n",
       "      <td>0.0</td>\n",
       "      <td>0.0</td>\n",
       "    </tr>\n",
       "  </tbody>\n",
       "</table>\n",
       "<p>5 rows × 1397 columns</p>\n",
       "</div>"
      ],
      "text/plain": [
       "   112      1920   26   45  _71_  _could_  _had_  _has_  _him_  _his_  ...    \\\n",
       "0  0.0  0.228444  0.0  0.0   0.0      0.0    0.0    0.0    0.0    0.0  ...     \n",
       "1  0.0  0.000000  0.0  0.0   0.0      0.0    0.0    0.0    0.0    0.0  ...     \n",
       "2  0.0  0.000000  0.0  0.0   0.0      0.0    0.0    0.0    0.0    0.0  ...     \n",
       "3  0.0  0.000000  0.0  0.0   0.0      0.0    0.0    0.0    0.0    0.0  ...     \n",
       "4  0.0  0.000000  0.0  0.0   0.0      0.0    0.0    0.0    0.0    0.0  ...     \n",
       "\n",
       "   year  years  yell  yelled  yelling  yes  yesterday  yet   yo  young  \n",
       "0   0.0    0.0   0.0     0.0      0.0  0.0        0.0  0.0  0.0    0.0  \n",
       "1   0.0    0.0   0.0     0.0      0.0  0.0        0.0  0.0  0.0    0.0  \n",
       "2   0.0    0.0   0.0     0.0      0.0  0.0        0.0  0.0  0.0    0.0  \n",
       "3   0.0    0.0   0.0     0.0      0.0  0.0        0.0  0.0  0.0    0.0  \n",
       "4   0.0    0.0   0.0     0.0      0.0  0.0        0.0  0.0  0.0    0.0  \n",
       "\n",
       "[5 rows x 1397 columns]"
      ]
     },
     "execution_count": 131,
     "metadata": {},
     "output_type": "execute_result"
    }
   ],
   "source": [
    "matrix = vect.transform(clean_corpus)\n",
    "tf_df = pd.DataFrame(matrix.toarray(), columns=vect.get_feature_names())\n",
    "tf_df.head()"
   ]
  },
  {
   "cell_type": "code",
   "execution_count": 132,
   "metadata": {
    "scrolled": true
   },
   "outputs": [
    {
     "data": {
      "text/plain": [
       "bear           0.279688\n",
       "buster         0.244090\n",
       "thornton       0.228444\n",
       "1920           0.228444\n",
       "shadows        0.228444\n",
       "chase          0.228444\n",
       "creeping       0.228444\n",
       "burgess        0.228444\n",
       "comfortable    0.228444\n",
       "black          0.215604\n",
       "Name: 0, dtype: float64"
      ]
     },
     "execution_count": 132,
     "metadata": {},
     "output_type": "execute_result"
    }
   ],
   "source": [
    "# Now look at the first sentence by sorting the tfidf scores in a decreasing order\n",
    "tf_df.iloc[0].sort_values(ascending=False).head(10)"
   ]
  },
  {
   "cell_type": "markdown",
   "metadata": {},
   "source": [
    "### Let's apply these NLP procedures with Spacy package"
   ]
  },
  {
   "cell_type": "markdown",
   "metadata": {},
   "source": [
    "Applying all these processes with Spacy package is quite easy and straightforward. We should decide which package to use by checking the accuracy or any other metrics that we want to deal with. We at first import Spacy package and load \"English\" parser. Then we dump any text into this parser and Spacy will apply various preprocssing mthods as default. All we need to do is to usee relevant functions to extract what we wamt such as tokens, lemmas, pos etc."
   ]
  },
  {
   "cell_type": "code",
   "execution_count": 238,
   "metadata": {
    "scrolled": true
   },
   "outputs": [
    {
     "name": "stdout",
     "output_type": "stream",
     "text": [
      "galaxies\n",
      "recede\n",
      "from\n",
      "us\n",
      "at\n",
      "speeds\n",
      "proportional\n",
      "to\n",
      "their\n",
      "distances\n",
      ",\n",
      "going\n",
      "faster\n",
      "the\n",
      "farther\n",
      "away\n",
      "they\n",
      "are\n",
      ".\n"
     ]
    }
   ],
   "source": [
    "import spacy\n",
    "\n",
    "en = spacy.load('en')\n",
    "doc = en('galaxies recede from us at speeds proportional to their distances, going faster the farther away they are.')\n",
    "\n",
    "# now text is parsed by nearly all the basic NLP techniques and we are ready to extract what we need.\n",
    "# tokenization \n",
    "for token in doc:\n",
    "    print(token.text)"
   ]
  },
  {
   "cell_type": "markdown",
   "metadata": {},
   "source": [
    "**Lemmatization and POS**\n",
    "\n",
    "- **text**: The original word text.\n",
    "- **lemma**: The base form of the word.\n",
    "- **pos**: The simple part-of-speech tag.\n",
    "- **tag**: The detailed part-of-speech tag.\n",
    "- **dep**: Syntactic dependency, i.e. the relation between tokens.\n",
    "- **shape**: The word shape – capitalisation, punctuation, digits.\n",
    "- **is_alpha**: Is the token an alpha character?\n",
    "- **is_stop**: Is the token part of a stop list, i.e. the most common words of the language?"
   ]
  },
  {
   "cell_type": "code",
   "execution_count": 209,
   "metadata": {},
   "outputs": [
    {
     "name": "stdout",
     "output_type": "stream",
     "text": [
      "galaxies==>galaxy==>NOUN==>NNS==>nsubj==>xxxx==>True==>False\n",
      "recede==>recede==>VERB==>VBP==>ROOT==>xxxx==>True==>False\n",
      "from==>from==>ADP==>IN==>prep==>xxxx==>True==>True\n",
      "us==>-PRON-==>PRON==>PRP==>pobj==>xx==>True==>True\n",
      "at==>at==>ADP==>IN==>prep==>xx==>True==>True\n",
      "speeds==>speed==>NOUN==>NNS==>compound==>xxxx==>True==>False\n",
      "proportional==>proportional==>ADJ==>JJ==>pobj==>xxxx==>True==>False\n",
      "to==>to==>ADP==>IN==>prep==>xx==>True==>True\n",
      "their==>-PRON-==>ADJ==>PRP$==>poss==>xxxx==>True==>True\n",
      "distances==>distance==>NOUN==>NNS==>pobj==>xxxx==>True==>False\n",
      ",==>,==>PUNCT==>,==>punct==>,==>False==>False\n",
      "going==>go==>VERB==>VBG==>advcl==>xxxx==>True==>False\n",
      "faster==>fast==>ADV==>RBR==>advmod==>xxxx==>True==>False\n",
      "the==>the==>DET==>DT==>det==>xxx==>True==>True\n",
      "farther==>far==>ADV==>RB==>advmod==>xxxx==>True==>False\n",
      "away==>away==>ADV==>RB==>advmod==>xxxx==>True==>False\n",
      "they==>-PRON-==>PRON==>PRP==>nsubj==>xxxx==>True==>True\n",
      "are==>be==>VERB==>VBP==>ccomp==>xxx==>True==>True\n",
      ".==>.==>PUNCT==>.==>punct==>.==>False==>False\n"
     ]
    }
   ],
   "source": [
    "for token in doc:\n",
    "    print(token.text, token.lemma_, token.pos_, token.tag_,\n",
    "         token.dep_, token.shape_, token.is_alpha, token.is_stop, sep=\" ==> \")"
   ]
  },
  {
   "cell_type": "code",
   "execution_count": 183,
   "metadata": {},
   "outputs": [
    {
     "data": {
      "text/html": [
       "<div>\n",
       "<style scoped>\n",
       "    .dataframe tbody tr th:only-of-type {\n",
       "        vertical-align: middle;\n",
       "    }\n",
       "\n",
       "    .dataframe tbody tr th {\n",
       "        vertical-align: top;\n",
       "    }\n",
       "\n",
       "    .dataframe thead th {\n",
       "        text-align: right;\n",
       "    }\n",
       "</style>\n",
       "<table border=\"1\" class=\"dataframe\">\n",
       "  <thead>\n",
       "    <tr style=\"text-align: right;\">\n",
       "      <th></th>\n",
       "      <th>tokens</th>\n",
       "      <th>lemmas</th>\n",
       "      <th>pos</th>\n",
       "      <th>tag</th>\n",
       "      <th>dep</th>\n",
       "      <th>shape</th>\n",
       "      <th>is_alpha</th>\n",
       "      <th>is_stop</th>\n",
       "    </tr>\n",
       "  </thead>\n",
       "  <tbody>\n",
       "    <tr>\n",
       "      <th>0</th>\n",
       "      <td>galaxies</td>\n",
       "      <td>galaxy</td>\n",
       "      <td>NOUN</td>\n",
       "      <td>NNS</td>\n",
       "      <td>nsubj</td>\n",
       "      <td>xxxx</td>\n",
       "      <td>True</td>\n",
       "      <td>False</td>\n",
       "    </tr>\n",
       "    <tr>\n",
       "      <th>1</th>\n",
       "      <td>recede</td>\n",
       "      <td>recede</td>\n",
       "      <td>VERB</td>\n",
       "      <td>VBP</td>\n",
       "      <td>ROOT</td>\n",
       "      <td>xxxx</td>\n",
       "      <td>True</td>\n",
       "      <td>False</td>\n",
       "    </tr>\n",
       "    <tr>\n",
       "      <th>2</th>\n",
       "      <td>from</td>\n",
       "      <td>from</td>\n",
       "      <td>ADP</td>\n",
       "      <td>IN</td>\n",
       "      <td>prep</td>\n",
       "      <td>xxxx</td>\n",
       "      <td>True</td>\n",
       "      <td>True</td>\n",
       "    </tr>\n",
       "    <tr>\n",
       "      <th>3</th>\n",
       "      <td>us</td>\n",
       "      <td>-PRON-</td>\n",
       "      <td>PRON</td>\n",
       "      <td>PRP</td>\n",
       "      <td>pobj</td>\n",
       "      <td>xx</td>\n",
       "      <td>True</td>\n",
       "      <td>True</td>\n",
       "    </tr>\n",
       "    <tr>\n",
       "      <th>4</th>\n",
       "      <td>at</td>\n",
       "      <td>at</td>\n",
       "      <td>ADP</td>\n",
       "      <td>IN</td>\n",
       "      <td>prep</td>\n",
       "      <td>xx</td>\n",
       "      <td>True</td>\n",
       "      <td>True</td>\n",
       "    </tr>\n",
       "    <tr>\n",
       "      <th>5</th>\n",
       "      <td>speeds</td>\n",
       "      <td>speed</td>\n",
       "      <td>NOUN</td>\n",
       "      <td>NNS</td>\n",
       "      <td>compound</td>\n",
       "      <td>xxxx</td>\n",
       "      <td>True</td>\n",
       "      <td>False</td>\n",
       "    </tr>\n",
       "    <tr>\n",
       "      <th>6</th>\n",
       "      <td>proportional</td>\n",
       "      <td>proportional</td>\n",
       "      <td>ADJ</td>\n",
       "      <td>JJ</td>\n",
       "      <td>pobj</td>\n",
       "      <td>xxxx</td>\n",
       "      <td>True</td>\n",
       "      <td>False</td>\n",
       "    </tr>\n",
       "    <tr>\n",
       "      <th>7</th>\n",
       "      <td>to</td>\n",
       "      <td>to</td>\n",
       "      <td>ADP</td>\n",
       "      <td>IN</td>\n",
       "      <td>prep</td>\n",
       "      <td>xx</td>\n",
       "      <td>True</td>\n",
       "      <td>True</td>\n",
       "    </tr>\n",
       "    <tr>\n",
       "      <th>8</th>\n",
       "      <td>their</td>\n",
       "      <td>-PRON-</td>\n",
       "      <td>ADJ</td>\n",
       "      <td>PRP$</td>\n",
       "      <td>poss</td>\n",
       "      <td>xxxx</td>\n",
       "      <td>True</td>\n",
       "      <td>True</td>\n",
       "    </tr>\n",
       "    <tr>\n",
       "      <th>9</th>\n",
       "      <td>distances</td>\n",
       "      <td>distance</td>\n",
       "      <td>NOUN</td>\n",
       "      <td>NNS</td>\n",
       "      <td>pobj</td>\n",
       "      <td>xxxx</td>\n",
       "      <td>True</td>\n",
       "      <td>False</td>\n",
       "    </tr>\n",
       "    <tr>\n",
       "      <th>10</th>\n",
       "      <td>,</td>\n",
       "      <td>,</td>\n",
       "      <td>PUNCT</td>\n",
       "      <td>,</td>\n",
       "      <td>punct</td>\n",
       "      <td>,</td>\n",
       "      <td>False</td>\n",
       "      <td>False</td>\n",
       "    </tr>\n",
       "    <tr>\n",
       "      <th>11</th>\n",
       "      <td>going</td>\n",
       "      <td>go</td>\n",
       "      <td>VERB</td>\n",
       "      <td>VBG</td>\n",
       "      <td>advcl</td>\n",
       "      <td>xxxx</td>\n",
       "      <td>True</td>\n",
       "      <td>False</td>\n",
       "    </tr>\n",
       "    <tr>\n",
       "      <th>12</th>\n",
       "      <td>faster</td>\n",
       "      <td>fast</td>\n",
       "      <td>ADV</td>\n",
       "      <td>RBR</td>\n",
       "      <td>advmod</td>\n",
       "      <td>xxxx</td>\n",
       "      <td>True</td>\n",
       "      <td>False</td>\n",
       "    </tr>\n",
       "    <tr>\n",
       "      <th>13</th>\n",
       "      <td>the</td>\n",
       "      <td>the</td>\n",
       "      <td>DET</td>\n",
       "      <td>DT</td>\n",
       "      <td>det</td>\n",
       "      <td>xxx</td>\n",
       "      <td>True</td>\n",
       "      <td>True</td>\n",
       "    </tr>\n",
       "    <tr>\n",
       "      <th>14</th>\n",
       "      <td>farther</td>\n",
       "      <td>far</td>\n",
       "      <td>ADV</td>\n",
       "      <td>RB</td>\n",
       "      <td>advmod</td>\n",
       "      <td>xxxx</td>\n",
       "      <td>True</td>\n",
       "      <td>False</td>\n",
       "    </tr>\n",
       "    <tr>\n",
       "      <th>15</th>\n",
       "      <td>away</td>\n",
       "      <td>away</td>\n",
       "      <td>ADV</td>\n",
       "      <td>RB</td>\n",
       "      <td>advmod</td>\n",
       "      <td>xxxx</td>\n",
       "      <td>True</td>\n",
       "      <td>False</td>\n",
       "    </tr>\n",
       "    <tr>\n",
       "      <th>16</th>\n",
       "      <td>they</td>\n",
       "      <td>-PRON-</td>\n",
       "      <td>PRON</td>\n",
       "      <td>PRP</td>\n",
       "      <td>nsubj</td>\n",
       "      <td>xxxx</td>\n",
       "      <td>True</td>\n",
       "      <td>True</td>\n",
       "    </tr>\n",
       "    <tr>\n",
       "      <th>17</th>\n",
       "      <td>are</td>\n",
       "      <td>be</td>\n",
       "      <td>VERB</td>\n",
       "      <td>VBP</td>\n",
       "      <td>ccomp</td>\n",
       "      <td>xxx</td>\n",
       "      <td>True</td>\n",
       "      <td>True</td>\n",
       "    </tr>\n",
       "    <tr>\n",
       "      <th>18</th>\n",
       "      <td>.</td>\n",
       "      <td>.</td>\n",
       "      <td>PUNCT</td>\n",
       "      <td>.</td>\n",
       "      <td>punct</td>\n",
       "      <td>.</td>\n",
       "      <td>False</td>\n",
       "      <td>False</td>\n",
       "    </tr>\n",
       "  </tbody>\n",
       "</table>\n",
       "</div>"
      ],
      "text/plain": [
       "          tokens        lemmas    pos   tag       dep shape  is_alpha  is_stop\n",
       "0       galaxies        galaxy   NOUN   NNS     nsubj  xxxx      True    False\n",
       "1         recede        recede   VERB   VBP      ROOT  xxxx      True    False\n",
       "2           from          from    ADP    IN      prep  xxxx      True     True\n",
       "3             us        -PRON-   PRON   PRP      pobj    xx      True     True\n",
       "4             at            at    ADP    IN      prep    xx      True     True\n",
       "5         speeds         speed   NOUN   NNS  compound  xxxx      True    False\n",
       "6   proportional  proportional    ADJ    JJ      pobj  xxxx      True    False\n",
       "7             to            to    ADP    IN      prep    xx      True     True\n",
       "8          their        -PRON-    ADJ  PRP$      poss  xxxx      True     True\n",
       "9      distances      distance   NOUN   NNS      pobj  xxxx      True    False\n",
       "10             ,             ,  PUNCT     ,     punct     ,     False    False\n",
       "11         going            go   VERB   VBG     advcl  xxxx      True    False\n",
       "12        faster          fast    ADV   RBR    advmod  xxxx      True    False\n",
       "13           the           the    DET    DT       det   xxx      True     True\n",
       "14       farther           far    ADV    RB    advmod  xxxx      True    False\n",
       "15          away          away    ADV    RB    advmod  xxxx      True    False\n",
       "16          they        -PRON-   PRON   PRP     nsubj  xxxx      True     True\n",
       "17           are            be   VERB   VBP     ccomp   xxx      True     True\n",
       "18             .             .  PUNCT     .     punct     .     False    False"
      ]
     },
     "execution_count": 183,
     "metadata": {},
     "output_type": "execute_result"
    }
   ],
   "source": [
    "#lets view this parsing in Pandas dataframe\n",
    "\n",
    "tokens = [token.text for token in doc]\n",
    "lemmas = [token.lemma_ for token in doc]\n",
    "pos = [token.pos_ for token in doc]\n",
    "tag = [token.tag_ for token in doc]\n",
    "dep = [token.dep_ for token in doc]\n",
    "shape = [token.shape_ for token in doc]\n",
    "is_alpha = [token.is_alpha for token in doc]\n",
    "is_stop = [token.is_stop for token in doc]\n",
    "\n",
    "pd.DataFrame({\"tokens\":tokens, \"lemmas\":lemmas, \"pos\":pos, \"tag\":tag, \n",
    "             \"dep\": dep, \"shape\":shape, \"is_alpha\":is_alpha, \"is_stop\":is_stop}, \n",
    "             columns=[\"tokens\", \"lemmas\", \"pos\", \"tag\", \"dep\", \"shape\", \"is_alpha\", \"is_stop\"])"
   ]
  },
  {
   "cell_type": "markdown",
   "metadata": {},
   "source": [
    "- **NER**: Named entities are available as the ***ents*** property of a doc:"
   ]
  },
  {
   "cell_type": "code",
   "execution_count": 237,
   "metadata": {},
   "outputs": [
    {
     "name": "stdout",
     "output_type": "stream",
     "text": [
      "Steve Jobs PERSON\n",
      "Apple Inc. ORG\n",
      "San Francisco GPE\n"
     ]
    }
   ],
   "source": [
    "en = spacy.load('en')\n",
    "doc = en(\"Steve Jobs, the CEO of Apple Inc. is living in San Francisco.\")\n",
    "\n",
    "for ent in doc.ents:\n",
    "    print(ent.text, ent.label_)"
   ]
  },
  {
   "cell_type": "markdown",
   "metadata": {},
   "source": [
    "We see that, without applying any other procedure, with just a few lines of code, Steve and Jobs are recognized as a whole person."
   ]
  },
  {
   "cell_type": "markdown",
   "metadata": {},
   "source": [
    "### Topic Modeling"
   ]
  },
  {
   "cell_type": "markdown",
   "metadata": {},
   "source": [
    "Topic modeling is a process of automatically identifying the topics present in a text corpus, it derives the hidden patterns among the words in the corpus in an unsupervised manner. Topics are defined as “a repeating pattern of co-occurring terms in a corpus”. Topic modelling can be described as a method for finding a group of words (i.e topic) from a collection of documents that best represents the information in the collection.\n",
    "\n",
    "As the name suggests, it is a process to automatically identify topics present in a text object and to derive hidden patterns exhibited by a text corpus. Thus, assisting better decision making. \n",
    "\n",
    "Topic Modelling is different from rule-based text mining approaches that use regular expressions or dictionary based keyword searching techniques. It is an unsupervised approach used for finding and observing the bunch of words (called “topics”) in large clusters of texts.\n",
    "\n",
    "A good topic model results in – “health”, “doctor”, “patient”, “hospital” for a topic – Healthcare, and “farm”, “crops”, “wheat” for a topic – “Farming”.\n",
    "\n",
    "Topic Models are very useful for the purpose for document clustering, organizing large blocks of textual data, information retrieval from unstructured text and feature selection. For Example – New York Times are using topic models to boost their user – article recommendation engines. Various professionals are using topic models for recruitment industries where they aim to extract latent features of job descriptions and map them to right candidates. They are being used to organize large datasets of emails, customer reviews, and user social media profiles.\n",
    "\n",
    "There are many approaches for obtaining topics from a text such as – Term Frequency and Inverse Document Frequency (TfIdf). NonNegative Matrix Factorization techniques. Latent Dirichlet Allocation(LDA) is the most popular topic modeling technique.\n",
    "\n",
    "LDA assumes documents are produced from a mixture of topics. Those topics then generate words based on their probability distribution. Given a dataset of documents, LDA backtracks and tries to figure out what topics would create those documents in the first place."
   ]
  },
  {
   "cell_type": "code",
   "execution_count": 143,
   "metadata": {},
   "outputs": [],
   "source": [
    "# lets see how it works with the following sentences.\n",
    "\n",
    "doc1 = \"I have big exam tomorrow and I need to study hard to get a good grade.\"\n",
    "doc2 = \"My wife likes to go out with me but I prefer staying at home and studying.\"\n",
    "doc3 = \"Kids are playing football in the field and they seem to have fun\"\n",
    "doc4 = \"Sometimes I feel depressed while driving and it's hard to focus on the road.\"\n",
    "doc5 = \"I usually prefer reading at home but my wife prefers watching a TV.\"\n",
    "\n",
    "# array of documents aka corpus\n",
    "corpus = [doc1, doc2, doc3, doc4, doc5]"
   ]
  },
  {
   "cell_type": "code",
   "execution_count": 144,
   "metadata": {},
   "outputs": [
    {
     "data": {
      "text/plain": [
       "[['big', 'exam', 'tomorrow', 'need', 'study', 'hard', 'get', 'good', 'grade'],\n",
       " ['wife', 'likes', 'go', 'prefer', 'staying', 'home', 'studying'],\n",
       " ['kids', 'playing', 'football', 'field', 'seem', 'fun'],\n",
       " ['sometimes', 'feel', 'depressed', 'driving', 'hard', 'focus', 'road'],\n",
       " ['usually', 'prefer', 'reading', 'home', 'wife', 'prefers', 'watching', 'tv']]"
      ]
     },
     "execution_count": 144,
     "metadata": {},
     "output_type": "execute_result"
    }
   ],
   "source": [
    "tokenizer = nltk.tokenize.RegexpTokenizer(r'\\w+')\n",
    "token_list = [tokenizer.tokenize(sentence.lower()) for sentence in corpus]\n",
    "\n",
    "def remove_stopwords(words):\n",
    "    return [word for word in words if word not in stop_words]\n",
    "\n",
    "tokenized_data = [remove_stopwords(token) for token in token_list]\n",
    "tokenized_data"
   ]
  },
  {
   "cell_type": "markdown",
   "metadata": {},
   "source": [
    "The LDA model discovers the different topics that the documents represent and how much of each topic is present in a document. \n",
    "\n",
    "Python provides many great libraries for text mining practices, “gensim” is one such clean and beautiful library to handle text data. It is scalable, robust and efficient. Following code shows how to convert a corpus into a document-term matrix."
   ]
  },
  {
   "cell_type": "code",
   "execution_count": 162,
   "metadata": {},
   "outputs": [
    {
     "name": "stdout",
     "output_type": "stream",
     "text": [
      "Topic #0: 0.054*\"hard\" + 0.054*\"wife\" + 0.054*\"tv\" + 0.054*\"grade\" + 0.054*\"watching\"\n",
      "Topic #1: 0.118*\"kids\" + 0.118*\"playing\" + 0.118*\"football\" + 0.118*\"field\" + 0.118*\"seem\"\n",
      "Topic #2: 0.107*\"sometimes\" + 0.107*\"focus\" + 0.107*\"road\" + 0.107*\"driving\" + 0.107*\"feel\"\n",
      "Topic #3: 0.030*\"home\" + 0.030*\"wife\" + 0.030*\"prefer\" + 0.030*\"hard\" + 0.030*\"field\"\n",
      "Topic #4: 0.030*\"prefer\" + 0.030*\"home\" + 0.030*\"hard\" + 0.030*\"wife\" + 0.030*\"playing\"\n",
      "Topic #5: 0.103*\"studying\" + 0.101*\"likes\" + 0.101*\"go\" + 0.096*\"home\" + 0.094*\"wife\"\n",
      "Topic #6: 0.030*\"prefer\" + 0.030*\"home\" + 0.030*\"hard\" + 0.030*\"prefers\" + 0.030*\"seem\"\n",
      "Topic #7: 0.092*\"prefer\" + 0.085*\"staying\" + 0.080*\"wife\" + 0.078*\"home\" + 0.070*\"go\"\n",
      "Topic #8: 0.030*\"home\" + 0.030*\"prefer\" + 0.030*\"wife\" + 0.030*\"football\" + 0.030*\"field\"\n",
      "Topic #9: 0.030*\"hard\" + 0.030*\"prefer\" + 0.030*\"home\" + 0.030*\"wife\" + 0.030*\"staying\"\n"
     ]
    }
   ],
   "source": [
    "from gensim import corpora, models\n",
    "\n",
    "# Build a Dictionary - association word to numeric id\n",
    "dictionary = corpora.Dictionary(tokenized_data)\n",
    " \n",
    "# Transform the collection of texts to a numerical form\n",
    "corpus = [dictionary.doc2bow(text) for text in tokenized_data]\n",
    "\n",
    "# We are asking LDA to find 10 topics in the data\n",
    "lda_model = models.LdaModel(corpus=corpus, num_topics=10, id2word=dictionary)\n",
    "\n",
    "for idx in range(10):\n",
    "    # Print the first 10 most representative topics\n",
    "    print(\"Topic #%s:\" % idx, lda_model.print_topic(idx, 5))\n"
   ]
  },
  {
   "cell_type": "markdown",
   "metadata": {},
   "source": [
    "Since we trained and built our LDA model over the five simple sentences, whenever we want to detect the topic of a new sentence or text, we'll at first prepare the text and then push that into our model to get a topic. Let's try to predict a topic for a new sentence."
   ]
  },
  {
   "cell_type": "code",
   "execution_count": 163,
   "metadata": {},
   "outputs": [
    {
     "data": {
      "text/plain": [
       "[(0, 0.033337917),\n",
       " (1, 0.03333333),\n",
       " (2, 0.03333333),\n",
       " (3, 0.033333335),\n",
       " (4, 0.033333335),\n",
       " (5, 0.6999899),\n",
       " (6, 0.033333335),\n",
       " (7, 0.033338852),\n",
       " (8, 0.033333335),\n",
       " (9, 0.033333335)]"
      ]
     },
     "execution_count": 163,
     "metadata": {},
     "output_type": "execute_result"
    }
   ],
   "source": [
    "new_sentence = \"My wife plans to go out tonight\"\n",
    "lda_model.get_document_topics(dictionary.doc2bow(new_sentence.split()))"
   ]
  },
  {
   "cell_type": "markdown",
   "metadata": {},
   "source": [
    "as you can see, topic-5 (listed above) is the most relevant topic for this sentence. \n",
    "\n",
    "Topic #5: 0.103*\"studying\" + 0.101*\"likes\" + 0.101*\"go\" + 0.096*\"home\" + 0.094*\"wife\""
   ]
  }
 ],
 "metadata": {
  "kernelspec": {
   "display_name": "Python 3",
   "language": "python",
   "name": "python3"
  },
  "language_info": {
   "codemirror_mode": {
    "name": "ipython",
    "version": 3
   },
   "file_extension": ".py",
   "mimetype": "text/x-python",
   "name": "python",
   "nbconvert_exporter": "python",
   "pygments_lexer": "ipython3",
   "version": "3.7.1"
  }
 },
 "nbformat": 4,
 "nbformat_minor": 2
}
